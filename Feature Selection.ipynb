{
 "cells": [
  {
   "cell_type": "code",
   "execution_count": 116,
   "metadata": {},
   "outputs": [],
   "source": [
    "import matplotlib.pyplot as plt\n",
    "import numpy as np\n",
    "import pandas as pd\n",
    "from sklearn import datasets, metrics\n",
    "from sklearn.ensemble import RandomForestClassifier\n",
    "from sklearn.linear_model import LogisticRegression, RidgeClassifier\n",
    "from sklearn.model_selection import train_test_split\n",
    "from sklearn.svm import SVC\n",
    "from sklearn.tree import DecisionTreeClassifier\n",
    "from tabulate import tabulate\n",
    "from tqdm.auto import tqdm\n",
    "import seaborn as sns\n",
    "\n",
    "import wandb\n"
   ]
  },
  {
   "cell_type": "code",
   "execution_count": 132,
   "metadata": {},
   "outputs": [],
   "source": [
    "sns.set_theme()\n",
    "plt.rc('figure', figsize=(8, 4), dpi=100)"
   ]
  },
  {
   "cell_type": "markdown",
   "metadata": {},
   "source": [
    "\n",
    "# Set up Weights & Biases tracking\n",
    "\n",
    "To make this interesting, we're tracking everyone's progress via W&B. Don't worry \n",
    "Please replace `<Your name here>` by your own name (or a nickname).\n",
    "\n",
    "If you just want to play around without uploading your runs, set `offline` to `True`"
   ]
  },
  {
   "cell_type": "code",
   "execution_count": 3,
   "metadata": {},
   "outputs": [],
   "source": [
    "# Used for identifying runs on the W&B dashboard\n",
    "# name = \"<Your name here>\"\n",
    "name = \"Vincent Brouwers\"\n",
    "\n",
    "# Whether or not to upload runs to W&B\n",
    "upload = True\n",
    "\n",
    "# Just for tracking your\n",
    "run = 0"
   ]
  },
  {
   "cell_type": "code",
   "execution_count": 4,
   "metadata": {},
   "outputs": [],
   "source": [
    "if name == \"<Your name here>\":\n",
    "  raise Exception(\"RTFM\")"
   ]
  },
  {
   "cell_type": "markdown",
   "metadata": {},
   "source": [
    "# Load Data"
   ]
  },
  {
   "cell_type": "code",
   "execution_count": 5,
   "metadata": {},
   "outputs": [],
   "source": [
    "run += 1"
   ]
  },
  {
   "cell_type": "code",
   "execution_count": 21,
   "metadata": {},
   "outputs": [],
   "source": [
    "df = pd.read_csv(\"datasets/full.csv\")\n",
    "all_feature_names = df.iloc[:, 1:].columns.to_list()\n",
    "\n",
    "class Dataset:\n",
    "  \"\"\"\n",
    "  Just a small wrapper to emulate around Scikit-learn's built-in datasets\n",
    "  \"\"\"\n",
    "  def __init__(self, df):\n",
    "    data = df.iloc[:, 1:]\n",
    "    target = df.iloc[:, 0]\n",
    "    self.data = data.to_numpy()\n",
    "    self.target = target.to_numpy()\n",
    "    self.feature_names = data.columns.to_list()    \n",
    "    self.target_names = [\"not buggy\", \"buggy\"]\n",
    "    \n",
    "data = Dataset(df)\n",
    "\n",
    "X = data.data\n",
    "y = data.target\n",
    "feature_names = data.feature_names\n",
    "labels = data.target_names"
   ]
  },
  {
   "cell_type": "code",
   "execution_count": 22,
   "metadata": {},
   "outputs": [],
   "source": [
    "# Split data into 70% train and 30% test subsets\n",
    "\n",
    "X_train, X_test, y_train, y_test = train_test_split(\n",
    "    X,\n",
    "    y,\n",
    "    test_size=0.3,\n",
    "    shuffle=False,\n",
    ")\n"
   ]
  },
  {
   "cell_type": "markdown",
   "metadata": {},
   "source": [
    "## Defining our models\n",
    "\n",
    "The value of features can differ greatly between models, which is why we test across a number of common and easy-to-train ones. We also look at the effect of regularization, as this can also affect the impact of feature selection.\n",
    "\n",
    "* Decision Tree\n",
    "* Random Forrest\n",
    "* Logistic Regression\n",
    "* Logistic Regression (with L1 regularization)\n",
    "* Logistic Regression (with L2 regularization)\n",
    "\n",
    "\n",
    "_There is no need to change anything here. These are just helper functions to quickly test our data_"
   ]
  },
  {
   "cell_type": "code",
   "execution_count": 76,
   "metadata": {},
   "outputs": [],
   "source": [
    "def test_classifier(clf, feature_indices, log=False, log_wandb=False, clf_suffix=\"\"):\n",
    "    clf.fit(X_train[:, feature_indices], y_train)\n",
    "\n",
    "    # predicted = clf.predict(X_test)\n",
    "    y_probas = clf.predict_proba(X_test[:, feature_indices])\n",
    "    y_pred = y_probas.argmax(axis=1)\n",
    "\n",
    "    clfname = clf.__class__.__name__ + clf_suffix\n",
    "    scores = {\n",
    "        f\"{clfname}_Accuracy\": metrics.accuracy_score(y_test, y_pred),\n",
    "        f\"{clfname}_F1\": metrics.f1_score(y_test, y_pred),\n",
    "        f\"{clfname}_Precision\": metrics.precision_score(y_test, y_pred),\n",
    "        f\"{clfname}_Recall\": metrics.recall_score(y_test, y_pred),\n",
    "    }\n",
    "    if log:\n",
    "        print(tabulate(scores.items()))\n",
    "    if log_wandb:\n",
    "        wandb.log(scores)\n",
    "\n",
    "    return scores, y_probas\n",
    "  \n",
    "def test_selection(feature_indices, log=True, log_wandb=False):\n",
    "    kwargs = dict(feature_indices=feature_indices, log=False, log_wandb=False)\n",
    "    \n",
    "    classifiers = [\n",
    "        (DecisionTreeClassifier(), ),\n",
    "        (RandomForestClassifier(n_estimators=200, min_samples_leaf=10, max_depth=20), ),\n",
    "        # (SVC(gamma=\"auto\", probability=True), ),\n",
    "        (LogisticRegression(max_iter=1000), ),\n",
    "        (LogisticRegression(max_iter=1000, penalty=\"l1\", solver=\"liblinear\"), \"_l1\"),\n",
    "        (LogisticRegression(max_iter=1000, penalty=\"l2\"), \"_l2\"),\n",
    "    ]\n",
    "    classifiers = [(c[0], c[0].__class__.__name__ + (c[1] if len(c) > 1 else \"\")) for c in classifiers]\n",
    "\n",
    "    table = []\n",
    "    for classifier, name in tqdm(classifiers, smoothing=0):\n",
    "        scores, _ = test_classifier(classifier, feature_indices=feature_indices)\n",
    "        table.append([name, *scores.values()])\n",
    "\n",
    "    print(tabulate(table, headers=[\"Classifier\", \"Accuracy\", \"F1\", \"Precision\", \"Recall\"]))"
   ]
  },
  {
   "cell_type": "markdown",
   "metadata": {},
   "source": [
    "## Feature Selection"
   ]
  },
  {
   "cell_type": "markdown",
   "metadata": {},
   "source": [
    "### Variance Threshold\n",
    "\n",
    "A simple method to filter out superfluous features, is to remove ones with a low variance. The idea here is that these features offer relatively little information."
   ]
  },
  {
   "cell_type": "code",
   "execution_count": 77,
   "metadata": {},
   "outputs": [
    {
     "name": "stdout",
     "output_type": "stream",
     "text": [
      "Selected 19/23 features: \n",
      "['h1' 'h2' 'N1' 'N2' 'complexity' 'loc' 'lloc' 'sloc' 'comments' 'multi'\n",
      " 'blank' 'single_comments' 'no_of_files' 'no_of_added_files'\n",
      " 'no_of_added_python_files' 'no_of_modified_files'\n",
      " 'no_of_modified_python_files' 'no_of_deleted_files'\n",
      " 'no_of_deleted_python_files']\n"
     ]
    },
    {
     "name": "stderr",
     "output_type": "stream",
     "text": [
      "100%|██████████| 5/5 [00:01<00:00,  3.07it/s]"
     ]
    },
    {
     "name": "stdout",
     "output_type": "stream",
     "text": [
      "Classifier                Accuracy        F1    Precision    Recall\n",
      "----------------------  ----------  --------  -----------  --------\n",
      "DecisionTreeClassifier    0.824698  0.225386     0.140118  0.575758\n",
      "RandomForestClassifier    0.838389  0.271186     0.16944   0.678788\n",
      "LogisticRegression        0.917047  0.33833      0.261589  0.478788\n",
      "LogisticRegression_l1     0.917047  0.33833      0.261589  0.478788\n",
      "LogisticRegression_l2     0.917047  0.33833      0.261589  0.478788\n"
     ]
    },
    {
     "name": "stderr",
     "output_type": "stream",
     "text": [
      "\n"
     ]
    }
   ],
   "source": [
    "from sklearn.feature_selection import VarianceThreshold\n",
    "\n",
    "var = VarianceThreshold(threshold=0.3)\n",
    "\n",
    "var.fit(X_train)\n",
    "\n",
    "used_features = var.get_support()\n",
    "used_feature_names = var.get_feature_names_out(data.feature_names)\n",
    "print(f\"Selected {sum(used_features)}/{len(feature_names)} features: \\n{used_feature_names}\")\n",
    "\n",
    "# X_reduced = var.transform(X_train)\n",
    "test_selection(used_features)\n"
   ]
  },
  {
   "cell_type": "markdown",
   "metadata": {},
   "source": [
    "### From model\n",
    "\n",
    "Some models have built-in methods of extracting the importance of each feature. This allows us to easily remove the fields that our model extracts the least amount of information from"
   ]
  },
  {
   "cell_type": "code",
   "execution_count": 144,
   "metadata": {},
   "outputs": [
    {
     "name": "stdout",
     "output_type": "stream",
     "text": [
      "Selected 18/23 features: \n",
      "['h1' 'h2' 'N1' 'N2' 'complexity' 'loc' 'lloc' 'sloc' 'comments' 'multi'\n",
      " 'blank' 'single_comments' 'no_of_files' 'no_of_added_files'\n",
      " 'no_of_modified_files' 'no_of_modified_python_files'\n",
      " 'no_of_deleted_files' 'no_of_deleted_python_files']\n"
     ]
    },
    {
     "name": "stderr",
     "output_type": "stream",
     "text": [
      "100%|██████████| 5/5 [00:01<00:00,  2.95it/s]\n"
     ]
    },
    {
     "name": "stdout",
     "output_type": "stream",
     "text": [
      "Classifier                Accuracy        F1    Precision    Recall\n",
      "----------------------  ----------  --------  -----------  --------\n",
      "DecisionTreeClassifier    0.826577  0.227273     0.14158   0.575758\n",
      "RandomForestClassifier    0.837047  0.269555     0.168168  0.678788\n",
      "LogisticRegression        0.917315  0.324561     0.254296  0.448485\n",
      "LogisticRegression_l1     0.917315  0.324561     0.254296  0.448485\n",
      "LogisticRegression_l2     0.917315  0.324561     0.254296  0.448485\n"
     ]
    },
    {
     "data": {
      "image/png": "[encoded data removed]",
      "text/plain": [
       "<Figure size 1000x600 with 1 Axes>"
      ]
     },
     "metadata": {},
     "output_type": "display_data"
    }
   ],
   "source": [
    "from sklearn.feature_selection import SelectFromModel\n",
    "\n",
    "clf = RandomForestClassifier(n_estimators=200).fit(X_train, y_train)\n",
    "\n",
    "plt.figure(figsize=(10, 6))\n",
    "plt.barh(feature_names, clf.feature_importances_)\n",
    "\n",
    "selector = SelectFromModel(clf, threshold=\"0.2 * mean\", prefit=True)\n",
    "\n",
    "used_features = selector.get_support()\n",
    "used_feature_names = selector.get_feature_names_out(data.feature_names)\n",
    "print(f\"Selected {sum(used_features)}/{len(feature_names)} features: \\n{used_feature_names}\")\n",
    "\n",
    "test_selection(used_features)"
   ]
  },
  {
   "cell_type": "code",
   "execution_count": 78,
   "metadata": {},
   "outputs": [
    {
     "data": {
      "text/html": [
       "\n",
       "                    Syncing run <strong><a href=\"https://wandb.ai/vincentbrouwers/sogeti-hackathon-feature-selection/runs/3ekm15x3\" target=\"_blank\">Vincent Brouwers-run 4</a></strong> to <a href=\"https://wandb.ai/vincentbrouwers/sogeti-hackathon-feature-selection\" target=\"_blank\">Weights & Biases</a> (<a href=\"https://docs.wandb.com/integrations/jupyter.html\" target=\"_blank\">docs</a>).<br/>\n",
       "\n",
       "                "
      ],
      "text/plain": [
       "<IPython.core.display.HTML object>"
      ]
     },
     "metadata": {},
     "output_type": "display_data"
    },
    {
     "data": {
      "text/html": [
       "<br/>Waiting for W&B process to finish, PID 29882... <strong style=\"color:green\">(success).</strong>"
      ],
      "text/plain": [
       "<IPython.core.display.HTML object>"
      ]
     },
     "metadata": {},
     "output_type": "display_data"
    },
    {
     "data": {
      "text/html": [
       "<style>\n",
       "    table.wandb td:nth-child(1) { padding: 0 10px; text-align: right }\n",
       "    .wandb-row { display: flex; flex-direction: row; flex-wrap: wrap; width: 100% }\n",
       "    .wandb-col { display: flex; flex-direction: column; flex-basis: 100%; flex: 1; padding: 10px; }\n",
       "    </style>\n",
       "<div class=\"wandb-row\"><div class=\"wandb-col\">\n",
       "<h3>Run history:</h3><br/><table class=\"wandb\"><tr><td>feature_count</td><td>▁</td></tr></table><br/></div><div class=\"wandb-col\">\n",
       "<h3>Run summary:</h3><br/><table class=\"wandb\"><tr><td>feature_count</td><td>19</td></tr></table>\n",
       "</div></div>\n",
       "Synced 5 W&B file(s), 3 media file(s), 3 artifact file(s) and 0 other file(s)\n",
       "<br/>Synced <strong style=\"color:#cdcd00\">Vincent Brouwers-run 4</strong>: <a href=\"https://wandb.ai/vincentbrouwers/sogeti-hackathon-feature-selection/runs/3ekm15x3\" target=\"_blank\">https://wandb.ai/vincentbrouwers/sogeti-hackathon-feature-selection/runs/3ekm15x3</a><br/>\n",
       "Find logs at: <code>./wandb/run-20220118_123734-3ekm15x3/logs</code><br/>\n"
      ],
      "text/plain": [
       "<IPython.core.display.HTML object>"
      ]
     },
     "metadata": {},
     "output_type": "display_data"
    }
   ],
   "source": [
    "# %%wandb\n",
    "\n",
    "# run += 1\n",
    "\n",
    "# used_features = [[name, name in all_feature_names] for name in data.feature_names]\n",
    "used_features = {name: name in data.feature_names for name in all_feature_names}\n",
    "\n",
    "wandb.init(\n",
    "    project=\"sogeti-hackathon-feature-selection\",\n",
    "    entity=\"vincentbrouwers\",\n",
    "    name=f\"{name}-run {run}\",\n",
    "    anonymous=\"allow\",\n",
    "    tags=dict(name=name, run=run),\n",
    "    mode=\"online\" if upload else \"offline\",\n",
    "    config=dict(features=used_features)\n",
    ")\n",
    "\n",
    "y_probas = clf.predict_proba(X_test)\n",
    "y_pred = y_probas.argmax(axis=1)    \n",
    "\n",
    "# wandb.log(\n",
    "#     {\n",
    "#         \"conf_mat\": wandb.plot.confusion_matrix(\n",
    "#             y_probas, y_test, class_names=data.target_names\n",
    "#         )\n",
    "#     }\n",
    "# )\n",
    "# wandb.log()\n",
    "wandb.log(\n",
    "    {\n",
    "        \"feature_count\": len(data.feature_names),\n",
    "        \"used_features\": wandb.Table(\n",
    "            columns=[\"feature\", \"used\"],\n",
    "            # Just temporary until I have an actual method of filtering features\n",
    "            data=list(used_features.items()),\n",
    "        ),\n",
    "        \"roc\": wandb.plot.roc_curve(y_test, y_probas, data.target_names),\n",
    "        \"pr\": wandb.plot.pr_curve(y_test, y_probas, data.target_names),\n",
    "    }\n",
    ")\n",
    "\n",
    "wandb.finish()\n"
   ]
  },
  {
   "cell_type": "markdown",
   "metadata": {},
   "source": [
    "## Test your solution\n",
    "\n",
    "At the end of the hackathon, you will all receive a withheld test set to test your solutions on. You will be scored on how many features you use and the accuracy difference of our models after training on your reduced feature set."
   ]
  },
  {
   "cell_type": "markdown",
   "metadata": {},
   "source": []
  },
  {
   "cell_type": "code",
   "execution_count": null,
   "metadata": {},
   "outputs": [],
   "source": []
  }
 ],
 "metadata": {
  "interpreter": {
   "hash": "194a1ef71cbe383bb0e91fd20851e850791a3f40c244816884283bb052247dec"
  },
  "kernelspec": {
   "display_name": "Python 3.10.2 64-bit ('hackathon-feature-selection': conda)",
   "language": "python",
   "name": "python3"
  },
  "language_info": {
   "codemirror_mode": {
    "name": "ipython",
    "version": 3
   },
   "file_extension": ".py",
   "mimetype": "text/x-python",
   "name": "python",
   "nbconvert_exporter": "python",
   "pygments_lexer": "ipython3",
   "version": "3.10.2"
  },
  "orig_nbformat": 4
 },
 "nbformat": 4,
 "nbformat_minor": 2
}
