{
 "cells": [
  {
   "cell_type": "markdown",
   "metadata": {},
   "source": [
    "# Hackathon"
   ]
  },
  {
   "cell_type": "markdown",
   "metadata": {},
   "source": [
    "## Set up notebook"
   ]
  },
  {
   "cell_type": "code",
   "execution_count": 103,
   "metadata": {},
   "outputs": [],
   "source": [
    "from collections import defaultdict\n",
    "\n",
    "import matplotlib.pyplot as plt\n",
    "import numpy as np\n",
    "import pandas as pd\n",
    "import seaborn as sns\n",
    "from sklearn import datasets, metrics\n",
    "from sklearn.ensemble import RandomForestClassifier\n",
    "from sklearn.linear_model import LogisticRegression\n",
    "from sklearn.model_selection import train_test_split\n",
    "from sklearn.neighbors import KNeighborsClassifier\n",
    "from sklearn.svm import SVC\n",
    "from sklearn.tree import DecisionTreeClassifier\n",
    "from sklearn.utils.class_weight import compute_class_weight\n",
    "from tabulate import tabulate\n",
    "from tqdm.auto import tqdm\n",
    "\n",
    "import wandb\n"
   ]
  },
  {
   "cell_type": "code",
   "execution_count": 2,
   "metadata": {},
   "outputs": [],
   "source": [
    "sns.set_theme()\n",
    "plt.rc('figure', figsize=(8, 4), dpi=100)"
   ]
  },
  {
   "cell_type": "markdown",
   "metadata": {},
   "source": [
    "\n",
    "### Set up Weights & Biases tracking\n",
    "\n",
    "To make this interesting, we're tracking everyone's progress via W&B. Don't worry \n",
    "Please replace `<Your name here>` by your own name (or a nickname).\n",
    "\n",
    "If you just want to play around without uploading your runs, set `offline` to `True`"
   ]
  },
  {
   "cell_type": "code",
   "execution_count": 3,
   "metadata": {},
   "outputs": [],
   "source": [
    "# Used for identifying runs on the W&B dashboard\n",
    "# name = \"<Your name here>\"\n",
    "name = \"Vincent Brouwers\"\n",
    "\n",
    "# Whether or not to upload runs to W&B\n",
    "upload = False\n",
    "\n",
    "# Just for tracking your\n",
    "run = 0"
   ]
  },
  {
   "cell_type": "code",
   "execution_count": 98,
   "metadata": {},
   "outputs": [],
   "source": [
    "if name == \"<Your name here>\":\n",
    "  raise Exception(\"RTFM\")"
   ]
  },
  {
   "cell_type": "markdown",
   "metadata": {},
   "source": [
    "## Load Data"
   ]
  },
  {
   "cell_type": "code",
   "execution_count": 99,
   "metadata": {},
   "outputs": [],
   "source": [
    "# run += 1"
   ]
  },
  {
   "cell_type": "code",
   "execution_count": 100,
   "metadata": {},
   "outputs": [],
   "source": [
    "df = pd.read_csv(\"datasets/full.csv\")\n",
    "all_feature_names = df.iloc[:, 1:].columns.to_list()\n",
    "\n",
    "# class Dataset:\n",
    "#   \"\"\"\n",
    "#   Just a small wrapper to emulate around Scikit-learn's built-in datasets\n",
    "#   \"\"\"\n",
    "#   def __init__(self, df):\n",
    "#     data = df.iloc[:, 1:]\n",
    "#     target = df.iloc[:, 0]\n",
    "#     self.data = data.to_numpy()\n",
    "#     self.target = target.to_numpy()\n",
    "#     self.feature_names = data.columns.to_list()    \n",
    "#     self.target_names = [\"not buggy\", \"buggy\"]\n",
    "    \n",
    "# data = Dataset(df)\n",
    "\n",
    "X = df.iloc[:, 1:].to_numpy()\n",
    "y = df.iloc[:, 0].to_numpy()\n",
    "feature_names = df.iloc[:, 1:].columns.to_list()    \n",
    "labels = [\"not buggy\", \"buggy\"]"
   ]
  },
  {
   "cell_type": "code",
   "execution_count": 7,
   "metadata": {},
   "outputs": [],
   "source": [
    "# Split data into 70% train and 30% test subsets\n",
    "\n",
    "X_train, X_test, y_train, y_test = train_test_split(\n",
    "    X,\n",
    "    y,\n",
    "    test_size=0.3,\n",
    "    shuffle=True,\n",
    ")"
   ]
  },
  {
   "cell_type": "code",
   "execution_count": 8,
   "metadata": {},
   "outputs": [],
   "source": [
    "class_weight = compute_class_weight('balanced', classes=np.unique(y_train), y=y_train)"
   ]
  },
  {
   "cell_type": "markdown",
   "metadata": {},
   "source": [
    "## Defining our models\n",
    "\n",
    "The value of features can differ greatly between models, which is why we test across a number of common and easy-to-train ones. We also look at the effect of regularization, as this can also affect the impact of feature selection.\n",
    "\n",
    "* Decision Tree\n",
    "* Random Forrest\n",
    "* Logistic Regression\n",
    "* Logistic Regression (with L1 regularization)\n",
    "* Logistic Regression (with L2 regularization)\n",
    "\n",
    "\n",
    "_There is no need to change anything here. These are just helper functions to quickly test our data_"
   ]
  },
  {
   "cell_type": "code",
   "execution_count": 117,
   "metadata": {},
   "outputs": [],
   "source": [
    "classifiers = [\n",
    "        (DecisionTreeClassifier(), ),\n",
    "        (RandomForestClassifier(n_estimators=200, min_samples_leaf=10, max_depth=20, class_weight=\"balanced\"), ),\n",
    "        # (SVC(gamma=\"auto\", probability=True, class_weight=class_weight), ),\n",
    "        (LogisticRegression(max_iter=1000, class_weight=\"balanced\"), ),\n",
    "        (LogisticRegression(max_iter=1000, penalty=\"l1\", solver=\"liblinear\", class_weight=\"balanced\"), \"_l1\"),\n",
    "        (LogisticRegression(max_iter=1000, penalty=\"l2\", class_weight=\"balanced\"), \"_l2\"),\n",
    "        (KNeighborsClassifier(n_neighbors=15), )\n",
    "    ]\n",
    "classifiers = [(c[0], c[0].__class__.__name__ + (c[1] if len(c) > 1 else \"\")) for c in classifiers]"
   ]
  },
  {
   "cell_type": "code",
   "execution_count": 118,
   "metadata": {},
   "outputs": [],
   "source": [
    "baseline = None\n",
    "\n",
    "def test_classifier(clf, feature_indices):\n",
    "    if feature_indices is None or len(feature_indices) == 0:\n",
    "        feature_indices = list(range(X_train.shape[1]))\n",
    "    clf.fit(X_train[:, feature_indices], y_train)\n",
    "\n",
    "    # predicted = clf.predict(X_test)\n",
    "    y_probas = clf.predict_proba(X_test[:, feature_indices])\n",
    "    y_pred = y_probas.argmax(axis=1)\n",
    "\n",
    "    scores = {\n",
    "        f\"Accuracy\": metrics.accuracy_score(y_test, y_pred),\n",
    "        f\"F1\": metrics.f1_score(y_test, y_pred),\n",
    "        f\"Precision\": metrics.precision_score(y_test, y_pred),\n",
    "        f\"Recall\": metrics.recall_score(y_test, y_pred),\n",
    "    }\n",
    "    return scores, y_probas\n",
    "  \n",
    "def test_selection(feature_indices, compare=True, log=True, log_wandb=False):\n",
    "    kwargs = dict(feature_indices=feature_indices, log=False, log_wandb=False)\n",
    "    \n",
    "    scores = {}\n",
    "    table_rows = []\n",
    "    for classifier, name in tqdm(classifiers, smoothing=0):\n",
    "        scores_ = test_classifier(classifier, feature_indices=feature_indices)[0]\n",
    "        scores[name] = scores_\n",
    "        \n",
    "        row = [name]\n",
    "        row += [f\"{s:0.4f}\" + (f\"{baseline[name][m]:0.4f}\" if compare else \"\") for m, s in scores_.items()]\n",
    "        \n",
    "        table_rows.append(row)        \n",
    "\n",
    "    # for n_score, b_score in zip(scores, baseline or range(len(scores))):\n",
    "\n",
    "    #     if compare:\n",
    "    #         print(n_score)\n",
    "    #         print(b_score)\n",
    "    #         n_score = [f\"{n:0.4f} ({n - b:.04f})\" for n, b in zip(n_score, b_score)]\n",
    "                    \n",
    "    #     table.append([name, *n_score])\n",
    "    # return table\n",
    "    # print(table)\n",
    "    # print(tabulate(table, headers=[\"Classifier\", \"Accuracy\", \"F1\", \"Precision\", \"Recall\"]))   \n",
    "    # tabulate(table, headers=\"key\")\n",
    "    print(tabulate(table_rows, headers=[\"Classifier\", *scores_.keys()]))\n",
    "    \n",
    "        \n",
    "    return scores    "
   ]
  },
  {
   "cell_type": "code",
   "execution_count": 119,
   "metadata": {},
   "outputs": [],
   "source": [
    "def test_classifier(clf, feature_indices):\n",
    "    if feature_indices is None or len(feature_indices) == 0:\n",
    "        feature_indices = list(range(X_train.shape[1]))\n",
    "    clf.fit(X_train[:, feature_indices], y_train)\n",
    "\n",
    "    # predicted = clf.predict(X_test)\n",
    "    y_probas = clf.predict_proba(X_test[:, feature_indices])\n",
    "    y_pred = y_probas.argmax(axis=1)\n",
    "\n",
    "    scores = {\n",
    "        f\"Accuracy\": metrics.accuracy_score(y_test, y_pred),\n",
    "        f\"F1\": metrics.f1_score(y_test, y_pred),\n",
    "        f\"Precision\": metrics.precision_score(y_test, y_pred),\n",
    "        f\"Recall\": metrics.recall_score(y_test, y_pred),\n",
    "    }\n",
    "    return scores, y_probas\n",
    "  \n",
    "def test_selection(feature_indices, compare=None, log=True, log_wandb=False):\n",
    "    kwargs = dict(feature_indices=feature_indices, log=False, log_wandb=False)\n",
    "    \n",
    "    scores = {}\n",
    "    table = []\n",
    "    for classifier, name in tqdm(classifiers, smoothing=0):\n",
    "        scores_ = test_classifier(classifier, feature_indices=feature_indices)[0]\n",
    "        scores[name] = scores_\n",
    "        \n",
    "        row = {m: f\"{s:0.4f}\" + (f\" ({s - compare[name][m]:0.4f})\" if compare else \"\") for m, s in scores_.items()}\n",
    "        row = {\"Classifier\": name, **row}\n",
    "        # fmt = {metric: f\"{score:0.4f}\" for metric, score in scores_.items()}\n",
    "        table.append(row)\n",
    "        \n",
    "        for metric, score in scores_.items():\n",
    "            rep = f\"{score:0.4f}\"\n",
    "            if compare:\n",
    "                rep += f\" ({compare[name][metric]:0.4f})\"\n",
    "\n",
    "    print(tabulate(table, headers=\"keys\"))\n",
    "        \n",
    "    return scores    \n",
    "\n",
    "def test_selector(selector):\n",
    "    used_features = selector.get_support()\n",
    "    used_feature_names = selector.get_feature_names_out(data.feature_names)\n",
    "    print(f\"Selected {sum(used_features)}/{len(feature_names)} features: \\n{used_feature_names}\")\n",
    "\n",
    "    test_selection(used_features, compare=baseline)\n",
    "    "
   ]
  },
  {
   "cell_type": "markdown",
   "metadata": {},
   "source": [
    "## Feature Selection"
   ]
  },
  {
   "cell_type": "markdown",
   "metadata": {},
   "source": [
    "### Filtering methods"
   ]
  },
  {
   "cell_type": "code",
   "execution_count": 120,
   "metadata": {},
   "outputs": [
    {
     "data": {
      "application/vnd.jupyter.widget-view+json": {
       "model_id": "c206e28a872e4dc982127c14050f11d1",
       "version_major": 2,
       "version_minor": 0
      },
      "text/plain": [
       "  0%|          | 0/6 [00:00<?, ?it/s]"
      ]
     },
     "metadata": {},
     "output_type": "display_data"
    },
    {
     "name": "stdout",
     "output_type": "stream",
     "text": [
      "Classifier                Accuracy      F1    Precision    Recall\n",
      "----------------------  ----------  ------  -----------  --------\n",
      "DecisionTreeClassifier      0.7659  0.6029       0.6714    0.5471\n",
      "RandomForestClassifier      0.7627  0.6517       0.6227    0.6835\n",
      "LogisticRegression          0.7616  0.5854       0.6727    0.5182\n",
      "LogisticRegression_l1       0.7611  0.5837       0.6724    0.5157\n",
      "LogisticRegression_l2       0.7616  0.5854       0.6727    0.5182\n",
      "KNeighborsClassifier        0.7681  0.5769       0.7079    0.4868\n"
     ]
    }
   ],
   "source": [
    "baseline = test_selection(None, compare=False)"
   ]
  },
  {
   "cell_type": "markdown",
   "metadata": {},
   "source": [
    "#### Variance threshold\n",
    "\n",
    "A simple method to filter out superfluous features, is to remove ones with a low variance. The idea here is that these features offer relatively little information.\n",
    "\n",
    "---\n",
    "\n",
    "https://scikit-learn.org/stable/modules/generated/sklearn.feature_selection.VarianceThreshold.html"
   ]
  },
  {
   "cell_type": "code",
   "execution_count": 121,
   "metadata": {},
   "outputs": [
    {
     "name": "stdout",
     "output_type": "stream",
     "text": [
      "Selected 19/23 features: \n",
      "['h1' 'h2' 'N1' 'N2' 'complexity' 'loc' 'lloc' 'sloc' 'comments' 'multi'\n",
      " 'blank' 'single_comments' 'no_of_files' 'no_of_added_files'\n",
      " 'no_of_added_python_files' 'no_of_modified_files'\n",
      " 'no_of_modified_python_files' 'no_of_deleted_files'\n",
      " 'no_of_deleted_python_files']\n"
     ]
    },
    {
     "data": {
      "application/vnd.jupyter.widget-view+json": {
       "model_id": "b831949afa8a4a40af6fd5b0dddbbb67",
       "version_major": 2,
       "version_minor": 0
      },
      "text/plain": [
       "  0%|          | 0/6 [00:00<?, ?it/s]"
      ]
     },
     "metadata": {},
     "output_type": "display_data"
    },
    {
     "name": "stdout",
     "output_type": "stream",
     "text": [
      "Classifier              Accuracy          F1                Precision         Recall\n",
      "----------------------  ----------------  ----------------  ----------------  ----------------\n",
      "DecisionTreeClassifier  0.7656 (-0.0003)  0.6041 (0.0012)   0.6693 (-0.0021)  0.5504 (0.0033)\n",
      "RandomForestClassifier  0.7640 (0.0013)   0.6530 (0.0013)   0.6251 (0.0024)   0.6835 (0.0000)\n",
      "LogisticRegression      0.7611 (-0.0005)  0.5841 (-0.0013)  0.6720 (-0.0007)  0.5165 (-0.0017)\n",
      "LogisticRegression_l1   0.7613 (0.0003)   0.5840 (0.0003)   0.6731 (0.0007)   0.5157 (0.0000)\n",
      "LogisticRegression_l2   0.7611 (-0.0005)  0.5841 (-0.0013)  0.6720 (-0.0007)  0.5165 (-0.0017)\n",
      "KNeighborsClassifier    0.7670 (-0.0011)  0.5770 (0.0001)   0.7031 (-0.0048)  0.4893 (0.0025)\n"
     ]
    }
   ],
   "source": [
    "from sklearn.feature_selection import VarianceThreshold\n",
    "\n",
    "var = VarianceThreshold(threshold=0.3).fit(X_train)\n",
    "\n",
    "test_selector(var)"
   ]
  },
  {
   "cell_type": "markdown",
   "metadata": {},
   "source": [
    "#### Statistical corrolation threshold\n",
    "\n",
    "Another method of supervised feature filtering is to calculate corrolation statistics between each feature and the label(s). \n",
    "\n",
    "We use the chi-squared test to measure the label's (positive) dependence on features and select the best ones with various thresholding methods.\n",
    "\n",
    "---\n",
    "\n",
    "https://scikit-learn.org/stable/modules/generated/sklearn.feature_selection.SelectKBest.html<br/>\n",
    "https://scikit-learn.org/stable/modules/generated/sklearn.feature_selection.SelectPercentile.html"
   ]
  },
  {
   "cell_type": "code",
   "execution_count": 128,
   "metadata": {},
   "outputs": [
    {
     "name": "stdout",
     "output_type": "stream",
     "text": [
      "Selected 10/23 features: \n",
      "['complexity' 'loc' 'sloc' 'no_of_files' 'no_of_added_python_files'\n",
      " 'no_of_modified_files' 'no_of_modified_python_files'\n",
      " 'no_of_copied_python_files' 'no_of_deleted_files'\n",
      " 'no_of_deleted_python_files']\n"
     ]
    },
    {
     "data": {
      "application/vnd.jupyter.widget-view+json": {
       "model_id": "29f9e31a8e25467a8dac23942e7e913b",
       "version_major": 2,
       "version_minor": 0
      },
      "text/plain": [
       "  0%|          | 0/6 [00:00<?, ?it/s]"
      ]
     },
     "metadata": {},
     "output_type": "display_data"
    },
    {
     "name": "stdout",
     "output_type": "stream",
     "text": [
      "Classifier              Accuracy          F1                Precision         Recall\n",
      "----------------------  ----------------  ----------------  ----------------  ----------------\n",
      "DecisionTreeClassifier  0.7654 (-0.0005)  0.5757 (-0.0272)  0.6976 (0.0262)   0.4901 (-0.0570)\n",
      "RandomForestClassifier  0.7538 (-0.0089)  0.6439 (-0.0078)  0.6073 (-0.0154)  0.6851 (0.0017)\n",
      "LogisticRegression      0.7576 (-0.0040)  0.5686 (-0.0169)  0.6738 (0.0011)   0.4917 (-0.0264)\n",
      "LogisticRegression_l1   0.7576 (-0.0035)  0.5686 (-0.0152)  0.6738 (0.0014)   0.4917 (-0.0240)\n",
      "LogisticRegression_l2   0.7576 (-0.0040)  0.5686 (-0.0169)  0.6738 (0.0011)   0.4917 (-0.0264)\n",
      "KNeighborsClassifier    0.7689 (0.0008)   0.5790 (0.0021)   0.7090 (0.0010)   0.4893 (0.0025)\n"
     ]
    }
   ],
   "source": [
    "from sklearn.feature_selection import SelectKBest, SelectPercentile\n",
    "from sklearn.feature_selection import chi2, r_regression, mutual_info_classif\n",
    "\n",
    "# Select (k=)10 most corrolated features \n",
    "selector = SelectKBest(chi2, k=10).fit(X_train, y_train)\n",
    "\n",
    "# Select the features that hit the 50th percentile (median score or better)\n",
    "# selector = SelectPercentile(chi2, percentile=50).fit(X_train, y_train)\n",
    "\n",
    "test_selector(selector)\n"
   ]
  },
  {
   "cell_type": "code",
   "execution_count": 123,
   "metadata": {},
   "outputs": [
    {
     "data": {
      "text/plain": [
       "SelectKBest(score_func=<function chi2 at 0x7fbb176e9360>)"
      ]
     },
     "execution_count": 123,
     "metadata": {},
     "output_type": "execute_result"
    }
   ],
   "source": [
    "selector"
   ]
  },
  {
   "cell_type": "markdown",
   "metadata": {},
   "source": [
    "#### Model-specific feature importance\n",
    "\n",
    "Some models allow us to directly see the contribution of each feature. This allows us to easily remove the fields that our model extracts the least amount of information from. We always test the effect our selection methods on multiple model types. Does te type of reference model the model affect our testing models differently?\n",
    "\n",
    "---\n",
    "\n",
    "https://scikit-learn.org/stable/modules/generated/sklearn.feature_selection.SelectFromModel.html"
   ]
  },
  {
   "cell_type": "code",
   "execution_count": 125,
   "metadata": {},
   "outputs": [
    {
     "name": "stdout",
     "output_type": "stream",
     "text": [
      "Selected 5/23 features: \n",
      "['N1' 'complexity' 'no_of_added_python_files' 'no_of_deleted_python_files'\n",
      " 'author_previous_commits']\n"
     ]
    },
    {
     "data": {
      "application/vnd.jupyter.widget-view+json": {
       "model_id": "c2dd0a7bf46f474cae26bbe101a2ae57",
       "version_major": 2,
       "version_minor": 0
      },
      "text/plain": [
       "  0%|          | 0/6 [00:00<?, ?it/s]"
      ]
     },
     "metadata": {},
     "output_type": "display_data"
    },
    {
     "name": "stdout",
     "output_type": "stream",
     "text": [
      "Classifier              Accuracy          F1                Precision         Recall\n",
      "----------------------  ----------------  ----------------  ----------------  ----------------\n",
      "DecisionTreeClassifier  0.7259 (-0.0400)  0.3468 (-0.2561)  0.7677 (0.0963)   0.2240 (-0.3231)\n",
      "RandomForestClassifier  0.7101 (-0.0526)  0.4187 (-0.2330)  0.6003 (-0.0224)  0.3215 (-0.3620)\n",
      "LogisticRegression      0.6958 (-0.0658)  0.4126 (-0.1728)  0.5535 (-0.1192)  0.3289 (-0.1893)\n",
      "LogisticRegression_l1   0.6958 (-0.0652)  0.4126 (-0.1711)  0.5535 (-0.1189)  0.3289 (-0.1868)\n",
      "LogisticRegression_l2   0.6958 (-0.0658)  0.4126 (-0.1728)  0.5535 (-0.1192)  0.3289 (-0.1893)\n",
      "KNeighborsClassifier    0.7184 (-0.0497)  0.3646 (-0.2123)  0.6825 (-0.0254)  0.2488 (-0.2380)\n"
     ]
    },
    {
     "data": {
      "image/png": "[encoded data removed]",
      "text/plain": [
       "<Figure size 1000x600 with 1 Axes>"
      ]
     },
     "metadata": {},
     "output_type": "display_data"
    }
   ],
   "source": [
    "from sklearn.feature_selection import SelectFromModel\n",
    "\n",
    "plt.figure(figsize=(10, 6))\n",
    "\n",
    "# clf1 = RandomForestClassifier(n_estimators=200).fit(X_train, y_train)\n",
    "# plt.barh(feature_names, clf1.feature_importances_)\n",
    "# selector = SelectFromModel(clf1, threshold=\"1.5 * mean\", prefit=True)\n",
    "\n",
    "clf2 = LogisticRegression(max_iter=1000).fit(X_train, y_train)\n",
    "plt.barh(feature_names, clf2.coef_.flatten())\n",
    "selector = SelectFromModel(clf2, threshold=\"1 * mean\", prefit=True)\n",
    "\n",
    "\n",
    "test_selector(selector)"
   ]
  },
  {
   "cell_type": "markdown",
   "metadata": {},
   "source": [
    "### Wrapper"
   ]
  },
  {
   "cell_type": "markdown",
   "metadata": {},
   "source": [
    "#### Recursive Feature Elimination (RFE)\n",
    "\n",
    "\n",
    "RFE works in a similar fashion as the previous method, namely that it uses a model's built-in feature significance values to filter out redundant features. Where RFE differs from the \"naive\" filtering aproach, is that it only removes one feature at a time, after which the entire model is retrained again. Removal of corrolated or inter-dependent features can change the distribution of significance of the remaining features, which this approach mitigates.\n",
    "\n",
    "\n",
    "---\n",
    "\n",
    "**Example:**\n",
    "\n",
    "A simple example of how the result of RFE differs from \"naive filtering\", is when two features are 100% corrolated. Each of them may be fairly meaningful on their own, though when they're both present, their contribution has to be shared between them. This thus gives them a lower feature importance. \n",
    "\n",
    "Let's say we have a model with the following feature importances:\n",
    "\n",
    "`a=15%`, `b=20%`, `c=50%`, `d=15%`, where `a`, `b` , and `c` are fully independent of eachother, but `d` is 100% corrolated to `a`. \n",
    "\n",
    "Naïvely removing the two least contributing features, would leave us with `b=35%` and `c=65%`. If we instead first eliminate `c` (`a` is equally valid), a new model might give us these importances:\n",
    "\n",
    "`a=30%`, `b=20%`, `c=50%`\n",
    "\n",
    "This time, `b` will be purged, leaving us with\n",
    "\n",
    "`a=40%`, `c=60%`\n",
    "\n",
    "---\n",
    "\n",
    "https://scikit-learn.org/stable/modules/generated/sklearn.feature_selection.RFE.html\n"
   ]
  },
  {
   "cell_type": "code",
   "execution_count": 126,
   "metadata": {},
   "outputs": [
    {
     "name": "stdout",
     "output_type": "stream",
     "text": [
      "Fitting estimator with 23 features.\n",
      "Fitting estimator with 22 features.\n",
      "Fitting estimator with 21 features.\n",
      "Fitting estimator with 20 features.\n",
      "Fitting estimator with 19 features.\n",
      "Fitting estimator with 18 features.\n",
      "Fitting estimator with 17 features.\n",
      "Fitting estimator with 16 features.\n",
      "Fitting estimator with 15 features.\n",
      "Fitting estimator with 14 features.\n",
      "Fitting estimator with 13 features.\n",
      "Fitting estimator with 12 features.\n",
      "Fitting estimator with 11 features.\n",
      "Fitting estimator with 10 features.\n",
      "Fitting estimator with 9 features.\n",
      "Fitting estimator with 8 features.\n",
      "Fitting estimator with 7 features.\n",
      "Fitting estimator with 6 features.\n",
      "Selected 5/23 features: \n",
      "['complexity' 'no_of_added_python_files' 'no_of_modified_python_files'\n",
      " 'no_of_deleted_python_files' 'author_previous_commits']\n"
     ]
    },
    {
     "data": {
      "application/vnd.jupyter.widget-view+json": {
       "model_id": "a87f426fd42942ee88a2e95b17c3d9a3",
       "version_major": 2,
       "version_minor": 0
      },
      "text/plain": [
       "  0%|          | 0/6 [00:00<?, ?it/s]"
      ]
     },
     "metadata": {},
     "output_type": "display_data"
    },
    {
     "name": "stdout",
     "output_type": "stream",
     "text": [
      "Classifier              Accuracy          F1                Precision         Recall\n",
      "----------------------  ----------------  ----------------  ----------------  ----------------\n",
      "DecisionTreeClassifier  0.7702 (0.0043)   0.5442 (-0.0587)  0.7650 (0.0936)   0.4223 (-0.1248)\n",
      "RandomForestClassifier  0.7474 (-0.0153)  0.6045 (-0.0472)  0.6151 (-0.0077)  0.5942 (-0.0893)\n",
      "LogisticRegression      0.7616 (0.0000)   0.5569 (-0.0285)  0.7028 (0.0300)   0.4612 (-0.0570)\n",
      "LogisticRegression_l1   0.7616 (0.0005)   0.5569 (-0.0268)  0.7028 (0.0304)   0.4612 (-0.0545)\n",
      "LogisticRegression_l2   0.7616 (0.0000)   0.5569 (-0.0285)  0.7028 (0.0300)   0.4612 (-0.0570)\n",
      "KNeighborsClassifier    0.7710 (0.0030)   0.5436 (-0.0333)  0.7709 (0.0629)   0.4198 (-0.0669)\n"
     ]
    }
   ],
   "source": [
    "from sklearn.feature_selection import RFE\n",
    "\n",
    "clf = LogisticRegression(max_iter=1000)\n",
    "selector = RFE(clf, n_features_to_select=5, step=1, verbose=1)\n",
    "selector = selector.fit(X_train, y_train)\n",
    "\n",
    "test_selector(selector)"
   ]
  },
  {
   "cell_type": "markdown",
   "metadata": {},
   "source": [
    "#### Sequential Feature Selection\n",
    "\n",
    "This Sequential Feature Selector adds (forward selection) or removes (backward selection) features until the desired amount of features is reached. At each stage, it produces candidate feature sets that include (forward) or exclude (backward) one feature compared to the previous stage. The candidate sets are scored by training new models on them and only the best scoring one is kept.\n",
    "\n",
    "Forwards and backwards do not have to yield the same feature sets, though none is necessarily better. Their performance can differ depending on the amount and size of models that need to be trained to reach the desired amount of features.\n",
    "\n",
    "---\n",
    "\n",
    "https://scikit-learn.org/stable/modules/generated/sklearn.feature_selection.SequentialFeatureSelector.html"
   ]
  },
  {
   "cell_type": "code",
   "execution_count": 132,
   "metadata": {},
   "outputs": [
    {
     "name": "stdout",
     "output_type": "stream",
     "text": [
      "Selected 15/23 features: \n",
      "['h2' 'complexity' 'lloc' 'comments' 'multi' 'blank' 'single_comments'\n",
      " 'no_of_files' 'no_of_added_files' 'no_of_added_python_files'\n",
      " 'no_of_modified_python_files' 'no_of_copied_files'\n",
      " 'no_of_copied_python_files' 'no_of_deleted_python_files'\n",
      " 'author_previous_commits']\n"
     ]
    },
    {
     "data": {
      "application/vnd.jupyter.widget-view+json": {
       "model_id": "09415af608c9475f9ea595a80a442f6a",
       "version_major": 2,
       "version_minor": 0
      },
      "text/plain": [
       "  0%|          | 0/6 [00:00<?, ?it/s]"
      ]
     },
     "metadata": {},
     "output_type": "display_data"
    },
    {
     "name": "stdout",
     "output_type": "stream",
     "text": [
      "Classifier              Accuracy          F1                Precision         Recall\n",
      "----------------------  ----------------  ----------------  ----------------  ----------------\n",
      "DecisionTreeClassifier  0.7697 (0.0038)   0.5945 (-0.0084)  0.6943 (0.0229)   0.5198 (-0.0273)\n",
      "RandomForestClassifier  0.7485 (-0.0142)  0.6386 (-0.0131)  0.5987 (-0.0240)  0.6843 (0.0008)\n",
      "LogisticRegression      0.7613 (-0.0003)  0.5844 (-0.0010)  0.6728 (0.0000)   0.5165 (-0.0017)\n",
      "LogisticRegression_l1   0.7613 (0.0003)   0.5844 (0.0007)   0.6728 (0.0004)   0.5165 (0.0008)\n",
      "LogisticRegression_l2   0.7613 (-0.0003)  0.5844 (-0.0010)  0.6728 (0.0000)   0.5165 (-0.0017)\n",
      "KNeighborsClassifier    0.7699 (0.0019)   0.5683 (-0.0086)  0.7277 (0.0198)   0.4661 (-0.0207)\n"
     ]
    }
   ],
   "source": [
    "from sklearn.feature_selection import SequentialFeatureSelector\n",
    "\n",
    "direction = \"forward\"\n",
    "# direction = \"backward\"\n",
    "\n",
    "clf = LogisticRegression(max_iter=1000)\n",
    "selector = SequentialFeatureSelector(clf, n_features_to_select=15, direction=direction, scoring=\"f1\", n_jobs=-1)\n",
    "\n",
    "selector = selector.fit(X_train, y_train)\n",
    "\n",
    "test_selector(selector)"
   ]
  },
  {
   "cell_type": "markdown",
   "metadata": {},
   "source": [
    "### Own selection\n",
    "\n",
    "Now try it for yourself. Is there another method of feature selection you would like to try? Do yo think combining other methods might "
   ]
  },
  {
   "cell_type": "code",
   "execution_count": null,
   "metadata": {},
   "outputs": [],
   "source": []
  },
  {
   "cell_type": "code",
   "execution_count": null,
   "metadata": {},
   "outputs": [],
   "source": [
    "used_features = selector.get_support()\n",
    "used_feature_names = selector.get_feature_names_out(data.feature_names)\n",
    "print(f\"Selected {sum(used_features)}/{len(feature_names)} features: \\n{used_feature_names}\")\n",
    "\n",
    "test_selection(used_features, compare=baseline)\n",
    "None"
   ]
  },
  {
   "cell_type": "code",
   "execution_count": null,
   "metadata": {},
   "outputs": [
    {
     "data": {
      "text/html": [
       "\n",
       "                    Syncing run <strong><a href=\"https://wandb.ai/vincentbrouwers/sogeti-hackathon-feature-selection/runs/3ekm15x3\" target=\"_blank\">Vincent Brouwers-run 4</a></strong> to <a href=\"https://wandb.ai/vincentbrouwers/sogeti-hackathon-feature-selection\" target=\"_blank\">Weights & Biases</a> (<a href=\"https://docs.wandb.com/integrations/jupyter.html\" target=\"_blank\">docs</a>).<br/>\n",
       "\n",
       "                "
      ],
      "text/plain": [
       "<IPython.core.display.HTML object>"
      ]
     },
     "metadata": {},
     "output_type": "display_data"
    },
    {
     "data": {
      "text/html": [
       "<br/>Waiting for W&B process to finish, PID 29882... <strong style=\"color:green\">(success).</strong>"
      ],
      "text/plain": [
       "<IPython.core.display.HTML object>"
      ]
     },
     "metadata": {},
     "output_type": "display_data"
    },
    {
     "data": {
      "text/html": [
       "<style>\n",
       "    table.wandb td:nth-child(1) { padding: 0 10px; text-align: right }\n",
       "    .wandb-row { display: flex; flex-direction: row; flex-wrap: wrap; width: 100% }\n",
       "    .wandb-col { display: flex; flex-direction: column; flex-basis: 100%; flex: 1; padding: 10px; }\n",
       "    </style>\n",
       "<div class=\"wandb-row\"><div class=\"wandb-col\">\n",
       "<h3>Run history:</h3><br/><table class=\"wandb\"><tr><td>feature_count</td><td>▁</td></tr></table><br/></div><div class=\"wandb-col\">\n",
       "<h3>Run summary:</h3><br/><table class=\"wandb\"><tr><td>feature_count</td><td>19</td></tr></table>\n",
       "</div></div>\n",
       "Synced 5 W&B file(s), 3 media file(s), 3 artifact file(s) and 0 other file(s)\n",
       "<br/>Synced <strong style=\"color:#cdcd00\">Vincent Brouwers-run 4</strong>: <a href=\"https://wandb.ai/vincentbrouwers/sogeti-hackathon-feature-selection/runs/3ekm15x3\" target=\"_blank\">https://wandb.ai/vincentbrouwers/sogeti-hackathon-feature-selection/runs/3ekm15x3</a><br/>\n",
       "Find logs at: <code>./wandb/run-20220118_123734-3ekm15x3/logs</code><br/>\n"
      ],
      "text/plain": [
       "<IPython.core.display.HTML object>"
      ]
     },
     "metadata": {},
     "output_type": "display_data"
    }
   ],
   "source": [
    "# %%wandb\n",
    "\n",
    "# run += 1\n",
    "\n",
    "# used_features = [[name, name in all_feature_names] for name in data.feature_names]\n",
    "used_features = {name: name in data.feature_names for name in all_feature_names}\n",
    "\n",
    "wandb.init(\n",
    "    project=\"sogeti-hackathon-feature-selection\",\n",
    "    entity=\"vincentbrouwers\",\n",
    "    name=f\"{name}-run {run}\",\n",
    "    anonymous=\"allow\",\n",
    "    tags=dict(name=name, run=run),\n",
    "    mode=\"online\" if upload else \"offline\",\n",
    "    config=dict(features=used_features)\n",
    ")\n",
    "\n",
    "y_probas = clf.predict_proba(X_test)\n",
    "y_pred = y_probas.argmax(axis=1)    \n",
    "\n",
    "# wandb.log(\n",
    "#     {\n",
    "#         \"conf_mat\": wandb.plot.confusion_matrix(\n",
    "#             y_probas, y_test, class_names=data.target_names\n",
    "#         )\n",
    "#     }\n",
    "# )\n",
    "# wandb.log()\n",
    "wandb.log(\n",
    "    {\n",
    "        \"feature_count\": len(data.feature_names),\n",
    "        \"used_features\": wandb.Table(\n",
    "            columns=[\"feature\", \"used\"],\n",
    "            # Just temporary until I have an actual method of filtering features\n",
    "            data=list(used_features.items()),\n",
    "        ),\n",
    "        \"roc\": wandb.plot.roc_curve(y_test, y_probas, data.target_names),\n",
    "        \"pr\": wandb.plot.pr_curve(y_test, y_probas, data.target_names),\n",
    "    }\n",
    ")\n",
    "\n",
    "wandb.finish()\n"
   ]
  },
  {
   "cell_type": "markdown",
   "metadata": {},
   "source": [
    "## Test your solution\n",
    "\n",
    "At the end of the hackathon, you will all receive a withheld test set to test your solutions on. You will be scored on how many features you use and the accuracy difference of our models after training on your reduced feature set."
   ]
  },
  {
   "cell_type": "markdown",
   "metadata": {},
   "source": []
  },
  {
   "cell_type": "code",
   "execution_count": null,
   "metadata": {},
   "outputs": [],
   "source": []
  }
 ],
 "metadata": {
  "interpreter": {
   "hash": "194a1ef71cbe383bb0e91fd20851e850791a3f40c244816884283bb052247dec"
  },
  "kernelspec": {
   "display_name": "Python 3.10.2 64-bit ('hackathon-feature-selection': conda)",
   "language": "python",
   "name": "python3"
  },
  "language_info": {
   "codemirror_mode": {
    "name": "ipython",
    "version": 3
   },
   "file_extension": ".py",
   "mimetype": "text/x-python",
   "name": "python",
   "nbconvert_exporter": "python",
   "pygments_lexer": "ipython3",
   "version": "3.10.2"
  },
  "orig_nbformat": 4
 },
 "nbformat": 4,
 "nbformat_minor": 2
}
