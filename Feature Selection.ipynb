{
 "cells": [
  {
   "cell_type": "markdown",
   "metadata": {},
   "source": [
    "# Hackathon"
   ]
  },
  {
   "cell_type": "markdown",
   "metadata": {},
   "source": [
    "## Set up notebook"
   ]
  },
  {
   "cell_type": "code",
   "execution_count": 1,
   "metadata": {},
   "outputs": [],
   "source": [
    "from collections import defaultdict\n",
    "from datetime import datetime\n",
    "\n",
    "import matplotlib.pyplot as plt\n",
    "import numpy as np\n",
    "import pandas as pd\n",
    "import seaborn as sns\n",
    "from sklearn import datasets, metrics\n",
    "from sklearn.ensemble import RandomForestClassifier\n",
    "from sklearn.linear_model import LogisticRegression\n",
    "from sklearn.model_selection import train_test_split\n",
    "from sklearn.neighbors import KNeighborsClassifier\n",
    "from sklearn.svm import SVC\n",
    "from sklearn.tree import DecisionTreeClassifier\n",
    "from sklearn.utils.class_weight import compute_class_weight\n",
    "from tabulate import tabulate\n",
    "from tqdm.auto import tqdm\n",
    "\n",
    "import wandb\n"
   ]
  },
  {
   "cell_type": "code",
   "execution_count": 2,
   "metadata": {},
   "outputs": [],
   "source": [
    "sns.set_theme()\n",
    "plt.rc('figure', figsize=(8, 4), dpi=100)"
   ]
  },
  {
   "cell_type": "markdown",
   "metadata": {},
   "source": [
    "\n",
    "### Set up Weights & Biases tracking\n",
    "\n",
    "To make this interesting, we're tracking everyone's progress via W&B. Don't worry \n",
    "Please replace `<Your name here>` by your own name (or a nickname).\n",
    "\n",
    "If you just want to play around without uploading your runs, set `offline` to `True`"
   ]
  },
  {
   "cell_type": "code",
   "execution_count": 3,
   "metadata": {},
   "outputs": [],
   "source": [
    "# Used for identifying runs on the W&B dashboard\n",
    "# name = \"<Your name here>\"\n",
    "name = \"Vincent Brouwers\"\n",
    "\n",
    "# Whether or not to upload runs to W&B\n",
    "upload = True"
   ]
  },
  {
   "cell_type": "code",
   "execution_count": 4,
   "metadata": {},
   "outputs": [],
   "source": [
    "if name == \"<Your name here>\":\n",
    "  raise Exception(\"RTFM\")"
   ]
  },
  {
   "cell_type": "markdown",
   "metadata": {},
   "source": [
    "## Load Data"
   ]
  },
  {
   "cell_type": "code",
   "execution_count": 6,
   "metadata": {},
   "outputs": [],
   "source": [
    "df = pd.read_csv(\"datasets/full.csv\")\n",
    "all_feature_names = df.iloc[:, 1:].columns.to_list()\n",
    "\n",
    "X = df.iloc[:, 1:].to_numpy()\n",
    "y = df.iloc[:, 0].to_numpy()\n",
    "feature_names = df.iloc[:, 1:].columns.to_numpy()    \n",
    "labels = [\"not buggy\", \"buggy\"]"
   ]
  },
  {
   "cell_type": "code",
   "execution_count": 7,
   "metadata": {},
   "outputs": [],
   "source": [
    "# Split data into 70% train and 30% test subsets\n",
    "\n",
    "X_train, X_test, y_train, y_test = train_test_split(\n",
    "    X,\n",
    "    y,\n",
    "    test_size=0.3,\n",
    "    shuffle=True,\n",
    ")"
   ]
  },
  {
   "cell_type": "code",
   "execution_count": 8,
   "metadata": {},
   "outputs": [],
   "source": [
    "class_weight = compute_class_weight('balanced', classes=np.unique(y_train), y=y_train)"
   ]
  },
  {
   "cell_type": "markdown",
   "metadata": {},
   "source": [
    "## Defining our models\n",
    "\n",
    "The value of features can differ greatly between models, which is why we test across a number of common and easy-to-train ones. We also look at the effect of regularization, as this can also affect the impact of feature selection.\n",
    "\n",
    "* Decision Tree\n",
    "* Random Forrest\n",
    "* Logistic Regression\n",
    "* Logistic Regression (with L1 regularization)\n",
    "* Logistic Regression (with L2 regularization)\n",
    "\n",
    "\n",
    "_There is no need to change anything here. These are just helper functions to quickly test our data_"
   ]
  },
  {
   "cell_type": "code",
   "execution_count": 9,
   "metadata": {},
   "outputs": [],
   "source": [
    "classifiers = [\n",
    "        (DecisionTreeClassifier(), ),\n",
    "        (RandomForestClassifier(n_estimators=200, min_samples_leaf=10, max_depth=20, class_weight=\"balanced\"), ),\n",
    "        # (SVC(gamma=\"auto\", probability=True, class_weight=class_weight), ),\n",
    "        (LogisticRegression(max_iter=1000, class_weight=\"balanced\"), ),\n",
    "        (LogisticRegression(max_iter=1000, penalty=\"l1\", solver=\"liblinear\", class_weight=\"balanced\"), \"_l1\"),\n",
    "        (LogisticRegression(max_iter=1000, penalty=\"l2\", class_weight=\"balanced\"), \"_l2\"),\n",
    "        (KNeighborsClassifier(n_neighbors=15), )\n",
    "    ]\n",
    "classifiers = [(c[0], c[0].__class__.__name__ + (c[1] if len(c) > 1 else \"\")) for c in classifiers]"
   ]
  },
  {
   "cell_type": "markdown",
   "metadata": {},
   "source": [
    "## Setting up our testing code"
   ]
  },
  {
   "cell_type": "code",
   "execution_count": 10,
   "metadata": {},
   "outputs": [],
   "source": [
    "def test_classifier(clf, feature_indices):\n",
    "    if feature_indices is None or len(feature_indices) == 0:\n",
    "        feature_indices = list(range(X_train.shape[1]))\n",
    "    clf.fit(X_train[:, feature_indices], y_train)\n",
    "\n",
    "    # predicted = clf.predict(X_test)\n",
    "    y_probas = clf.predict_proba(X_test[:, feature_indices])\n",
    "    y_pred = y_probas.argmax(axis=1)\n",
    "\n",
    "    scores = {\n",
    "        f\"Accuracy\": metrics.accuracy_score(y_test, y_pred),\n",
    "        f\"F1\": metrics.f1_score(y_test, y_pred),\n",
    "        f\"Precision\": metrics.precision_score(y_test, y_pred),\n",
    "        f\"Recall\": metrics.recall_score(y_test, y_pred),\n",
    "    }\n",
    "    return scores, y_probas\n",
    "\n",
    "\n",
    "def test_selection(feature_indices, compare=None, log=True, log_wandb=False):\n",
    "    kwargs = dict(feature_indices=feature_indices, log=False, log_wandb=False)\n",
    "\n",
    "    scores = {}\n",
    "    table = []\n",
    "    for classifier, name in tqdm(classifiers, smoothing=0):\n",
    "        scores_ = test_classifier(classifier, feature_indices=feature_indices)[0]\n",
    "        scores[name] = scores_\n",
    "\n",
    "    # This has no place being a one-liner, but I just want it to be one\n",
    "    scores[\"Average\"] = dict(\n",
    "        zip(\n",
    "            next(iter(scores.values())).keys(),\n",
    "            np.mean(list(zip(*(x.values() for x in scores.values()))), axis=1),\n",
    "        )\n",
    "    )\n",
    "\n",
    "    for name, scores_ in scores.items():\n",
    "        row = [name]\n",
    "        row += [\n",
    "            f\"{s:0.4f}\" + (f\"{baseline[name][m]:0.4f}\" if compare else \"\")\n",
    "            for m, s in scores_.items()\n",
    "        ]\n",
    "\n",
    "        # table_rows.append(row)\n",
    "\n",
    "        row = {\n",
    "            m: f\"{s:0.4f}\" + (f\" ({s - compare[name][m]:0.4f})\" if compare else \"\")\n",
    "            for m, s in scores_.items()\n",
    "        }\n",
    "        row = {\"Classifier\": name, **row}\n",
    "        # fmt = {metric: f\"{score:0.4f}\" for metric, score in scores_.items()}\n",
    "        table.append(row)\n",
    "\n",
    "        for metric, score in scores_.items():\n",
    "            rep = f\"{score:0.4f}\"\n",
    "            if compare:\n",
    "                rep += f\" ({compare[name][metric]:0.4f})\"\n",
    "\n",
    "    print(tabulate(table, headers=\"keys\"))\n",
    "\n",
    "    return scores\n",
    "\n",
    "\n",
    "def test_selector(selector, run_suffix=None, wandb=True, **config_kwargs):\n",
    "    used_features = selector.get_support()\n",
    "    used_feature_names = selector.get_feature_names_out(feature_names)\n",
    "    print(\n",
    "        f\"Selected {sum(used_features)}/{len(feature_names)} features: \\n{used_feature_names}\"\n",
    "    )\n",
    "\n",
    "    scores = test_selection(used_features, compare=baseline)\n",
    "\n",
    "    if wandb:\n",
    "        log_scores(\n",
    "            scores,\n",
    "            used_feature_names,\n",
    "            selector.__class__.__name__,\n",
    "            run_suffix,\n",
    "            **config_kwargs,\n",
    "        )\n",
    "\n",
    "\n",
    "def log_scores(scores, used_features, method_name, method_suffix=None, **config_kwargs):\n",
    "    print(used_features)\n",
    "    if all([isinstance(x, int) for x in used_features]):\n",
    "        print(\"Detected features as string indices\")\n",
    "        used_feature_names = feature_names[used_features]\n",
    "    elif all([isinstance(x, str) for x in used_features]):\n",
    "        print(\"Detected features as string indices\")\n",
    "        used_feature_names = used_features\n",
    "    else:\n",
    "        raise Exception(\n",
    "            \"Whoops, expected used_features to be a list of names or indices\"\n",
    "        )\n",
    "\n",
    "    used_features_tbl = {name: name in used_feature_names for name in feature_names}\n",
    "    time = datetime.now().strftime(\"%H:%M:%S\")\n",
    "    method = method_name + (\"_\" + method_suffix if method_suffix else \"\")\n",
    "    wandb.init(\n",
    "        project=\"sogeti-hackathon-feature-selection\",\n",
    "        entity=\"vincentbrouwers\",\n",
    "        name=\"-\".join([name, method, time]),\n",
    "        anonymous=\"allow\",\n",
    "        tags=dict(name=name),\n",
    "        mode=\"online\" if upload else \"offline\",\n",
    "        config=dict(\n",
    "            features=used_features_tbl,\n",
    "            name=name,\n",
    "            method=method,\n",
    "            method_name=method_name,\n",
    "            method_suffix=method_suffix,\n",
    "            **config_kwargs,\n",
    "        ),\n",
    "    )\n",
    "\n",
    "    wscores = {\n",
    "        f\"{clf}_{mtr}\": score\n",
    "        for clf, mtrs in scores.items()\n",
    "        for mtr, score in mtrs.items()\n",
    "    }\n",
    "    wandb.log(\n",
    "        {\n",
    "            \"feature_count\": len(used_feature_names),\n",
    "            \"used_features\": wandb.Table(\n",
    "                columns=[\"feature\", \"used\"],\n",
    "                # Just temporary until I have an actual method of filtering features\n",
    "                data=list(used_features_tbl.items()),\n",
    "            ),\n",
    "            # \"roc\": wandb.plot.roc_curve(y_test, y_probas, labels),\n",
    "            # \"pr\": wandb.plot.pr_curve(y_test, y_probas, labels),\n",
    "            **wscores,\n",
    "        }\n",
    "    )\n",
    "    wandb.finish(quiet=True)\n"
   ]
  },
  {
   "cell_type": "markdown",
   "metadata": {},
   "source": [
    "## Feature Selection"
   ]
  },
  {
   "cell_type": "markdown",
   "metadata": {},
   "source": [
    "### Filtering methods"
   ]
  },
  {
   "cell_type": "code",
   "execution_count": 11,
   "metadata": {},
   "outputs": [
    {
     "data": {
      "application/vnd.jupyter.widget-view+json": {
       "model_id": "d95bf618fff54d47b147266cf4a58d14",
       "version_major": 2,
       "version_minor": 0
      },
      "text/plain": [
       "  0%|          | 0/6 [00:00<?, ?it/s]"
      ]
     },
     "metadata": {},
     "output_type": "display_data"
    },
    {
     "name": "stderr",
     "output_type": "stream",
     "text": [
      "Failed to detect the name of this notebook, you can set it manually with the WANDB_NOTEBOOK_NAME environment variable to enable code saving.\n"
     ]
    },
    {
     "name": "stdout",
     "output_type": "stream",
     "text": [
      "Classifier                Accuracy      F1    Precision    Recall\n",
      "----------------------  ----------  ------  -----------  --------\n",
      "DecisionTreeClassifier      0.7707  0.6157       0.682     0.5611\n",
      "RandomForestClassifier      0.7742  0.6754       0.6378    0.7178\n",
      "LogisticRegression          0.7664  0.5972       0.6854    0.5291\n",
      "LogisticRegression_l1       0.7664  0.5972       0.6854    0.5291\n",
      "LogisticRegression_l2       0.7664  0.5972       0.6854    0.5291\n",
      "KNeighborsClassifier        0.774   0.5889       0.7274    0.4947\n",
      "Average                     0.7697  0.6119       0.6839    0.5602\n",
      "['h1' 'h2' 'N1' 'N2' 'complexity' 'loc' 'lloc' 'sloc' 'comments' 'multi'\n",
      " 'blank' 'single_comments' 'no_of_files' 'no_of_added_files'\n",
      " 'no_of_added_python_files' 'no_of_modified_files'\n",
      " 'no_of_modified_python_files' 'no_of_copied_files'\n",
      " 'no_of_copied_python_files' 'no_of_deleted_files'\n",
      " 'no_of_deleted_python_files' 'author_previous_commits'\n",
      " 'author_previous_file_changes']\n",
      "Detected features as string indices\n"
     ]
    },
    {
     "name": "stderr",
     "output_type": "stream",
     "text": [
      "\u001b[34m\u001b[1mwandb\u001b[0m: Currently logged in as: \u001b[33mvincentbrouwers\u001b[0m (use `wandb login --relogin` to force relogin)\n"
     ]
    },
    {
     "data": {
      "text/html": [
       "\n",
       "                    Syncing run <strong><a href=\"https://wandb.ai/vincentbrouwers/sogeti-hackathon-feature-selection/runs/328u5h8i\" target=\"_blank\">Vincent Brouwers-Baseline-17:14:37</a></strong> to <a href=\"https://wandb.ai/vincentbrouwers/sogeti-hackathon-feature-selection\" target=\"_blank\">Weights & Biases</a> (<a href=\"https://docs.wandb.com/integrations/jupyter.html\" target=\"_blank\">docs</a>).<br/>\n",
       "\n",
       "                "
      ],
      "text/plain": [
       "<IPython.core.display.HTML object>"
      ]
     },
     "metadata": {},
     "output_type": "display_data"
    },
    {
     "data": {
      "text/html": [
       "Waiting for W&B process to finish, PID 11694... <strong style=\"color:green\">(success).</strong>"
      ],
      "text/plain": [
       "<IPython.core.display.HTML object>"
      ]
     },
     "metadata": {},
     "output_type": "display_data"
    },
    {
     "data": {
      "application/vnd.jupyter.widget-view+json": {
       "model_id": "a504bc5827444931b598ce8b424cce7d",
       "version_major": 2,
       "version_minor": 0
      },
      "text/plain": [
       "VBox(children=(Label(value=' 0.00MB of 0.00MB uploaded (0.00MB deduped)\\r'), FloatProgress(value=0.76836581709…"
      ]
     },
     "metadata": {},
     "output_type": "display_data"
    },
    {
     "data": {
      "text/html": [
       "Synced <strong style=\"color:#cdcd00\">Vincent Brouwers-Baseline-17:14:37</strong>: <a href=\"https://wandb.ai/vincentbrouwers/sogeti-hackathon-feature-selection/runs/328u5h8i\" target=\"_blank\">https://wandb.ai/vincentbrouwers/sogeti-hackathon-feature-selection/runs/328u5h8i</a><br/>\n"
      ],
      "text/plain": [
       "<IPython.core.display.HTML object>"
      ]
     },
     "metadata": {},
     "output_type": "display_data"
    }
   ],
   "source": [
    "baseline = test_selection(None, compare=False)\n",
    "log_scores(baseline, feature_names, \"Baseline\")"
   ]
  },
  {
   "cell_type": "markdown",
   "metadata": {},
   "source": [
    "#### Variance threshold\n",
    "\n",
    "A simple method to filter out superfluous features, is to remove ones with a low variance. The idea here is that these features offer relatively little information. \n",
    "\n",
    "*Note: Variance depends on the magnitude our values and our data is not normalized. It's not really possible to set 1 threshold for all features*\n",
    "\n",
    "---\n",
    "\n",
    "https://scikit-learn.org/stable/modules/generated/sklearn.feature_selection.VarianceThreshold.html"
   ]
  },
  {
   "cell_type": "code",
   "execution_count": 12,
   "metadata": {},
   "outputs": [
    {
     "name": "stdout",
     "output_type": "stream",
     "text": [
      "Selected 19/23 features: \n",
      "['h1' 'h2' 'N1' 'N2' 'complexity' 'loc' 'lloc' 'sloc' 'comments' 'multi'\n",
      " 'blank' 'single_comments' 'no_of_files' 'no_of_added_files'\n",
      " 'no_of_added_python_files' 'no_of_modified_files'\n",
      " 'no_of_modified_python_files' 'no_of_deleted_files'\n",
      " 'no_of_deleted_python_files']\n"
     ]
    },
    {
     "data": {
      "application/vnd.jupyter.widget-view+json": {
       "model_id": "dd49f5c287084aa7baba3578fb1463a4",
       "version_major": 2,
       "version_minor": 0
      },
      "text/plain": [
       "  0%|          | 0/6 [00:00<?, ?it/s]"
      ]
     },
     "metadata": {},
     "output_type": "display_data"
    },
    {
     "name": "stdout",
     "output_type": "stream",
     "text": [
      "Classifier              Accuracy          F1                Precision         Recall\n",
      "----------------------  ----------------  ----------------  ----------------  ----------------\n",
      "DecisionTreeClassifier  0.7662 (-0.0046)  0.6050 (-0.0107)  0.6765 (-0.0055)  0.5472 (-0.0139)\n",
      "RandomForestClassifier  0.7772 (0.0030)   0.6785 (0.0031)   0.6427 (0.0049)   0.7186 (0.0008)\n",
      "LogisticRegression      0.7659 (-0.0005)  0.5963 (-0.0009)  0.6844 (-0.0011)  0.5283 (-0.0008)\n",
      "LogisticRegression_l1   0.7664 (0.0000)   0.5972 (0.0000)   0.6854 (0.0000)   0.5291 (0.0000)\n",
      "LogisticRegression_l2   0.7659 (-0.0005)  0.5963 (-0.0009)  0.6844 (-0.0011)  0.5283 (-0.0008)\n",
      "KNeighborsClassifier    0.7748 (0.0008)   0.5889 (0.0001)   0.7311 (0.0038)   0.4930 (-0.0016)\n",
      "Average                 0.7694 (-0.0003)  0.6104 (-0.0016)  0.6841 (0.0002)   0.5574 (-0.0027)\n",
      "['h1' 'h2' 'N1' 'N2' 'complexity' 'loc' 'lloc' 'sloc' 'comments' 'multi'\n",
      " 'blank' 'single_comments' 'no_of_files' 'no_of_added_files'\n",
      " 'no_of_added_python_files' 'no_of_modified_files'\n",
      " 'no_of_modified_python_files' 'no_of_deleted_files'\n",
      " 'no_of_deleted_python_files']\n",
      "Detected features as string indices\n"
     ]
    },
    {
     "data": {
      "text/html": [
       "\n",
       "                    Syncing run <strong><a href=\"https://wandb.ai/vincentbrouwers/sogeti-hackathon-feature-selection/runs/1dr6fapl\" target=\"_blank\">Vincent Brouwers-VarianceThreshold-17:14:48</a></strong> to <a href=\"https://wandb.ai/vincentbrouwers/sogeti-hackathon-feature-selection\" target=\"_blank\">Weights & Biases</a> (<a href=\"https://docs.wandb.com/integrations/jupyter.html\" target=\"_blank\">docs</a>).<br/>\n",
       "\n",
       "                "
      ],
      "text/plain": [
       "<IPython.core.display.HTML object>"
      ]
     },
     "metadata": {},
     "output_type": "display_data"
    },
    {
     "data": {
      "text/html": [
       "Waiting for W&B process to finish, PID 11778... <strong style=\"color:green\">(success).</strong>"
      ],
      "text/plain": [
       "<IPython.core.display.HTML object>"
      ]
     },
     "metadata": {},
     "output_type": "display_data"
    },
    {
     "data": {
      "application/vnd.jupyter.widget-view+json": {
       "model_id": "aa71173f82074b59902e7455869b6d43",
       "version_major": 2,
       "version_minor": 0
      },
      "text/plain": [
       "VBox(children=(Label(value=' 0.00MB of 0.00MB uploaded (0.00MB deduped)\\r'), FloatProgress(value=0.76756352765…"
      ]
     },
     "metadata": {},
     "output_type": "display_data"
    },
    {
     "data": {
      "text/html": [
       "Synced <strong style=\"color:#cdcd00\">Vincent Brouwers-VarianceThreshold-17:14:48</strong>: <a href=\"https://wandb.ai/vincentbrouwers/sogeti-hackathon-feature-selection/runs/1dr6fapl\" target=\"_blank\">https://wandb.ai/vincentbrouwers/sogeti-hackathon-feature-selection/runs/1dr6fapl</a><br/>\n"
      ],
      "text/plain": [
       "<IPython.core.display.HTML object>"
      ]
     },
     "metadata": {},
     "output_type": "display_data"
    }
   ],
   "source": [
    "from sklearn.feature_selection import VarianceThreshold\n",
    "\n",
    "var = VarianceThreshold(threshold=0.3).fit(X_train)\n",
    "\n",
    "test_selector(var, threshold=var.threshold)"
   ]
  },
  {
   "cell_type": "markdown",
   "metadata": {},
   "source": [
    "#### Statistical corrolation threshold\n",
    "\n",
    "Another method of supervised feature filtering is to calculate corrolation statistics between each feature and the label(s). \n",
    "\n",
    "We use the chi-squared test to measure the label's (positive) dependence on features and select the best ones with various thresholding methods.\n",
    "\n",
    "---\n",
    "\n",
    "https://scikit-learn.org/stable/modules/generated/sklearn.feature_selection.SelectKBest.html<br/>\n",
    "https://scikit-learn.org/stable/modules/generated/sklearn.feature_selection.SelectPercentile.html"
   ]
  },
  {
   "cell_type": "code",
   "execution_count": 13,
   "metadata": {},
   "outputs": [
    {
     "name": "stdout",
     "output_type": "stream",
     "text": [
      "Selected 10/23 features: \n",
      "['loc' 'sloc' 'multi' 'no_of_files' 'no_of_added_files'\n",
      " 'no_of_added_python_files' 'no_of_modified_files'\n",
      " 'no_of_modified_python_files' 'no_of_deleted_files'\n",
      " 'no_of_deleted_python_files']\n"
     ]
    },
    {
     "data": {
      "application/vnd.jupyter.widget-view+json": {
       "model_id": "e11bfb792a964d5391eb43dc0b487d3f",
       "version_major": 2,
       "version_minor": 0
      },
      "text/plain": [
       "  0%|          | 0/6 [00:00<?, ?it/s]"
      ]
     },
     "metadata": {},
     "output_type": "display_data"
    },
    {
     "name": "stdout",
     "output_type": "stream",
     "text": [
      "Classifier              Accuracy          F1                Precision         Recall\n",
      "----------------------  ----------------  ----------------  ----------------  ----------------\n",
      "DecisionTreeClassifier  0.7718 (0.0011)   0.5858 (-0.0299)  0.7215 (0.0395)   0.4930 (-0.0681)\n",
      "RandomForestClassifier  0.7619 (-0.0123)  0.6566 (-0.0188)  0.6217 (-0.0161)  0.6957 (-0.0221)\n",
      "LogisticRegression      0.7689 (0.0024)   0.5882 (-0.0090)  0.7053 (0.0198)   0.5045 (-0.0246)\n",
      "LogisticRegression_l1   0.7689 (0.0024)   0.5882 (-0.0090)  0.7053 (0.0198)   0.5045 (-0.0246)\n",
      "LogisticRegression_l2   0.7689 (0.0024)   0.5882 (-0.0090)  0.7053 (0.0198)   0.5045 (-0.0246)\n",
      "KNeighborsClassifier    0.7691 (-0.0048)  0.5821 (-0.0067)  0.7139 (-0.0134)  0.4914 (-0.0033)\n",
      "Average                 0.7682 (-0.0015)  0.5982 (-0.0137)  0.6955 (0.0116)   0.5323 (-0.0279)\n",
      "['loc' 'sloc' 'multi' 'no_of_files' 'no_of_added_files'\n",
      " 'no_of_added_python_files' 'no_of_modified_files'\n",
      " 'no_of_modified_python_files' 'no_of_deleted_files'\n",
      " 'no_of_deleted_python_files']\n",
      "Detected features as string indices\n"
     ]
    },
    {
     "data": {
      "text/html": [
       "\n",
       "                    Syncing run <strong><a href=\"https://wandb.ai/vincentbrouwers/sogeti-hackathon-feature-selection/runs/12b4bl5z\" target=\"_blank\">Vincent Brouwers-SelectKBest_chi2-17:14:58</a></strong> to <a href=\"https://wandb.ai/vincentbrouwers/sogeti-hackathon-feature-selection\" target=\"_blank\">Weights & Biases</a> (<a href=\"https://docs.wandb.com/integrations/jupyter.html\" target=\"_blank\">docs</a>).<br/>\n",
       "\n",
       "                "
      ],
      "text/plain": [
       "<IPython.core.display.HTML object>"
      ]
     },
     "metadata": {},
     "output_type": "display_data"
    },
    {
     "data": {
      "text/html": [
       "Waiting for W&B process to finish, PID 11840... <strong style=\"color:green\">(success).</strong>"
      ],
      "text/plain": [
       "<IPython.core.display.HTML object>"
      ]
     },
     "metadata": {},
     "output_type": "display_data"
    },
    {
     "data": {
      "application/vnd.jupyter.widget-view+json": {
       "model_id": "04f37a155e7748368147f089c048e3c2",
       "version_major": 2,
       "version_minor": 0
      },
      "text/plain": [
       "VBox(children=(Label(value=' 0.00MB of 0.00MB uploaded (0.00MB deduped)\\r'), FloatProgress(value=0.76577579806…"
      ]
     },
     "metadata": {},
     "output_type": "display_data"
    },
    {
     "data": {
      "text/html": [
       "Synced <strong style=\"color:#cdcd00\">Vincent Brouwers-SelectKBest_chi2-17:14:58</strong>: <a href=\"https://wandb.ai/vincentbrouwers/sogeti-hackathon-feature-selection/runs/12b4bl5z\" target=\"_blank\">https://wandb.ai/vincentbrouwers/sogeti-hackathon-feature-selection/runs/12b4bl5z</a><br/>\n"
      ],
      "text/plain": [
       "<IPython.core.display.HTML object>"
      ]
     },
     "metadata": {},
     "output_type": "display_data"
    },
    {
     "name": "stdout",
     "output_type": "stream",
     "text": [
      "Selected 11/23 features: \n",
      "['loc' 'sloc' 'multi' 'blank' 'no_of_files' 'no_of_added_files'\n",
      " 'no_of_added_python_files' 'no_of_modified_files'\n",
      " 'no_of_modified_python_files' 'no_of_deleted_files'\n",
      " 'no_of_deleted_python_files']\n"
     ]
    },
    {
     "data": {
      "application/vnd.jupyter.widget-view+json": {
       "model_id": "35dc361a794c4123ab7dab4dcaf9c7ab",
       "version_major": 2,
       "version_minor": 0
      },
      "text/plain": [
       "  0%|          | 0/6 [00:00<?, ?it/s]"
      ]
     },
     "metadata": {},
     "output_type": "display_data"
    },
    {
     "name": "stdout",
     "output_type": "stream",
     "text": [
      "Classifier              Accuracy          F1                Precision         Recall\n",
      "----------------------  ----------------  ----------------  ----------------  ----------------\n",
      "DecisionTreeClassifier  0.7675 (-0.0032)  0.5784 (-0.0373)  0.7114 (0.0294)   0.4873 (-0.0738)\n",
      "RandomForestClassifier  0.7640 (-0.0102)  0.6586 (-0.0168)  0.6254 (-0.0124)  0.6957 (-0.0221)\n",
      "LogisticRegression      0.7681 (0.0016)   0.5814 (-0.0158)  0.7101 (0.0246)   0.4922 (-0.0369)\n",
      "LogisticRegression_l1   0.7686 (0.0021)   0.5820 (-0.0153)  0.7117 (0.0263)   0.4922 (-0.0369)\n",
      "LogisticRegression_l2   0.7681 (0.0016)   0.5814 (-0.0158)  0.7101 (0.0246)   0.4922 (-0.0369)\n",
      "KNeighborsClassifier    0.7707 (-0.0032)  0.5850 (-0.0038)  0.7175 (-0.0099)  0.4938 (-0.0008)\n",
      "Average                 0.7678 (-0.0019)  0.5945 (-0.0175)  0.6977 (0.0138)   0.5256 (-0.0346)\n",
      "['loc' 'sloc' 'multi' 'blank' 'no_of_files' 'no_of_added_files'\n",
      " 'no_of_added_python_files' 'no_of_modified_files'\n",
      " 'no_of_modified_python_files' 'no_of_deleted_files'\n",
      " 'no_of_deleted_python_files']\n",
      "Detected features as string indices\n"
     ]
    },
    {
     "data": {
      "text/html": [
       "\n",
       "                    Syncing run <strong><a href=\"https://wandb.ai/vincentbrouwers/sogeti-hackathon-feature-selection/runs/26x96wif\" target=\"_blank\">Vincent Brouwers-SelectPercentile_chi2-17:15:07</a></strong> to <a href=\"https://wandb.ai/vincentbrouwers/sogeti-hackathon-feature-selection\" target=\"_blank\">Weights & Biases</a> (<a href=\"https://docs.wandb.com/integrations/jupyter.html\" target=\"_blank\">docs</a>).<br/>\n",
       "\n",
       "                "
      ],
      "text/plain": [
       "<IPython.core.display.HTML object>"
      ]
     },
     "metadata": {},
     "output_type": "display_data"
    },
    {
     "data": {
      "text/html": [
       "Waiting for W&B process to finish, PID 11899... <strong style=\"color:green\">(success).</strong>"
      ],
      "text/plain": [
       "<IPython.core.display.HTML object>"
      ]
     },
     "metadata": {},
     "output_type": "display_data"
    },
    {
     "data": {
      "application/vnd.jupyter.widget-view+json": {
       "model_id": "6b84acf23b7a4053970dae9f6c8fca4c",
       "version_major": 2,
       "version_minor": 0
      },
      "text/plain": [
       "VBox(children=(Label(value=' 0.00MB of 0.00MB uploaded (0.00MB deduped)\\r'), FloatProgress(value=0.76597325408…"
      ]
     },
     "metadata": {},
     "output_type": "display_data"
    },
    {
     "data": {
      "text/html": [
       "Synced <strong style=\"color:#cdcd00\">Vincent Brouwers-SelectPercentile_chi2-17:15:07</strong>: <a href=\"https://wandb.ai/vincentbrouwers/sogeti-hackathon-feature-selection/runs/26x96wif\" target=\"_blank\">https://wandb.ai/vincentbrouwers/sogeti-hackathon-feature-selection/runs/26x96wif</a><br/>\n"
      ],
      "text/plain": [
       "<IPython.core.display.HTML object>"
      ]
     },
     "metadata": {},
     "output_type": "display_data"
    }
   ],
   "source": [
    "from sklearn.feature_selection import SelectKBest, SelectPercentile\n",
    "from sklearn.feature_selection import chi2, r_regression, mutual_info_classif\n",
    "\n",
    "# Select (k=)10 most corrolated features \n",
    "selector = SelectKBest(chi2, k=10).fit(X_train, y_train)\n",
    "test_selector(selector, \"chi2\")\n",
    "\n",
    "# Select the features that hit the 50th percentile (median score or better)\n",
    "selector = SelectPercentile(chi2, percentile=50).fit(X_train, y_train)\n",
    "test_selector(selector, \"chi2\")\n",
    "\n",
    "# # Select (k=)10 most corrolated features \n",
    "# selector = SelectKBest(r_regression, k=10).fit(X_train, y_train)\n",
    "# test_selector(selector, \"r_regression\")\n",
    "\n",
    "# # Select the features that hit the 50th percentile (median score or better)\n",
    "# selector = SelectPercentile(r_regression, percentile=50).fit(X_train, y_train)\n",
    "# test_selector(selector, \"r_regression\")\n",
    "\n",
    "# # Select (k=)10 most corrolated features \n",
    "# selector = SelectKBest(mutual_info_classif, k=10).fit(X_train, y_train)\n",
    "# test_selector(selector, \"mutual_info_classif\")\n",
    "\n",
    "# # Select the features that hit the 50th percentile (median score or better)\n",
    "# selector = SelectPercentile(mutual_info_classif, percentile=50).fit(X_train, y_train)\n",
    "# test_selector(selector, \"mutual_info_classif\")"
   ]
  },
  {
   "cell_type": "code",
   "execution_count": 14,
   "metadata": {},
   "outputs": [
    {
     "data": {
      "text/plain": [
       "SelectPercentile(percentile=50, score_func=<function chi2 at 0x7fd29c713490>)"
      ]
     },
     "execution_count": 14,
     "metadata": {},
     "output_type": "execute_result"
    }
   ],
   "source": [
    "selector"
   ]
  },
  {
   "cell_type": "markdown",
   "metadata": {},
   "source": [
    "#### Model-specific feature importance\n",
    "\n",
    "Some models allow us to directly see the contribution of each feature. This allows us to easily remove the fields that our model extracts the least amount of information from. We always test the effect our selection methods on multiple model types. Does te type of reference model the model affect our testing models differently?\n",
    "\n",
    "---\n",
    "\n",
    "https://scikit-learn.org/stable/modules/generated/sklearn.feature_selection.SelectFromModel.html"
   ]
  },
  {
   "cell_type": "code",
   "execution_count": 15,
   "metadata": {},
   "outputs": [
    {
     "name": "stdout",
     "output_type": "stream",
     "text": [
      "Selected 6/23 features: \n",
      "['N1' 'N2' 'complexity' 'no_of_added_python_files'\n",
      " 'no_of_deleted_python_files' 'author_previous_commits']\n"
     ]
    },
    {
     "data": {
      "application/vnd.jupyter.widget-view+json": {
       "model_id": "a34876fce4fd4dfdb3369ba1d282725d",
       "version_major": 2,
       "version_minor": 0
      },
      "text/plain": [
       "  0%|          | 0/6 [00:00<?, ?it/s]"
      ]
     },
     "metadata": {},
     "output_type": "display_data"
    },
    {
     "name": "stdout",
     "output_type": "stream",
     "text": [
      "Classifier              Accuracy          F1                Precision         Recall\n",
      "----------------------  ----------------  ----------------  ----------------  ----------------\n",
      "DecisionTreeClassifier  0.7246 (-0.0462)  0.3603 (-0.2553)  0.7506 (0.0687)   0.2371 (-0.3240)\n",
      "RandomForestClassifier  0.7200 (-0.0542)  0.4587 (-0.2167)  0.6243 (-0.0135)  0.3626 (-0.3552)\n",
      "LogisticRegression      0.7138 (-0.0526)  0.4516 (-0.1456)  0.6055 (-0.0799)  0.3601 (-0.1690)\n",
      "LogisticRegression_l1   0.7136 (-0.0529)  0.4514 (-0.1458)  0.6047 (-0.0808)  0.3601 (-0.1690)\n",
      "LogisticRegression_l2   0.7138 (-0.0526)  0.4516 (-0.1456)  0.6055 (-0.0799)  0.3601 (-0.1690)\n",
      "KNeighborsClassifier    0.7240 (-0.0499)  0.4112 (-0.1776)  0.6812 (-0.0462)  0.2945 (-0.2002)\n",
      "Average                 0.7183 (-0.0514)  0.4308 (-0.1811)  0.6453 (-0.0386)  0.3291 (-0.2311)\n",
      "['N1' 'N2' 'complexity' 'no_of_added_python_files'\n",
      " 'no_of_deleted_python_files' 'author_previous_commits']\n",
      "Detected features as string indices\n"
     ]
    },
    {
     "data": {
      "text/html": [
       "\n",
       "                    Syncing run <strong><a href=\"https://wandb.ai/vincentbrouwers/sogeti-hackathon-feature-selection/runs/y5ei5pfg\" target=\"_blank\">Vincent Brouwers-SelectFromModel-17:15:18</a></strong> to <a href=\"https://wandb.ai/vincentbrouwers/sogeti-hackathon-feature-selection\" target=\"_blank\">Weights & Biases</a> (<a href=\"https://docs.wandb.com/integrations/jupyter.html\" target=\"_blank\">docs</a>).<br/>\n",
       "\n",
       "                "
      ],
      "text/plain": [
       "<IPython.core.display.HTML object>"
      ]
     },
     "metadata": {},
     "output_type": "display_data"
    },
    {
     "data": {
      "text/html": [
       "Waiting for W&B process to finish, PID 11960... <strong style=\"color:green\">(success).</strong>"
      ],
      "text/plain": [
       "<IPython.core.display.HTML object>"
      ]
     },
     "metadata": {},
     "output_type": "display_data"
    },
    {
     "data": {
      "application/vnd.jupyter.widget-view+json": {
       "model_id": "4b71c3e8a12d43ca9ebbf1a5362d0970",
       "version_major": 2,
       "version_minor": 0
      },
      "text/plain": [
       "VBox(children=(Label(value=' 0.00MB of 0.00MB uploaded (0.00MB deduped)\\r'), FloatProgress(value=1.0, max=1.0)…"
      ]
     },
     "metadata": {},
     "output_type": "display_data"
    },
    {
     "data": {
      "text/html": [
       "Synced <strong style=\"color:#cdcd00\">Vincent Brouwers-SelectFromModel-17:15:18</strong>: <a href=\"https://wandb.ai/vincentbrouwers/sogeti-hackathon-feature-selection/runs/y5ei5pfg\" target=\"_blank\">https://wandb.ai/vincentbrouwers/sogeti-hackathon-feature-selection/runs/y5ei5pfg</a><br/>\n"
      ],
      "text/plain": [
       "<IPython.core.display.HTML object>"
      ]
     },
     "metadata": {},
     "output_type": "display_data"
    },
    {
     "data": {
      "image/png": "[encoded data removed]",
      "text/plain": [
       "<Figure size 1000x600 with 1 Axes>"
      ]
     },
     "metadata": {},
     "output_type": "display_data"
    }
   ],
   "source": [
    "from sklearn.feature_selection import SelectFromModel\n",
    "\n",
    "plt.figure(figsize=(10, 6))\n",
    "\n",
    "# clf1 = RandomForestClassifier(n_estimators=200).fit(X_train, y_train)\n",
    "# plt.barh(feature_names, clf1.feature_importances_)\n",
    "# selector = SelectFromModel(clf1, threshold=\"1.5 * mean\", prefit=True)\n",
    "\n",
    "clf2 = LogisticRegression(max_iter=1000).fit(X_train, y_train)\n",
    "plt.barh(feature_names, clf2.coef_.flatten())\n",
    "selector = SelectFromModel(clf2, threshold=\"1 * mean\", prefit=True)\n",
    "\n",
    "\n",
    "test_selector(selector)"
   ]
  },
  {
   "cell_type": "markdown",
   "metadata": {},
   "source": [
    "### Wrapper"
   ]
  },
  {
   "cell_type": "markdown",
   "metadata": {},
   "source": [
    "#### Recursive Feature Elimination (RFE)\n",
    "\n",
    "\n",
    "RFE works in a similar fashion as the previous method, namely that it uses a model's built-in feature significance values to filter out redundant features. Where RFE differs from the \"naive\" filtering aproach, is that it only removes one feature at a time, after which the entire model is retrained again. Removal of corrolated or inter-dependent features can change the distribution of significance of the remaining features, which this approach mitigates.\n",
    "\n",
    "\n",
    "---\n",
    "\n",
    "**Example:**\n",
    "\n",
    "A simple example of how the result of RFE differs from \"naive filtering\", is when two features are 100% corrolated. Each of them may be fairly meaningful on their own, though when they're both present, their contribution has to be shared between them. This thus gives them a lower feature importance. \n",
    "\n",
    "Let's say we have a model with the following feature importances:\n",
    "\n",
    "`a=15%`, `b=20%`, `c=50%`, `d=15%`, where `a`, `b` , and `c` are fully independent of eachother, but `d` is 100% corrolated to `a`. \n",
    "\n",
    "Naïvely removing the two least contributing features, would leave us with `b=35%` and `c=65%`. If we instead first eliminate `c` (`a` is equally valid), a new model might give us these importances:\n",
    "\n",
    "`a=30%`, `b=20%`, `c=50%`\n",
    "\n",
    "This time, `b` will be purged, leaving us with\n",
    "\n",
    "`a=40%`, `c=60%`\n",
    "\n",
    "---\n",
    "\n",
    "https://scikit-learn.org/stable/modules/generated/sklearn.feature_selection.RFE.html\n"
   ]
  },
  {
   "cell_type": "code",
   "execution_count": 16,
   "metadata": {},
   "outputs": [
    {
     "name": "stdout",
     "output_type": "stream",
     "text": [
      "Fitting estimator with 23 features.\n",
      "Fitting estimator with 22 features.\n",
      "Fitting estimator with 21 features.\n",
      "Fitting estimator with 20 features.\n",
      "Fitting estimator with 19 features.\n",
      "Fitting estimator with 18 features.\n",
      "Fitting estimator with 17 features.\n",
      "Fitting estimator with 16 features.\n",
      "Fitting estimator with 15 features.\n",
      "Fitting estimator with 14 features.\n",
      "Fitting estimator with 13 features.\n",
      "Fitting estimator with 12 features.\n",
      "Fitting estimator with 11 features.\n",
      "Fitting estimator with 10 features.\n",
      "Fitting estimator with 9 features.\n",
      "Fitting estimator with 8 features.\n",
      "Fitting estimator with 7 features.\n",
      "Fitting estimator with 6 features.\n",
      "Selected 5/23 features: \n",
      "['N1' 'N2' 'complexity' 'no_of_deleted_python_files'\n",
      " 'author_previous_commits']\n"
     ]
    },
    {
     "data": {
      "application/vnd.jupyter.widget-view+json": {
       "model_id": "27fe6c17957b460cb9afe9a3df792d73",
       "version_major": 2,
       "version_minor": 0
      },
      "text/plain": [
       "  0%|          | 0/6 [00:00<?, ?it/s]"
      ]
     },
     "metadata": {},
     "output_type": "display_data"
    },
    {
     "name": "stdout",
     "output_type": "stream",
     "text": [
      "Classifier              Accuracy          F1                Precision         Recall\n",
      "----------------------  ----------------  ----------------  ----------------  ----------------\n",
      "DecisionTreeClassifier  0.7259 (-0.0448)  0.3639 (-0.2518)  0.7565 (0.0745)   0.2395 (-0.3216)\n",
      "RandomForestClassifier  0.7079 (-0.0663)  0.4625 (-0.2130)  0.5814 (-0.0564)  0.3839 (-0.3339)\n",
      "LogisticRegression      0.7138 (-0.0526)  0.4522 (-0.1450)  0.6052 (-0.0802)  0.3610 (-0.1682)\n",
      "LogisticRegression_l1   0.7136 (-0.0529)  0.4520 (-0.1452)  0.6044 (-0.0810)  0.3610 (-0.1682)\n",
      "LogisticRegression_l2   0.7138 (-0.0526)  0.4522 (-0.1450)  0.6052 (-0.0802)  0.3610 (-0.1682)\n",
      "KNeighborsClassifier    0.7272 (-0.0467)  0.3850 (-0.2039)  0.7344 (0.0070)   0.2609 (-0.2338)\n",
      "Average                 0.7170 (-0.0527)  0.4279 (-0.1840)  0.6479 (-0.0361)  0.3279 (-0.2323)\n",
      "['N1' 'N2' 'complexity' 'no_of_deleted_python_files'\n",
      " 'author_previous_commits']\n",
      "Detected features as string indices\n"
     ]
    },
    {
     "data": {
      "text/html": [
       "\n",
       "                    Syncing run <strong><a href=\"https://wandb.ai/vincentbrouwers/sogeti-hackathon-feature-selection/runs/1x591sec\" target=\"_blank\">Vincent Brouwers-RFE-17:15:33</a></strong> to <a href=\"https://wandb.ai/vincentbrouwers/sogeti-hackathon-feature-selection\" target=\"_blank\">Weights & Biases</a> (<a href=\"https://docs.wandb.com/integrations/jupyter.html\" target=\"_blank\">docs</a>).<br/>\n",
       "\n",
       "                "
      ],
      "text/plain": [
       "<IPython.core.display.HTML object>"
      ]
     },
     "metadata": {},
     "output_type": "display_data"
    },
    {
     "data": {
      "text/html": [
       "Waiting for W&B process to finish, PID 12035... <strong style=\"color:green\">(success).</strong>"
      ],
      "text/plain": [
       "<IPython.core.display.HTML object>"
      ]
     },
     "metadata": {},
     "output_type": "display_data"
    },
    {
     "data": {
      "application/vnd.jupyter.widget-view+json": {
       "model_id": "f380ffc3838d4eba9a325046fff2db00",
       "version_major": 2,
       "version_minor": 0
      },
      "text/plain": [
       "VBox(children=(Label(value=' 0.00MB of 0.00MB uploaded (0.00MB deduped)\\r'), FloatProgress(value=0.76479289940…"
      ]
     },
     "metadata": {},
     "output_type": "display_data"
    },
    {
     "data": {
      "text/html": [
       "Synced <strong style=\"color:#cdcd00\">Vincent Brouwers-RFE-17:15:33</strong>: <a href=\"https://wandb.ai/vincentbrouwers/sogeti-hackathon-feature-selection/runs/1x591sec\" target=\"_blank\">https://wandb.ai/vincentbrouwers/sogeti-hackathon-feature-selection/runs/1x591sec</a><br/>\n"
      ],
      "text/plain": [
       "<IPython.core.display.HTML object>"
      ]
     },
     "metadata": {},
     "output_type": "display_data"
    }
   ],
   "source": [
    "from sklearn.feature_selection import RFE\n",
    "\n",
    "clf = LogisticRegression(max_iter=1000)\n",
    "selector = RFE(clf, n_features_to_select=5, step=1, verbose=1)\n",
    "selector = selector.fit(X_train, y_train)\n",
    "\n",
    "test_selector(selector)"
   ]
  },
  {
   "cell_type": "markdown",
   "metadata": {},
   "source": [
    "#### Sequential Feature Selection\n",
    "\n",
    "This Sequential Feature Selector adds (forward selection) or removes (backward selection) features until the desired amount of features is reached. At each stage, it produces candidate feature sets that include (forward) or exclude (backward) one feature compared to the previous stage. The candidate sets are scored by training new models on them and only the best scoring one is kept.\n",
    "\n",
    "Forwards and backwards do not have to yield the same feature sets, though none is necessarily better. Their performance can differ depending on the amount and size of models that need to be trained to reach the desired amount of features.\n",
    "\n",
    "---\n",
    "\n",
    "https://scikit-learn.org/stable/modules/generated/sklearn.feature_selection.SequentialFeatureSelector.html"
   ]
  },
  {
   "cell_type": "code",
   "execution_count": 17,
   "metadata": {},
   "outputs": [
    {
     "name": "stdout",
     "output_type": "stream",
     "text": [
      "Selected 5/23 features: \n",
      "['multi' 'blank' 'no_of_added_python_files' 'no_of_modified_python_files'\n",
      " 'no_of_deleted_python_files']\n"
     ]
    },
    {
     "data": {
      "application/vnd.jupyter.widget-view+json": {
       "model_id": "13fa55f5f9cb46e4aecad725ce28a67d",
       "version_major": 2,
       "version_minor": 0
      },
      "text/plain": [
       "  0%|          | 0/6 [00:00<?, ?it/s]"
      ]
     },
     "metadata": {},
     "output_type": "display_data"
    },
    {
     "name": "stdout",
     "output_type": "stream",
     "text": [
      "Classifier              Accuracy          F1                Precision         Recall\n",
      "----------------------  ----------------  ----------------  ----------------  ----------------\n",
      "DecisionTreeClassifier  0.7729 (0.0021)   0.5644 (-0.0513)  0.7580 (0.0760)   0.4495 (-0.1116)\n",
      "RandomForestClassifier  0.7415 (-0.0328)  0.6326 (-0.0428)  0.5913 (-0.0465)  0.6801 (-0.0377)\n",
      "LogisticRegression      0.7697 (0.0032)   0.5899 (-0.0074)  0.7068 (0.0213)   0.5062 (-0.0230)\n",
      "LogisticRegression_l1   0.7697 (0.0032)   0.5899 (-0.0074)  0.7068 (0.0213)   0.5062 (-0.0230)\n",
      "LogisticRegression_l2   0.7697 (0.0032)   0.5899 (-0.0074)  0.7068 (0.0213)   0.5062 (-0.0230)\n",
      "KNeighborsClassifier    0.7447 (-0.0293)  0.5474 (-0.0415)  0.6519 (-0.0755)  0.4717 (-0.0230)\n",
      "Average                 0.7613 (-0.0084)  0.5857 (-0.0263)  0.6869 (0.0030)   0.5200 (-0.0402)\n",
      "['multi' 'blank' 'no_of_added_python_files' 'no_of_modified_python_files'\n",
      " 'no_of_deleted_python_files']\n",
      "Detected features as string indices\n"
     ]
    },
    {
     "data": {
      "text/html": [
       "\n",
       "                    Syncing run <strong><a href=\"https://wandb.ai/vincentbrouwers/sogeti-hackathon-feature-selection/runs/2xxccwlb\" target=\"_blank\">Vincent Brouwers-SequentialFeatureSelector-17:15:46</a></strong> to <a href=\"https://wandb.ai/vincentbrouwers/sogeti-hackathon-feature-selection\" target=\"_blank\">Weights & Biases</a> (<a href=\"https://docs.wandb.com/integrations/jupyter.html\" target=\"_blank\">docs</a>).<br/>\n",
       "\n",
       "                "
      ],
      "text/plain": [
       "<IPython.core.display.HTML object>"
      ]
     },
     "metadata": {},
     "output_type": "display_data"
    },
    {
     "data": {
      "text/html": [
       "Waiting for W&B process to finish, PID 12130... <strong style=\"color:green\">(success).</strong>"
      ],
      "text/plain": [
       "<IPython.core.display.HTML object>"
      ]
     },
     "metadata": {},
     "output_type": "display_data"
    },
    {
     "data": {
      "application/vnd.jupyter.widget-view+json": {
       "model_id": "c2a4edd795274b1a92e7c7bfeaf9e8ff",
       "version_major": 2,
       "version_minor": 0
      },
      "text/plain": [
       "VBox(children=(Label(value=' 0.00MB of 0.00MB uploaded (0.00MB deduped)\\r'), FloatProgress(value=0.76479289940…"
      ]
     },
     "metadata": {},
     "output_type": "display_data"
    },
    {
     "data": {
      "text/html": [
       "Synced <strong style=\"color:#cdcd00\">Vincent Brouwers-SequentialFeatureSelector-17:15:46</strong>: <a href=\"https://wandb.ai/vincentbrouwers/sogeti-hackathon-feature-selection/runs/2xxccwlb\" target=\"_blank\">https://wandb.ai/vincentbrouwers/sogeti-hackathon-feature-selection/runs/2xxccwlb</a><br/>\n"
      ],
      "text/plain": [
       "<IPython.core.display.HTML object>"
      ]
     },
     "metadata": {},
     "output_type": "display_data"
    }
   ],
   "source": [
    "from sklearn.feature_selection import SequentialFeatureSelector\n",
    "\n",
    "direction = \"forward\"\n",
    "# direction = \"backward\"\n",
    "\n",
    "clf = LogisticRegression(max_iter=1000)\n",
    "selector = SequentialFeatureSelector(clf, n_features_to_select=5, direction=direction, scoring=\"f1\", n_jobs=-1)\n",
    "\n",
    "selector = selector.fit(X_train, y_train)\n",
    "\n",
    "test_selector(selector)"
   ]
  },
  {
   "cell_type": "markdown",
   "metadata": {},
   "source": [
    "### Own selection\n",
    "\n",
    "Now try it for yourself. Is there another method of feature selection you would like to try? Do yo think combining other methods might "
   ]
  },
  {
   "cell_type": "code",
   "execution_count": 18,
   "metadata": {},
   "outputs": [
    {
     "data": {
      "application/vnd.jupyter.widget-view+json": {
       "model_id": "592dc99864a94f29becea4c44289a3a8",
       "version_major": 2,
       "version_minor": 0
      },
      "text/plain": [
       "  0%|          | 0/6 [00:00<?, ?it/s]"
      ]
     },
     "metadata": {},
     "output_type": "display_data"
    },
    {
     "name": "stdout",
     "output_type": "stream",
     "text": [
      "Classifier              Accuracy          F1                Precision         Recall\n",
      "----------------------  ----------------  ----------------  ----------------  ----------------\n",
      "DecisionTreeClassifier  0.7664 (-0.0043)  0.6049 (-0.0108)  0.6775 (-0.0044)  0.5463 (-0.0148)\n",
      "RandomForestClassifier  0.7745 (0.0003)   0.6767 (0.0013)   0.6374 (-0.0003)  0.7211 (0.0033)\n",
      "LogisticRegression      0.7664 (0.0000)   0.5972 (0.0000)   0.6854 (0.0000)   0.5291 (0.0000)\n",
      "LogisticRegression_l1   0.7662 (-0.0003)  0.5966 (-0.0006)  0.6851 (-0.0003)  0.5283 (-0.0008)\n",
      "LogisticRegression_l2   0.7664 (0.0000)   0.5972 (0.0000)   0.6854 (0.0000)   0.5291 (0.0000)\n",
      "KNeighborsClassifier    0.7740 (0.0000)   0.5889 (0.0000)   0.7274 (0.0000)   0.4947 (0.0000)\n",
      "Average                 0.7690 (-0.0007)  0.6102 (-0.0017)  0.6831 (-0.0009)  0.5581 (-0.0021)\n"
     ]
    }
   ],
   "source": [
    "used_features = [\n",
    "    0,\n",
    "    1,\n",
    "    2,\n",
    "    3,\n",
    "    4,\n",
    "    5,\n",
    "    6,\n",
    "    7,\n",
    "    8,\n",
    "    9,\n",
    "    10,\n",
    "    11,\n",
    "    12,\n",
    "    13,\n",
    "    14,\n",
    "    15,\n",
    "    16,\n",
    "    17,\n",
    "    18,\n",
    "    19,\n",
    "    20,\n",
    "    21,\n",
    "    22,\n",
    "]\n",
    "\n",
    "scores = test_selection(used_features, compare=baseline)\n",
    "\n",
    "# Uncomment this as soon as you want to upload your run to Weights&Biases. \n",
    "# log_scores(scores, used_features, \"Custom\")\n"
   ]
  }
 ],
 "metadata": {
  "interpreter": {
   "hash": "194a1ef71cbe383bb0e91fd20851e850791a3f40c244816884283bb052247dec"
  },
  "kernelspec": {
   "display_name": "Python 3.10.2 64-bit ('hackathon-feature-selection': conda)",
   "language": "python",
   "name": "python3"
  },
  "language_info": {
   "codemirror_mode": {
    "name": "ipython",
    "version": 3
   },
   "file_extension": ".py",
   "mimetype": "text/x-python",
   "name": "python",
   "nbconvert_exporter": "python",
   "pygments_lexer": "ipython3",
   "version": "3.10.2"
  },
  "orig_nbformat": 4
 },
 "nbformat": 4,
 "nbformat_minor": 2
}
