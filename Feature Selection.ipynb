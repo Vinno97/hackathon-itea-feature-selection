{
 "cells": [
  {
   "cell_type": "code",
   "execution_count": 1,
   "metadata": {},
   "outputs": [],
   "source": [
    "import matplotlib.pyplot as plt\n",
    "import numpy as np\n",
    "import pandas as pd\n",
    "from sklearn import datasets, metrics\n",
    "from sklearn.ensemble import RandomForestClassifier\n",
    "from sklearn.linear_model import LogisticRegression, RidgeClassifier\n",
    "from sklearn.model_selection import train_test_split\n",
    "from sklearn.svm import SVC\n",
    "from sklearn.tree import DecisionTreeClassifier\n",
    "from sklearn.utils.class_weight import compute_class_weight\n",
    "from tabulate import tabulate\n",
    "from tqdm.auto import tqdm\n",
    "import seaborn as sns\n",
    "\n",
    "import wandb\n"
   ]
  },
  {
   "cell_type": "code",
   "execution_count": 2,
   "metadata": {},
   "outputs": [],
   "source": [
    "sns.set_theme()\n",
    "plt.rc('figure', figsize=(8, 4), dpi=100)"
   ]
  },
  {
   "cell_type": "markdown",
   "metadata": {},
   "source": [
    "\n",
    "# Set up Weights & Biases tracking\n",
    "\n",
    "To make this interesting, we're tracking everyone's progress via W&B. Don't worry \n",
    "Please replace `<Your name here>` by your own name (or a nickname).\n",
    "\n",
    "If you just want to play around without uploading your runs, set `offline` to `True`"
   ]
  },
  {
   "cell_type": "code",
   "execution_count": 3,
   "metadata": {},
   "outputs": [],
   "source": [
    "# Used for identifying runs on the W&B dashboard\n",
    "# name = \"<Your name here>\"\n",
    "name = \"Vincent Brouwers\"\n",
    "\n",
    "# Whether or not to upload runs to W&B\n",
    "upload = True\n",
    "\n",
    "# Just for tracking your\n",
    "run = 0"
   ]
  },
  {
   "cell_type": "code",
   "execution_count": 4,
   "metadata": {},
   "outputs": [],
   "source": [
    "if name == \"<Your name here>\":\n",
    "  raise Exception(\"RTFM\")"
   ]
  },
  {
   "cell_type": "markdown",
   "metadata": {},
   "source": [
    "# Load Data"
   ]
  },
  {
   "cell_type": "code",
   "execution_count": 5,
   "metadata": {},
   "outputs": [],
   "source": [
    "run += 1"
   ]
  },
  {
   "cell_type": "code",
   "execution_count": 6,
   "metadata": {},
   "outputs": [],
   "source": [
    "df = pd.read_csv(\"datasets/full.csv\")\n",
    "all_feature_names = df.iloc[:, 1:].columns.to_list()\n",
    "\n",
    "class Dataset:\n",
    "  \"\"\"\n",
    "  Just a small wrapper to emulate around Scikit-learn's built-in datasets\n",
    "  \"\"\"\n",
    "  def __init__(self, df):\n",
    "    data = df.iloc[:, 1:]\n",
    "    target = df.iloc[:, 0]\n",
    "    self.data = data.to_numpy()\n",
    "    self.target = target.to_numpy()\n",
    "    self.feature_names = data.columns.to_list()    \n",
    "    self.target_names = [\"not buggy\", \"buggy\"]\n",
    "    \n",
    "data = Dataset(df)\n",
    "\n",
    "X = data.data\n",
    "y = data.target\n",
    "feature_names = data.feature_names\n",
    "labels = data.target_names"
   ]
  },
  {
   "cell_type": "markdown",
   "metadata": {},
   "source": []
  },
  {
   "cell_type": "code",
   "execution_count": 7,
   "metadata": {},
   "outputs": [],
   "source": [
    "# Split data into 70% train and 30% test subsets\n",
    "\n",
    "X_train, X_test, y_train, y_test = train_test_split(\n",
    "    X,\n",
    "    y,\n",
    "    test_size=0.3,\n",
    "    shuffle=True,\n",
    ")"
   ]
  },
  {
   "cell_type": "code",
   "execution_count": 12,
   "metadata": {},
   "outputs": [],
   "source": [
    "class_weight = compute_class_weight('balanced', classes=np.unique(y_train), y=y_train)"
   ]
  },
  {
   "cell_type": "markdown",
   "metadata": {},
   "source": [
    "## Defining our models\n",
    "\n",
    "The value of features can differ greatly between models, which is why we test across a number of common and easy-to-train ones. We also look at the effect of regularization, as this can also affect the impact of feature selection.\n",
    "\n",
    "* Decision Tree\n",
    "* Random Forrest\n",
    "* Logistic Regression\n",
    "* Logistic Regression (with L1 regularization)\n",
    "* Logistic Regression (with L2 regularization)\n",
    "\n",
    "\n",
    "_There is no need to change anything here. These are just helper functions to quickly test our data_"
   ]
  },
  {
   "cell_type": "code",
   "execution_count": 30,
   "metadata": {},
   "outputs": [],
   "source": [
    "classifiers = [\n",
    "        (DecisionTreeClassifier(), ),\n",
    "        (RandomForestClassifier(n_estimators=200, min_samples_leaf=10, max_depth=20, class_weight=\"balanced\"), ),\n",
    "        # (SVC(gamma=\"auto\", probability=True, class_weight=class_weight), ),\n",
    "        (LogisticRegression(max_iter=1000, class_weight=\"balanced\"), ),\n",
    "        (LogisticRegression(max_iter=1000, penalty=\"l1\", solver=\"liblinear\", class_weight=\"balanced\"), \"_l1\"),\n",
    "        (LogisticRegression(max_iter=1000, penalty=\"l2\", class_weight=\"balanced\"), \"_l2\"),\n",
    "    ]\n",
    "classifiers = [(c[0], c[0].__class__.__name__ + (c[1] if len(c) > 1 else \"\")) for c in classifiers]"
   ]
  },
  {
   "cell_type": "code",
   "execution_count": 33,
   "metadata": {},
   "outputs": [
    {
     "data": {
      "application/vnd.jupyter.widget-view+json": {
       "model_id": "eff77753fe394a15aa6a354b68055211",
       "version_major": 2,
       "version_minor": 0
      },
      "text/plain": [
       "  0%|          | 0/5 [00:00<?, ?it/s]"
      ]
     },
     "metadata": {},
     "output_type": "display_data"
    },
    {
     "name": "stdout",
     "output_type": "stream",
     "text": [
      "[{'Accuracy': '0.7667', 'F1': '0.6112', 'Precision': '0.6810', 'Recall': '0.5544'}, {'Accuracy': '0.7697', 'F1': '0.6703', 'Precision': '0.6365', 'Recall': '0.7078'}, {'Accuracy': '0.7616', 'F1': '0.5779', 'Precision': '0.6972', 'Recall': '0.4935'}, {'Accuracy': '0.7613', 'F1': '0.5773', 'Precision': '0.6969', 'Recall': '0.4927'}, {'Accuracy': '0.7616', 'F1': '0.5779', 'Precision': '0.6972', 'Recall': '0.4935'}]\n"
     ]
    },
    {
     "ename": "ValueError",
     "evalue": "headers for a list of dicts is not a dict or a keyword",
     "output_type": "error",
     "traceback": [
      "\u001b[0;31m---------------------------------------------------------------------------\u001b[0m",
      "\u001b[0;31mValueError\u001b[0m                                Traceback (most recent call last)",
      "Input \u001b[0;32mIn [33]\u001b[0m, in \u001b[0;36m<module>\u001b[0;34m\u001b[0m\n\u001b[1;32m     45\u001b[0m     tabulate(table, headers\u001b[38;5;241m=\u001b[39m\u001b[38;5;124m\"\u001b[39m\u001b[38;5;124mkey\u001b[39m\u001b[38;5;124m\"\u001b[39m)\n\u001b[1;32m     48\u001b[0m     \u001b[38;5;28;01mreturn\u001b[39;00m scores    \n\u001b[0;32m---> 50\u001b[0m baseline \u001b[38;5;241m=\u001b[39m \u001b[43mtest_selection\u001b[49m\u001b[43m(\u001b[49m\u001b[38;5;28;43;01mNone\u001b[39;49;00m\u001b[43m,\u001b[49m\u001b[43m \u001b[49m\u001b[43mcompare\u001b[49m\u001b[38;5;241;43m=\u001b[39;49m\u001b[38;5;28;43;01mFalse\u001b[39;49;00m\u001b[43m)\u001b[49m\n",
      "Input \u001b[0;32mIn [33]\u001b[0m, in \u001b[0;36mtest_selection\u001b[0;34m(feature_indices, compare, log, log_wandb)\u001b[0m\n\u001b[1;32m     43\u001b[0m \u001b[38;5;28mprint\u001b[39m(table)\n\u001b[1;32m     44\u001b[0m \u001b[38;5;66;03m# print(tabulate(table, headers=[\"Classifier\", \"Accuracy\", \"F1\", \"Precision\", \"Recall\"]))   \u001b[39;00m\n\u001b[0;32m---> 45\u001b[0m \u001b[43mtabulate\u001b[49m\u001b[43m(\u001b[49m\u001b[43mtable\u001b[49m\u001b[43m,\u001b[49m\u001b[43m \u001b[49m\u001b[43mheaders\u001b[49m\u001b[38;5;241;43m=\u001b[39;49m\u001b[38;5;124;43m\"\u001b[39;49m\u001b[38;5;124;43mkey\u001b[39;49m\u001b[38;5;124;43m\"\u001b[39;49m\u001b[43m)\u001b[49m\n\u001b[1;32m     48\u001b[0m \u001b[38;5;28;01mreturn\u001b[39;00m scores\n",
      "File \u001b[0;32m~/mambaforge/envs/hackathon-feature-selection/lib/python3.10/site-packages/tabulate.py:1528\u001b[0m, in \u001b[0;36mtabulate\u001b[0;34m(tabular_data, headers, tablefmt, floatfmt, numalign, stralign, missingval, showindex, disable_numparse, colalign)\u001b[0m\n\u001b[1;32m   1526\u001b[0m \u001b[38;5;28;01mif\u001b[39;00m tabular_data \u001b[38;5;129;01mis\u001b[39;00m \u001b[38;5;28;01mNone\u001b[39;00m:\n\u001b[1;32m   1527\u001b[0m     tabular_data \u001b[38;5;241m=\u001b[39m []\n\u001b[0;32m-> 1528\u001b[0m list_of_lists, headers \u001b[38;5;241m=\u001b[39m \u001b[43m_normalize_tabular_data\u001b[49m\u001b[43m(\u001b[49m\n\u001b[1;32m   1529\u001b[0m \u001b[43m    \u001b[49m\u001b[43mtabular_data\u001b[49m\u001b[43m,\u001b[49m\u001b[43m \u001b[49m\u001b[43mheaders\u001b[49m\u001b[43m,\u001b[49m\u001b[43m \u001b[49m\u001b[43mshowindex\u001b[49m\u001b[38;5;241;43m=\u001b[39;49m\u001b[43mshowindex\u001b[49m\n\u001b[1;32m   1530\u001b[0m \u001b[43m\u001b[49m\u001b[43m)\u001b[49m\n\u001b[1;32m   1532\u001b[0m \u001b[38;5;66;03m# empty values in the first column of RST tables should be escaped (issue #82)\u001b[39;00m\n\u001b[1;32m   1533\u001b[0m \u001b[38;5;66;03m# \"\" should be escaped as \"\\\\ \" or \"..\"\u001b[39;00m\n\u001b[1;32m   1534\u001b[0m \u001b[38;5;28;01mif\u001b[39;00m tablefmt \u001b[38;5;241m==\u001b[39m \u001b[38;5;124m\"\u001b[39m\u001b[38;5;124mrst\u001b[39m\u001b[38;5;124m\"\u001b[39m:\n",
      "File \u001b[0;32m~/mambaforge/envs/hackathon-feature-selection/lib/python3.10/site-packages/tabulate.py:1161\u001b[0m, in \u001b[0;36m_normalize_tabular_data\u001b[0;34m(tabular_data, headers, showindex)\u001b[0m\n\u001b[1;32m   1159\u001b[0m             headers \u001b[38;5;241m=\u001b[39m []\n\u001b[1;32m   1160\u001b[0m     \u001b[38;5;28;01melif\u001b[39;00m headers:\n\u001b[0;32m-> 1161\u001b[0m         \u001b[38;5;28;01mraise\u001b[39;00m \u001b[38;5;167;01mValueError\u001b[39;00m(\n\u001b[1;32m   1162\u001b[0m             \u001b[38;5;124m\"\u001b[39m\u001b[38;5;124mheaders for a list of dicts is not a dict or a keyword\u001b[39m\u001b[38;5;124m\"\u001b[39m\n\u001b[1;32m   1163\u001b[0m         )\n\u001b[1;32m   1164\u001b[0m     rows \u001b[38;5;241m=\u001b[39m [[row\u001b[38;5;241m.\u001b[39mget(k) \u001b[38;5;28;01mfor\u001b[39;00m k \u001b[38;5;129;01min\u001b[39;00m keys] \u001b[38;5;28;01mfor\u001b[39;00m row \u001b[38;5;129;01min\u001b[39;00m rows]\n\u001b[1;32m   1166\u001b[0m \u001b[38;5;28;01melif\u001b[39;00m (\n\u001b[1;32m   1167\u001b[0m     headers \u001b[38;5;241m==\u001b[39m \u001b[38;5;124m\"\u001b[39m\u001b[38;5;124mkeys\u001b[39m\u001b[38;5;124m\"\u001b[39m\n\u001b[1;32m   1168\u001b[0m     \u001b[38;5;129;01mand\u001b[39;00m \u001b[38;5;28mhasattr\u001b[39m(tabular_data, \u001b[38;5;124m\"\u001b[39m\u001b[38;5;124mdescription\u001b[39m\u001b[38;5;124m\"\u001b[39m)\n\u001b[0;32m   (...)\u001b[0m\n\u001b[1;32m   1172\u001b[0m     \u001b[38;5;66;03m# Python Database API cursor object (PEP 0249)\u001b[39;00m\n\u001b[1;32m   1173\u001b[0m     \u001b[38;5;66;03m# print tabulate(cursor, headers='keys')\u001b[39;00m\n",
      "\u001b[0;31mValueError\u001b[0m: headers for a list of dicts is not a dict or a keyword"
     ]
    }
   ],
   "source": [
    "baseline = None\n",
    "\n",
    "def test_classifier(clf, feature_indices):\n",
    "    if not feature_indices:\n",
    "        feature_indices = list(range(X_train.shape[1]))\n",
    "    clf.fit(X_train[:, feature_indices], y_train)\n",
    "\n",
    "    # predicted = clf.predict(X_test)\n",
    "    y_probas = clf.predict_proba(X_test[:, feature_indices])\n",
    "    y_pred = y_probas.argmax(axis=1)\n",
    "\n",
    "    scores = {\n",
    "        f\"Accuracy\": metrics.accuracy_score(y_test, y_pred),\n",
    "        f\"F1\": metrics.f1_score(y_test, y_pred),\n",
    "        f\"Precision\": metrics.precision_score(y_test, y_pred),\n",
    "        f\"Recall\": metrics.recall_score(y_test, y_pred),\n",
    "    }\n",
    "    return scores, y_probas\n",
    "  \n",
    "def test_selection(feature_indices, compare=True, log=True, log_wandb=False):\n",
    "    kwargs = dict(feature_indices=feature_indices, log=False, log_wandb=False)\n",
    "    \n",
    "    scores = {}\n",
    "    table = []\n",
    "    for classifier, name in tqdm(classifiers, smoothing=0):\n",
    "        scores_ = test_classifier(classifier, feature_indices=feature_indices)[0]\n",
    "        scores[name] = scores_\n",
    "        \n",
    "        fmt = {m: f\"{s:0.4f}\" + (f\"{baseline[name][m]:0.4f}\" if compare else \"\") for m, s in scores_.items()}\n",
    "        table.append(fmt)\n",
    "    \n",
    "        \n",
    "\n",
    "    # for n_score, b_score in zip(scores, baseline or range(len(scores))):\n",
    "\n",
    "    #     if compare:\n",
    "    #         print(n_score)\n",
    "    #         print(b_score)\n",
    "    #         n_score = [f\"{n:0.4f} ({n - b:.04f})\" for n, b in zip(n_score, b_score)]\n",
    "                    \n",
    "    #     table.append([name, *n_score])\n",
    "    \n",
    "    print(table)\n",
    "    # print(tabulate(table, headers=[\"Classifier\", \"Accuracy\", \"F1\", \"Precision\", \"Recall\"]))   \n",
    "    tabulate(table, headers=\"key\")\n",
    "        \n",
    "        \n",
    "    return scores    \n",
    "    \n",
    "baseline = test_selection(None, compare=False)"
   ]
  },
  {
   "cell_type": "code",
   "execution_count": null,
   "metadata": {},
   "outputs": [
    {
     "data": {
      "application/vnd.jupyter.widget-view+json": {
       "model_id": "d314820772684f60b174041714b24980",
       "version_major": 2,
       "version_minor": 0
      },
      "text/plain": [
       "  0%|          | 0/5 [00:00<?, ?it/s]"
      ]
     },
     "metadata": {},
     "output_type": "display_data"
    },
    {
     "name": "stdout",
     "output_type": "stream",
     "text": [
      "Classifier               Accuracy        F1    Precision    Recall\n",
      "---------------------  ----------  --------  -----------  --------\n",
      "LogisticRegression_l2    0.766443  0.612299     0.678854  0.55763\n",
      "LogisticRegression_l2    0.769396  0.669996     0.636032  0.707792\n",
      "LogisticRegression_l2    0.761611  0.577947     0.697248  0.493506\n",
      "LogisticRegression_l2    0.761342  0.577271     0.6969    0.492695\n",
      "LogisticRegression_l2    0.761611  0.577947     0.697248  0.493506\n"
     ]
    }
   ],
   "source": [
    "baseline = None\n",
    "\n",
    "def test_classifier(clf, feature_indices):\n",
    "    if not feature_indices:\n",
    "        feature_indices = list(range(X_train.shape[1]))\n",
    "    clf.fit(X_train[:, feature_indices], y_train)\n",
    "\n",
    "    # predicted = clf.predict(X_test)\n",
    "    y_probas = clf.predict_proba(X_test[:, feature_indices])\n",
    "    y_pred = y_probas.argmax(axis=1)\n",
    "\n",
    "    scores = {\n",
    "        f\"Accuracy\": metrics.accuracy_score(y_test, y_pred),\n",
    "        f\"F1\": metrics.f1_score(y_test, y_pred),\n",
    "        f\"Precision\": metrics.precision_score(y_test, y_pred),\n",
    "        f\"Recall\": metrics.recall_score(y_test, y_pred),\n",
    "    }\n",
    "    return scores, y_probas\n",
    "  \n",
    "def test_selection(feature_indices, compare=True, log=True, log_wandb=False):\n",
    "    kwargs = dict(feature_indices=feature_indices, log=False, log_wandb=False)\n",
    "    \n",
    "    scores = {}\n",
    "    table = []\n",
    "    for classifier, name in tqdm(classifiers, smoothing=0):\n",
    "        scores_ = test_classifier(classifier, feature_indices=feature_indices)[0]\n",
    "        scores[name] = scores_\n",
    "        \n",
    "        fmt = {m: f\"{s:0.4f}\" + f\"{baseline[name][metric]:0.4f}\" if compare else \"\" for m, s in scores_.items()}\n",
    "        if compare:\n",
    "            fmt = {m: f\"{score:0.4f}\" for metric, score in scores_.items()}\n",
    "        table.append()\n",
    "        \n",
    "        for metric, score in scores_:\n",
    "            rep = f\"{score:0.4f}\"\n",
    "            if compare:\n",
    "                rep += f\"{baseline[name][metric]:0.4f}\"\n",
    "            \n",
    "\n",
    "\n",
    "    for clf, clf_scores in scores.items():\n",
    "        if compare:\n",
    "            b_scores = baseline[clf]\n",
    "        \n",
    "        \n",
    "\n",
    "    for n_score, b_score in zip(scores, baseline or range(len(scores))):\n",
    "\n",
    "        if compare:\n",
    "            print(n_score)\n",
    "            print(b_score)\n",
    "            n_score = [f\"{n:0.4f} ({n - b:.04f})\" for n, b in zip(n_score, b_score)]\n",
    "                    \n",
    "        table.append([name, *n_score])\n",
    "    \n",
    "    \n",
    "    # print(tabulate(table, headers=[\"Classifier\", \"Accuracy\", \"F1\", \"Precision\", \"Recall\"]))   \n",
    "    tabulate(table, headers=\"key\")\n",
    "        \n",
    "        \n",
    "    return scores    \n",
    "    \n",
    "baseline = test_selection(None, compare=False)"
   ]
  },
  {
   "cell_type": "markdown",
   "metadata": {},
   "source": [
    "## Feature Selection"
   ]
  },
  {
   "cell_type": "code",
   "execution_count": 28,
   "metadata": {},
   "outputs": [
    {
     "data": {
      "application/vnd.jupyter.widget-view+json": {
       "model_id": "8c11f1c2c1254a09a6baa7c769ea0f58",
       "version_major": 2,
       "version_minor": 0
      },
      "text/plain": [
       "  0%|          | 0/5 [00:00<?, ?it/s]"
      ]
     },
     "metadata": {},
     "output_type": "display_data"
    },
    {
     "name": "stdout",
     "output_type": "stream",
     "text": [
      "dict_values([0.7629530201342282, 0.6084257206208425, 0.6705767350928641, 0.5568181818181818])\n",
      "dict_values([0.7624161073825504, 0.6057906458797327, 0.6712734452122409, 0.551948051948052])\n",
      "dict_values([0.7685906040268456, 0.668206312548114, 0.6354319180087847, 0.7045454545454546])\n",
      "dict_values([0.7702013422818792, 0.6725325172149962, 0.6360347322720694, 0.713474025974026])\n",
      "dict_values([0.7616107382550336, 0.5779467680608366, 0.6972477064220184, 0.4935064935064935])\n",
      "dict_values([0.7616107382550336, 0.5779467680608366, 0.6972477064220184, 0.4935064935064935])\n",
      "dict_values([0.7613422818791946, 0.5772705658582977, 0.6969001148105626, 0.4926948051948052])\n",
      "dict_values([0.7613422818791946, 0.5772705658582977, 0.6969001148105626, 0.4926948051948052])\n",
      "dict_values([0.7616107382550336, 0.5779467680608366, 0.6972477064220184, 0.4935064935064935])\n",
      "dict_values([0.7616107382550336, 0.5779467680608366, 0.6972477064220184, 0.4935064935064935])\n",
      "Classifier             Accuracy          F1                Precision         Recall\n",
      "---------------------  ----------------  ----------------  ----------------  ----------------\n",
      "LogisticRegression_l2  0.7630 (0.0005)   0.6084 (0.0026)   0.6706 (-0.0007)  0.5568 (0.0049)\n",
      "LogisticRegression_l2  0.7686 (-0.0016)  0.6682 (-0.0043)  0.6354 (-0.0006)  0.7045 (-0.0089)\n",
      "LogisticRegression_l2  0.7616 (0.0000)   0.5779 (0.0000)   0.6972 (0.0000)   0.4935 (0.0000)\n",
      "LogisticRegression_l2  0.7613 (0.0000)   0.5773 (0.0000)   0.6969 (0.0000)   0.4927 (0.0000)\n",
      "LogisticRegression_l2  0.7616 (0.0000)   0.5779 (0.0000)   0.6972 (0.0000)   0.4935 (0.0000)\n"
     ]
    }
   ],
   "source": [
    "baseline = test_selection(None)"
   ]
  },
  {
   "cell_type": "markdown",
   "metadata": {},
   "source": [
    "### Variance Threshold\n",
    "\n",
    "A simple method to filter out superfluous features, is to remove ones with a low variance. The idea here is that these features offer relatively little information."
   ]
  },
  {
   "cell_type": "code",
   "execution_count": 15,
   "metadata": {},
   "outputs": [
    {
     "name": "stdout",
     "output_type": "stream",
     "text": [
      "Selected 19/23 features: \n",
      "['h1' 'h2' 'N1' 'N2' 'complexity' 'loc' 'lloc' 'sloc' 'comments' 'multi'\n",
      " 'blank' 'single_comments' 'no_of_files' 'no_of_added_files'\n",
      " 'no_of_added_python_files' 'no_of_modified_files'\n",
      " 'no_of_modified_python_files' 'no_of_deleted_files'\n",
      " 'no_of_deleted_python_files']\n"
     ]
    },
    {
     "data": {
      "application/vnd.jupyter.widget-view+json": {
       "model_id": "3b528e977ed5454ca532b195a1446d8e",
       "version_major": 2,
       "version_minor": 0
      },
      "text/plain": [
       "  0%|          | 0/5 [00:00<?, ?it/s]"
      ]
     },
     "metadata": {},
     "output_type": "display_data"
    },
    {
     "name": "stdout",
     "output_type": "stream",
     "text": [
      "Classifier                Accuracy        F1    Precision    Recall\n",
      "----------------------  ----------  --------  -----------  --------\n",
      "DecisionTreeClassifier    0.762416  0.605439     0.671612  0.551136\n",
      "RandomForestClassifier    0.764564  0.666159     0.62724   0.710227\n",
      "LogisticRegression        0.762148  0.578497     0.698851  0.493506\n",
      "LogisticRegression_l1     0.761879  0.57782      0.698504  0.492695\n",
      "LogisticRegression_l2     0.762148  0.578497     0.698851  0.493506\n"
     ]
    }
   ],
   "source": [
    "from sklearn.feature_selection import VarianceThreshold\n",
    "\n",
    "var = VarianceThreshold(threshold=0.3)\n",
    "\n",
    "var.fit(X_train)\n",
    "\n",
    "used_features = var.get_support()\n",
    "used_feature_names = var.get_feature_names_out(data.feature_names)\n",
    "print(f\"Selected {sum(used_features)}/{len(feature_names)} features: \\n{used_feature_names}\")\n",
    "\n",
    "# X_reduced = var.transform(X_train)\n",
    "test_selection(used_features)\n"
   ]
  },
  {
   "cell_type": "markdown",
   "metadata": {},
   "source": [
    "### From model\n",
    "\n",
    "Some models have built-in methods of extracting the importance of each feature. This allows us to easily remove the fields that our model extracts the least amount of information from"
   ]
  },
  {
   "cell_type": "code",
   "execution_count": 16,
   "metadata": {},
   "outputs": [
    {
     "name": "stdout",
     "output_type": "stream",
     "text": [
      "Selected 18/23 features: \n",
      "['h1' 'h2' 'N1' 'N2' 'complexity' 'loc' 'lloc' 'sloc' 'comments' 'multi'\n",
      " 'blank' 'single_comments' 'no_of_files' 'no_of_added_files'\n",
      " 'no_of_modified_files' 'no_of_modified_python_files'\n",
      " 'no_of_deleted_files' 'no_of_deleted_python_files']\n"
     ]
    },
    {
     "data": {
      "application/vnd.jupyter.widget-view+json": {
       "model_id": "bd791adcf48b4765983d4e0f4c26c06f",
       "version_major": 2,
       "version_minor": 0
      },
      "text/plain": [
       "  0%|          | 0/5 [00:00<?, ?it/s]"
      ]
     },
     "metadata": {},
     "output_type": "display_data"
    },
    {
     "name": "stdout",
     "output_type": "stream",
     "text": [
      "Classifier                Accuracy        F1    Precision    Recall\n",
      "----------------------  ----------  --------  -----------  --------\n",
      "DecisionTreeClassifier    0.764832  0.611358     0.674168  0.559253\n",
      "RandomForestClassifier    0.76349   0.664636     0.625806  0.708604\n",
      "LogisticRegression        0.761074  0.576996     0.696101  0.492695\n",
      "LogisticRegression_l1     0.761074  0.576996     0.696101  0.492695\n",
      "LogisticRegression_l2     0.761074  0.576996     0.696101  0.492695\n"
     ]
    },
    {
     "data": {
      "image/png": "[encoded data removed]",
      "text/plain": [
       "<Figure size 1000x600 with 1 Axes>"
      ]
     },
     "metadata": {},
     "output_type": "display_data"
    }
   ],
   "source": [
    "from sklearn.feature_selection import SelectFromModel\n",
    "\n",
    "clf = RandomForestClassifier(n_estimators=200).fit(X_train, y_train)\n",
    "\n",
    "plt.figure(figsize=(10, 6))\n",
    "plt.barh(feature_names, clf.feature_importances_)\n",
    "\n",
    "selector = SelectFromModel(clf, threshold=\"0.2 * mean\", prefit=True)\n",
    "\n",
    "used_features = selector.get_support()\n",
    "used_feature_names = selector.get_feature_names_out(data.feature_names)\n",
    "print(f\"Selected {sum(used_features)}/{len(feature_names)} features: \\n{used_feature_names}\")\n",
    "\n",
    "test_selection(used_features)"
   ]
  },
  {
   "cell_type": "code",
   "execution_count": null,
   "metadata": {},
   "outputs": [
    {
     "data": {
      "text/html": [
       "\n",
       "                    Syncing run <strong><a href=\"https://wandb.ai/vincentbrouwers/sogeti-hackathon-feature-selection/runs/3ekm15x3\" target=\"_blank\">Vincent Brouwers-run 4</a></strong> to <a href=\"https://wandb.ai/vincentbrouwers/sogeti-hackathon-feature-selection\" target=\"_blank\">Weights & Biases</a> (<a href=\"https://docs.wandb.com/integrations/jupyter.html\" target=\"_blank\">docs</a>).<br/>\n",
       "\n",
       "                "
      ],
      "text/plain": [
       "<IPython.core.display.HTML object>"
      ]
     },
     "metadata": {},
     "output_type": "display_data"
    },
    {
     "data": {
      "text/html": [
       "<br/>Waiting for W&B process to finish, PID 29882... <strong style=\"color:green\">(success).</strong>"
      ],
      "text/plain": [
       "<IPython.core.display.HTML object>"
      ]
     },
     "metadata": {},
     "output_type": "display_data"
    },
    {
     "data": {
      "text/html": [
       "<style>\n",
       "    table.wandb td:nth-child(1) { padding: 0 10px; text-align: right }\n",
       "    .wandb-row { display: flex; flex-direction: row; flex-wrap: wrap; width: 100% }\n",
       "    .wandb-col { display: flex; flex-direction: column; flex-basis: 100%; flex: 1; padding: 10px; }\n",
       "    </style>\n",
       "<div class=\"wandb-row\"><div class=\"wandb-col\">\n",
       "<h3>Run history:</h3><br/><table class=\"wandb\"><tr><td>feature_count</td><td>▁</td></tr></table><br/></div><div class=\"wandb-col\">\n",
       "<h3>Run summary:</h3><br/><table class=\"wandb\"><tr><td>feature_count</td><td>19</td></tr></table>\n",
       "</div></div>\n",
       "Synced 5 W&B file(s), 3 media file(s), 3 artifact file(s) and 0 other file(s)\n",
       "<br/>Synced <strong style=\"color:#cdcd00\">Vincent Brouwers-run 4</strong>: <a href=\"https://wandb.ai/vincentbrouwers/sogeti-hackathon-feature-selection/runs/3ekm15x3\" target=\"_blank\">https://wandb.ai/vincentbrouwers/sogeti-hackathon-feature-selection/runs/3ekm15x3</a><br/>\n",
       "Find logs at: <code>./wandb/run-20220118_123734-3ekm15x3/logs</code><br/>\n"
      ],
      "text/plain": [
       "<IPython.core.display.HTML object>"
      ]
     },
     "metadata": {},
     "output_type": "display_data"
    }
   ],
   "source": [
    "# %%wandb\n",
    "\n",
    "# run += 1\n",
    "\n",
    "# used_features = [[name, name in all_feature_names] for name in data.feature_names]\n",
    "used_features = {name: name in data.feature_names for name in all_feature_names}\n",
    "\n",
    "wandb.init(\n",
    "    project=\"sogeti-hackathon-feature-selection\",\n",
    "    entity=\"vincentbrouwers\",\n",
    "    name=f\"{name}-run {run}\",\n",
    "    anonymous=\"allow\",\n",
    "    tags=dict(name=name, run=run),\n",
    "    mode=\"online\" if upload else \"offline\",\n",
    "    config=dict(features=used_features)\n",
    ")\n",
    "\n",
    "y_probas = clf.predict_proba(X_test)\n",
    "y_pred = y_probas.argmax(axis=1)    \n",
    "\n",
    "# wandb.log(\n",
    "#     {\n",
    "#         \"conf_mat\": wandb.plot.confusion_matrix(\n",
    "#             y_probas, y_test, class_names=data.target_names\n",
    "#         )\n",
    "#     }\n",
    "# )\n",
    "# wandb.log()\n",
    "wandb.log(\n",
    "    {\n",
    "        \"feature_count\": len(data.feature_names),\n",
    "        \"used_features\": wandb.Table(\n",
    "            columns=[\"feature\", \"used\"],\n",
    "            # Just temporary until I have an actual method of filtering features\n",
    "            data=list(used_features.items()),\n",
    "        ),\n",
    "        \"roc\": wandb.plot.roc_curve(y_test, y_probas, data.target_names),\n",
    "        \"pr\": wandb.plot.pr_curve(y_test, y_probas, data.target_names),\n",
    "    }\n",
    ")\n",
    "\n",
    "wandb.finish()\n"
   ]
  },
  {
   "cell_type": "markdown",
   "metadata": {},
   "source": [
    "## Test your solution\n",
    "\n",
    "At the end of the hackathon, you will all receive a withheld test set to test your solutions on. You will be scored on how many features you use and the accuracy difference of our models after training on your reduced feature set."
   ]
  },
  {
   "cell_type": "markdown",
   "metadata": {},
   "source": []
  },
  {
   "cell_type": "code",
   "execution_count": null,
   "metadata": {},
   "outputs": [],
   "source": []
  }
 ],
 "metadata": {
  "interpreter": {
   "hash": "194a1ef71cbe383bb0e91fd20851e850791a3f40c244816884283bb052247dec"
  },
  "kernelspec": {
   "display_name": "Python 3.10.2 64-bit ('hackathon-feature-selection': conda)",
   "language": "python",
   "name": "python3"
  },
  "language_info": {
   "codemirror_mode": {
    "name": "ipython",
    "version": 3
   },
   "file_extension": ".py",
   "mimetype": "text/x-python",
   "name": "python",
   "nbconvert_exporter": "python",
   "pygments_lexer": "ipython3",
   "version": "3.10.2"
  },
  "orig_nbformat": 4
 },
 "nbformat": 4,
 "nbformat_minor": 2
}
