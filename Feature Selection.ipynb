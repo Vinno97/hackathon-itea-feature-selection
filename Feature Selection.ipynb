{
 "cells": [
  {
   "cell_type": "markdown",
   "metadata": {},
   "source": [
    "# Hackathon"
   ]
  },
  {
   "cell_type": "markdown",
   "metadata": {},
   "source": [
    "## Set up notebook"
   ]
  },
  {
   "cell_type": "code",
   "execution_count": 2,
   "metadata": {},
   "outputs": [],
   "source": [
    "from datetime import datetime\n",
    "\n",
    "import matplotlib.pyplot as plt\n",
    "import numpy as np\n",
    "import pandas as pd\n",
    "import seaborn as sns\n",
    "from sklearn import metrics\n",
    "from sklearn.ensemble import RandomForestClassifier\n",
    "from sklearn.linear_model import LogisticRegression\n",
    "from sklearn.model_selection import train_test_split\n",
    "from sklearn.neighbors import KNeighborsClassifier\n",
    "from sklearn.tree import DecisionTreeClassifier\n",
    "from sklearn.utils.class_weight import compute_class_weight\n",
    "from tabulate import tabulate\n",
    "from tqdm.auto import tqdm\n",
    "\n",
    "import wandb\n"
   ]
  },
  {
   "cell_type": "code",
   "execution_count": 3,
   "metadata": {},
   "outputs": [],
   "source": [
    "sns.set_theme()\n",
    "plt.rc('figure', figsize=(8, 4), dpi=100)"
   ]
  },
  {
   "cell_type": "markdown",
   "metadata": {},
   "source": [
    "\n",
    "### Set up Weights & Biases tracking\n",
    "\n",
    "To make this interesting, we're tracking everyone's progress via W&B. Don't worry \n",
    "Please replace `<Your name here>` by your own name (or a nickname).\n",
    "\n",
    "If you just want to play around without uploading your runs, set `offline` to `True`"
   ]
  },
  {
   "cell_type": "code",
   "execution_count": 4,
   "metadata": {},
   "outputs": [],
   "source": [
    "# Used for identifying runs on the W&B dashboard\n",
    "# name = \"<Your name here>\"\n",
    "name = \"Vincent Brouwers\"\n",
    "\n",
    "# Whether or not to upload runs to W&B\n",
    "upload = True"
   ]
  },
  {
   "cell_type": "code",
   "execution_count": 5,
   "metadata": {},
   "outputs": [],
   "source": [
    "if name == \"<Your name here>\":\n",
    "  raise Exception(\"RTFM\")"
   ]
  },
  {
   "cell_type": "markdown",
   "metadata": {},
   "source": [
    "## Load Data"
   ]
  },
  {
   "cell_type": "code",
   "execution_count": 6,
   "metadata": {},
   "outputs": [],
   "source": [
    "df = pd.read_csv(\"datasets/full.csv\")\n",
    "all_feature_names = df.iloc[:, 1:].columns.to_list()\n",
    "\n",
    "X = df.iloc[:, 1:].to_numpy()\n",
    "y = df.iloc[:, 0].to_numpy()\n",
    "feature_names = df.iloc[:, 1:].columns.to_numpy()    \n",
    "labels = [\"not buggy\", \"buggy\"]"
   ]
  },
  {
   "cell_type": "code",
   "execution_count": 7,
   "metadata": {},
   "outputs": [],
   "source": [
    "# Split data into 70% train and 30% test subsets\n",
    "\n",
    "X_train, X_test, y_train, y_test = train_test_split(\n",
    "    X,\n",
    "    y,\n",
    "    test_size=0.3,\n",
    "    shuffle=True,\n",
    ")"
   ]
  },
  {
   "cell_type": "code",
   "execution_count": 8,
   "metadata": {},
   "outputs": [],
   "source": [
    "class_weight = compute_class_weight('balanced', classes=np.unique(y_train), y=y_train)"
   ]
  },
  {
   "cell_type": "markdown",
   "metadata": {},
   "source": [
    "## Defining our models\n",
    "\n",
    "The value of features can differ greatly between models, which is why we test across a number of common and easy-to-train ones. We also look at the effect of regularization, as this can also affect the impact of feature selection.\n",
    "\n",
    "* Decision Tree\n",
    "* Random Forrest\n",
    "* Logistic Regression\n",
    "* Logistic Regression (with L1 regularization)\n",
    "* Logistic Regression (with L2 regularization)\n",
    "* K Nearest Neighbors (with k=15)\n",
    "\n",
    "\n",
    "_There is no need to change anything here. These are just helper functions to quickly test our data_"
   ]
  },
  {
   "cell_type": "code",
   "execution_count": 9,
   "metadata": {},
   "outputs": [],
   "source": [
    "classifiers = [\n",
    "        (DecisionTreeClassifier(), ),\n",
    "        (RandomForestClassifier(n_estimators=200, min_samples_leaf=10, max_depth=20, class_weight=\"balanced\"), ),\n",
    "        # (SVC(gamma=\"auto\", probability=True, class_weight=class_weight), ),\n",
    "        (LogisticRegression(max_iter=1000, class_weight=\"balanced\"), ),\n",
    "        (LogisticRegression(max_iter=1000, penalty=\"l1\", solver=\"liblinear\", class_weight=\"balanced\"), \"_l1\"),\n",
    "        (LogisticRegression(max_iter=1000, penalty=\"l2\", class_weight=\"balanced\"), \"_l2\"),\n",
    "        (KNeighborsClassifier(n_neighbors=15), )\n",
    "    ]\n",
    "classifiers = [(c[0], c[0].__class__.__name__ + (c[1] if len(c) > 1 else \"\")) for c in classifiers]"
   ]
  },
  {
   "cell_type": "markdown",
   "metadata": {},
   "source": [
    "## Setting up our testing code\n",
    "\n",
    "These functions enable us to easily train our set of classifiers using specific features. They also help us keep track of all experiments\n",
    "\n",
    "*There's no need to change anything here, either*"
   ]
  },
  {
   "cell_type": "code",
   "execution_count": 10,
   "metadata": {},
   "outputs": [],
   "source": [
    "def test_classifier(clf, feature_indices):\n",
    "    if feature_indices is None or len(feature_indices) == 0:\n",
    "        feature_indices = list(range(X_train.shape[1]))\n",
    "    clf.fit(X_train[:, feature_indices], y_train)\n",
    "\n",
    "    # predicted = clf.predict(X_test)\n",
    "    y_probas = clf.predict_proba(X_test[:, feature_indices])\n",
    "    y_pred = y_probas.argmax(axis=1)\n",
    "\n",
    "    scores = {\n",
    "        f\"Accuracy\": metrics.accuracy_score(y_test, y_pred),\n",
    "        f\"F1\": metrics.f1_score(y_test, y_pred),\n",
    "        f\"Precision\": metrics.precision_score(y_test, y_pred),\n",
    "        f\"Recall\": metrics.recall_score(y_test, y_pred),\n",
    "    }\n",
    "    return scores, y_probas\n",
    "\n",
    "\n",
    "def test_selection(feature_indices, compare=None, log=True, log_wandb=False):\n",
    "    scores = {}\n",
    "    table = []\n",
    "    for classifier, name in tqdm(classifiers, smoothing=0):\n",
    "        scores_ = test_classifier(classifier, feature_indices=feature_indices)[0]\n",
    "        scores[name] = scores_\n",
    "\n",
    "    # This has no place being one statement, but I just want it to be one\n",
    "    scores[\"Average\"] = dict(\n",
    "        zip(\n",
    "            next(iter(scores.values())).keys(),\n",
    "            np.mean(list(zip(*(x.values() for x in scores.values()))), axis=1),\n",
    "        )\n",
    "    )\n",
    "\n",
    "    for name, scores_ in scores.items():\n",
    "        row = [name]\n",
    "        row += [\n",
    "            f\"{s:0.4f}\" + (f\"{baseline[name][m]:0.4f}\" if compare else \"\")\n",
    "            for m, s in scores_.items()\n",
    "        ]\n",
    "\n",
    "        row = {\n",
    "            m: f\"{s:0.4f}\" + (f\" ({s - compare[name][m]:0.4f})\" if compare else \"\")\n",
    "            for m, s in scores_.items()\n",
    "        }\n",
    "        row = {\"Classifier\": name, **row}\n",
    "        table.append(row)\n",
    "\n",
    "        for metric, score in scores_.items():\n",
    "            rep = f\"{score:0.4f}\"\n",
    "            if compare:\n",
    "                rep += f\" ({compare[name][metric]:0.4f})\"\n",
    "\n",
    "    print(tabulate(table, headers=\"keys\"))\n",
    "\n",
    "    return scores\n",
    "\n",
    "\n",
    "def test_selector(selector, run_suffix=None, wandb=True, **config_kwargs):\n",
    "    used_features = selector.get_support()\n",
    "    used_feature_names = selector.get_feature_names_out(feature_names)\n",
    "    print(\n",
    "        f\"Selected {sum(used_features)}/{len(feature_names)} features: \\n{used_feature_names}\"\n",
    "    )\n",
    "\n",
    "    scores = test_selection(used_features, compare=baseline)\n",
    "\n",
    "    if wandb:\n",
    "        log_scores(\n",
    "            scores,\n",
    "            used_feature_names,\n",
    "            selector.__class__.__name__,\n",
    "            run_suffix,\n",
    "            **config_kwargs,\n",
    "        )\n",
    "\n",
    "\n",
    "def log_scores(scores, used_features, method_name, method_suffix=None, **config_kwargs):\n",
    "    print(used_features)\n",
    "    if all([isinstance(x, int) for x in used_features]):\n",
    "        print(\"Detected features as string indices\")\n",
    "        used_feature_names = feature_names[used_features]\n",
    "    elif all([isinstance(x, str) for x in used_features]):\n",
    "        print(\"Detected features as string indices\")\n",
    "        used_feature_names = used_features\n",
    "    else:\n",
    "        raise Exception(\n",
    "            \"Whoops, expected used_features to be a list of names or indices\"\n",
    "        )\n",
    "\n",
    "    used_features_tbl = {name: name in used_feature_names for name in feature_names}\n",
    "    time = datetime.now().strftime(\"%H:%M:%S\")\n",
    "    method = method_name + (\"_\" + method_suffix if method_suffix else \"\")\n",
    "    wandb.init(\n",
    "        project=\"sogeti-hackathon-feature-selection\",\n",
    "        entity=\"vincentbrouwers\",\n",
    "        name=\"-\".join([name, method, time]),\n",
    "        anonymous=\"allow\",\n",
    "        tags=dict(name=name),\n",
    "        mode=\"online\" if upload else \"offline\",\n",
    "        config=dict(\n",
    "            features=used_features_tbl,\n",
    "            name=name,\n",
    "            method=method,\n",
    "            method_name=method_name,\n",
    "            method_suffix=method_suffix,\n",
    "            **config_kwargs,\n",
    "        ),\n",
    "    )\n",
    "\n",
    "    wscores = {\n",
    "        f\"{clf}_{mtr}\": score\n",
    "        for clf, mtrs in scores.items()\n",
    "        for mtr, score in mtrs.items()\n",
    "    }\n",
    "    wandb.log(\n",
    "        {\n",
    "            \"feature_count\": len(used_feature_names),\n",
    "            \"used_features\": wandb.Table(\n",
    "                columns=[\"feature\", \"used\"],\n",
    "                # Just temporary until I have an actual method of filtering features\n",
    "                data=list(used_features_tbl.items()),\n",
    "            ),\n",
    "            # \"roc\": wandb.plot.roc_curve(y_test, y_probas, labels),\n",
    "            # \"pr\": wandb.plot.pr_curve(y_test, y_probas, labels),\n",
    "            **wscores,\n",
    "        }\n",
    "    )\n",
    "    wandb.finish(quiet=True)\n"
   ]
  },
  {
   "cell_type": "markdown",
   "metadata": {},
   "source": [
    "## Feature Selection"
   ]
  },
  {
   "cell_type": "code",
   "execution_count": 11,
   "metadata": {},
   "outputs": [
    {
     "data": {
      "application/vnd.jupyter.widget-view+json": {
       "model_id": "f46b4da67c8946949f3b48845a71bb53",
       "version_major": 2,
       "version_minor": 0
      },
      "text/plain": [
       "  0%|          | 0/6 [00:00<?, ?it/s]"
      ]
     },
     "metadata": {},
     "output_type": "display_data"
    },
    {
     "name": "stderr",
     "output_type": "stream",
     "text": [
      "Failed to detect the name of this notebook, you can set it manually with the WANDB_NOTEBOOK_NAME environment variable to enable code saving.\n"
     ]
    },
    {
     "name": "stdout",
     "output_type": "stream",
     "text": [
      "Classifier                Accuracy      F1    Precision    Recall\n",
      "----------------------  ----------  ------  -----------  --------\n",
      "DecisionTreeClassifier      0.7691  0.6154       0.6915    0.5544\n",
      "RandomForestClassifier      0.753   0.6453       0.6186    0.6745\n",
      "LogisticRegression          0.7552  0.5839       0.673     0.5157\n",
      "LogisticRegression_l1       0.7554  0.5842       0.6737    0.5157\n",
      "LogisticRegression_l2       0.7552  0.5839       0.673     0.5157\n",
      "KNeighborsClassifier        0.7562  0.5647       0.697     0.4746\n",
      "Average                     0.7574  0.5963       0.6711    0.5418\n",
      "['h1' 'h2' 'N1' 'N2' 'complexity' 'loc' 'lloc' 'sloc' 'comments' 'multi'\n",
      " 'blank' 'single_comments' 'no_of_files' 'no_of_added_files'\n",
      " 'no_of_added_python_files' 'no_of_modified_files'\n",
      " 'no_of_modified_python_files' 'no_of_copied_files'\n",
      " 'no_of_copied_python_files' 'no_of_deleted_files'\n",
      " 'no_of_deleted_python_files' 'author_previous_commits'\n",
      " 'author_previous_file_changes']\n",
      "Detected features as string indices\n"
     ]
    },
    {
     "name": "stderr",
     "output_type": "stream",
     "text": [
      "\u001b[34m\u001b[1mwandb\u001b[0m: Currently logged in as: \u001b[33mvincentbrouwers\u001b[0m (use `wandb login --relogin` to force relogin)\n",
      "\u001b[34m\u001b[1mwandb\u001b[0m: wandb version 0.12.10 is available!  To upgrade, please run:\n",
      "\u001b[34m\u001b[1mwandb\u001b[0m:  $ pip install wandb --upgrade\n"
     ]
    },
    {
     "data": {
      "text/html": [
       "\n",
       "                    Syncing run <strong><a href=\"https://wandb.ai/vincentbrouwers/sogeti-hackathon-feature-selection/runs/2s1930z3\" target=\"_blank\">Vincent Brouwers-Baseline-13:25:13</a></strong> to <a href=\"https://wandb.ai/vincentbrouwers/sogeti-hackathon-feature-selection\" target=\"_blank\">Weights & Biases</a> (<a href=\"https://docs.wandb.com/integrations/jupyter.html\" target=\"_blank\">docs</a>).<br/>\n",
       "\n",
       "                "
      ],
      "text/plain": [
       "<IPython.core.display.HTML object>"
      ]
     },
     "metadata": {},
     "output_type": "display_data"
    },
    {
     "data": {
      "text/html": [
       "Waiting for W&B process to finish, PID 1770... <strong style=\"color:green\">(success).</strong>"
      ],
      "text/plain": [
       "<IPython.core.display.HTML object>"
      ]
     },
     "metadata": {},
     "output_type": "display_data"
    },
    {
     "data": {
      "application/vnd.jupyter.widget-view+json": {
       "model_id": "711e8cf35e0448cab401f9b943ba1712",
       "version_major": 2,
       "version_minor": 0
      },
      "text/plain": [
       "VBox(children=(Label(value=' 0.00MB of 0.00MB uploaded (0.00MB deduped)\\r'), FloatProgress(value=0.76836581709…"
      ]
     },
     "metadata": {},
     "output_type": "display_data"
    },
    {
     "data": {
      "text/html": [
       "Synced <strong style=\"color:#cdcd00\">Vincent Brouwers-Baseline-13:25:13</strong>: <a href=\"https://wandb.ai/vincentbrouwers/sogeti-hackathon-feature-selection/runs/2s1930z3\" target=\"_blank\">https://wandb.ai/vincentbrouwers/sogeti-hackathon-feature-selection/runs/2s1930z3</a><br/>\n"
      ],
      "text/plain": [
       "<IPython.core.display.HTML object>"
      ]
     },
     "metadata": {},
     "output_type": "display_data"
    }
   ],
   "source": [
    "baseline = test_selection(None, compare=False)\n",
    "log_scores(baseline, feature_names, \"Baseline\")"
   ]
  },
  {
   "cell_type": "markdown",
   "metadata": {},
   "source": [
    "### Filtering methods"
   ]
  },
  {
   "cell_type": "markdown",
   "metadata": {},
   "source": [
    "#### Variance threshold\n",
    "\n",
    "A simple method to filter out superfluous features, is to remove ones with a low variance. The idea here is that these features offer relatively little information. \n",
    "\n",
    "*Note: Variance depends on the magnitude our values and our data is not normalized. It's not really possible to set 1 threshold for all features*\n",
    "\n",
    "---\n",
    "\n",
    "https://scikit-learn.org/stable/modules/generated/sklearn.feature_selection.VarianceThreshold.html"
   ]
  },
  {
   "cell_type": "code",
   "execution_count": 12,
   "metadata": {},
   "outputs": [
    {
     "name": "stdout",
     "output_type": "stream",
     "text": [
      "Selected 19/23 features: \n",
      "['h1' 'h2' 'N1' 'N2' 'complexity' 'loc' 'lloc' 'sloc' 'comments' 'multi'\n",
      " 'blank' 'single_comments' 'no_of_files' 'no_of_added_files'\n",
      " 'no_of_added_python_files' 'no_of_modified_files'\n",
      " 'no_of_modified_python_files' 'no_of_deleted_files'\n",
      " 'no_of_deleted_python_files']\n"
     ]
    },
    {
     "data": {
      "application/vnd.jupyter.widget-view+json": {
       "model_id": "4ef154925c8e442491202e4a478b6680",
       "version_major": 2,
       "version_minor": 0
      },
      "text/plain": [
       "  0%|          | 0/6 [00:00<?, ?it/s]"
      ]
     },
     "metadata": {},
     "output_type": "display_data"
    },
    {
     "name": "stdout",
     "output_type": "stream",
     "text": [
      "Classifier              Accuracy         F1               Precision        Recall\n",
      "----------------------  ---------------  ---------------  ---------------  ---------------\n",
      "DecisionTreeClassifier  0.7697 (0.0005)  0.6166 (0.0012)  0.6921 (0.0006)  0.5560 (0.0016)\n",
      "RandomForestClassifier  0.7570 (0.0040)  0.6496 (0.0043)  0.6252 (0.0066)  0.6761 (0.0016)\n",
      "LogisticRegression      0.7554 (0.0003)  0.5842 (0.0003)  0.6737 (0.0007)  0.5157 (0.0000)\n",
      "LogisticRegression_l1   0.7557 (0.0003)  0.5845 (0.0003)  0.6744 (0.0007)  0.5157 (0.0000)\n",
      "LogisticRegression_l2   0.7554 (0.0003)  0.5842 (0.0003)  0.6737 (0.0007)  0.5157 (0.0000)\n",
      "KNeighborsClassifier    0.7568 (0.0005)  0.5665 (0.0018)  0.6973 (0.0002)  0.4770 (0.0024)\n",
      "Average                 0.7583 (0.0010)  0.5976 (0.0014)  0.6727 (0.0016)  0.5427 (0.0009)\n",
      "['h1' 'h2' 'N1' 'N2' 'complexity' 'loc' 'lloc' 'sloc' 'comments' 'multi'\n",
      " 'blank' 'single_comments' 'no_of_files' 'no_of_added_files'\n",
      " 'no_of_added_python_files' 'no_of_modified_files'\n",
      " 'no_of_modified_python_files' 'no_of_deleted_files'\n",
      " 'no_of_deleted_python_files']\n",
      "Detected features as string indices\n"
     ]
    },
    {
     "name": "stderr",
     "output_type": "stream",
     "text": [
      "\u001b[34m\u001b[1mwandb\u001b[0m: wandb version 0.12.10 is available!  To upgrade, please run:\n",
      "\u001b[34m\u001b[1mwandb\u001b[0m:  $ pip install wandb --upgrade\n"
     ]
    },
    {
     "data": {
      "text/html": [
       "\n",
       "                    Syncing run <strong><a href=\"https://wandb.ai/vincentbrouwers/sogeti-hackathon-feature-selection/runs/2xfymze1\" target=\"_blank\">Vincent Brouwers-VarianceThreshold-13:25:26</a></strong> to <a href=\"https://wandb.ai/vincentbrouwers/sogeti-hackathon-feature-selection\" target=\"_blank\">Weights & Biases</a> (<a href=\"https://docs.wandb.com/integrations/jupyter.html\" target=\"_blank\">docs</a>).<br/>\n",
       "\n",
       "                "
      ],
      "text/plain": [
       "<IPython.core.display.HTML object>"
      ]
     },
     "metadata": {},
     "output_type": "display_data"
    },
    {
     "data": {
      "text/html": [
       "Waiting for W&B process to finish, PID 1863... <strong style=\"color:green\">(success).</strong>"
      ],
      "text/plain": [
       "<IPython.core.display.HTML object>"
      ]
     },
     "metadata": {},
     "output_type": "display_data"
    },
    {
     "data": {
      "application/vnd.jupyter.widget-view+json": {
       "model_id": "2f448ec2595c4144a7809accb972ce7f",
       "version_major": 2,
       "version_minor": 0
      },
      "text/plain": [
       "VBox(children=(Label(value=' 0.00MB of 0.00MB uploaded (0.00MB deduped)\\r'), FloatProgress(value=0.76756352765…"
      ]
     },
     "metadata": {},
     "output_type": "display_data"
    },
    {
     "data": {
      "text/html": [
       "Synced <strong style=\"color:#cdcd00\">Vincent Brouwers-VarianceThreshold-13:25:26</strong>: <a href=\"https://wandb.ai/vincentbrouwers/sogeti-hackathon-feature-selection/runs/2xfymze1\" target=\"_blank\">https://wandb.ai/vincentbrouwers/sogeti-hackathon-feature-selection/runs/2xfymze1</a><br/>\n"
      ],
      "text/plain": [
       "<IPython.core.display.HTML object>"
      ]
     },
     "metadata": {},
     "output_type": "display_data"
    }
   ],
   "source": [
    "from sklearn.feature_selection import VarianceThreshold\n",
    "\n",
    "var = VarianceThreshold(threshold=0.3).fit(X_train)\n",
    "\n",
    "test_selector(var, threshold=var.threshold)"
   ]
  },
  {
   "cell_type": "markdown",
   "metadata": {},
   "source": [
    "#### Statistical corrolation threshold\n",
    "\n",
    "Another method of supervised feature filtering is to calculate corrolation statistics between each feature and the label(s). \n",
    "\n",
    "We use the chi-squared test to measure the label's (positive) dependence on features and select the best ones with various thresholding methods.\n",
    "\n",
    "---\n",
    "\n",
    "https://scikit-learn.org/stable/modules/generated/sklearn.feature_selection.SelectKBest.html<br/>\n",
    "https://scikit-learn.org/stable/modules/generated/sklearn.feature_selection.SelectPercentile.html"
   ]
  },
  {
   "cell_type": "code",
   "execution_count": 13,
   "metadata": {},
   "outputs": [
    {
     "name": "stdout",
     "output_type": "stream",
     "text": [
      "Selected 10/23 features: \n",
      "['loc' 'sloc' 'multi' 'no_of_files' 'no_of_added_files'\n",
      " 'no_of_added_python_files' 'no_of_modified_files'\n",
      " 'no_of_modified_python_files' 'no_of_deleted_files'\n",
      " 'no_of_deleted_python_files']\n"
     ]
    },
    {
     "data": {
      "application/vnd.jupyter.widget-view+json": {
       "model_id": "1ae472eb9548430ea3fbaed8baada84e",
       "version_major": 2,
       "version_minor": 0
      },
      "text/plain": [
       "  0%|          | 0/6 [00:00<?, ?it/s]"
      ]
     },
     "metadata": {},
     "output_type": "display_data"
    },
    {
     "name": "stdout",
     "output_type": "stream",
     "text": [
      "Classifier              Accuracy          F1                Precision         Recall\n",
      "----------------------  ----------------  ----------------  ----------------  ----------------\n",
      "DecisionTreeClassifier  0.7546 (-0.0145)  0.5672 (-0.0481)  0.6877 (-0.0037)  0.4827 (-0.0717)\n",
      "RandomForestClassifier  0.7442 (-0.0089)  0.6308 (-0.0146)  0.6075 (-0.0112)  0.6559 (-0.0185)\n",
      "LogisticRegression      0.7533 (-0.0019)  0.5609 (-0.0230)  0.6890 (0.0160)   0.4730 (-0.0427)\n",
      "LogisticRegression_l1   0.7536 (-0.0019)  0.5616 (-0.0226)  0.6893 (0.0156)   0.4738 (-0.0419)\n",
      "LogisticRegression_l2   0.7533 (-0.0019)  0.5609 (-0.0230)  0.6890 (0.0160)   0.4730 (-0.0427)\n",
      "KNeighborsClassifier    0.7589 (0.0027)   0.5768 (0.0121)   0.6947 (-0.0024)  0.4932 (0.0185)\n",
      "Average                 0.7530 (-0.0044)  0.5764 (-0.0199)  0.6762 (0.0051)   0.5086 (-0.0332)\n",
      "['loc' 'sloc' 'multi' 'no_of_files' 'no_of_added_files'\n",
      " 'no_of_added_python_files' 'no_of_modified_files'\n",
      " 'no_of_modified_python_files' 'no_of_deleted_files'\n",
      " 'no_of_deleted_python_files']\n",
      "Detected features as string indices\n"
     ]
    },
    {
     "name": "stderr",
     "output_type": "stream",
     "text": [
      "\u001b[34m\u001b[1mwandb\u001b[0m: wandb version 0.12.10 is available!  To upgrade, please run:\n",
      "\u001b[34m\u001b[1mwandb\u001b[0m:  $ pip install wandb --upgrade\n"
     ]
    },
    {
     "data": {
      "text/html": [
       "\n",
       "                    Syncing run <strong><a href=\"https://wandb.ai/vincentbrouwers/sogeti-hackathon-feature-selection/runs/of1m25lo\" target=\"_blank\">Vincent Brouwers-SelectKBest_chi2-13:25:39</a></strong> to <a href=\"https://wandb.ai/vincentbrouwers/sogeti-hackathon-feature-selection\" target=\"_blank\">Weights & Biases</a> (<a href=\"https://docs.wandb.com/integrations/jupyter.html\" target=\"_blank\">docs</a>).<br/>\n",
       "\n",
       "                "
      ],
      "text/plain": [
       "<IPython.core.display.HTML object>"
      ]
     },
     "metadata": {},
     "output_type": "display_data"
    },
    {
     "data": {
      "text/html": [
       "Waiting for W&B process to finish, PID 1953... <strong style=\"color:green\">(success).</strong>"
      ],
      "text/plain": [
       "<IPython.core.display.HTML object>"
      ]
     },
     "metadata": {},
     "output_type": "display_data"
    },
    {
     "data": {
      "application/vnd.jupyter.widget-view+json": {
       "model_id": "f5c02590aeb24c7682e85375431ceb13",
       "version_major": 2,
       "version_minor": 0
      },
      "text/plain": [
       "VBox(children=(Label(value=' 0.00MB of 0.00MB uploaded (0.00MB deduped)\\r'), FloatProgress(value=0.76577579806…"
      ]
     },
     "metadata": {},
     "output_type": "display_data"
    },
    {
     "data": {
      "text/html": [
       "Synced <strong style=\"color:#cdcd00\">Vincent Brouwers-SelectKBest_chi2-13:25:39</strong>: <a href=\"https://wandb.ai/vincentbrouwers/sogeti-hackathon-feature-selection/runs/of1m25lo\" target=\"_blank\">https://wandb.ai/vincentbrouwers/sogeti-hackathon-feature-selection/runs/of1m25lo</a><br/>\n"
      ],
      "text/plain": [
       "<IPython.core.display.HTML object>"
      ]
     },
     "metadata": {},
     "output_type": "display_data"
    },
    {
     "name": "stdout",
     "output_type": "stream",
     "text": [
      "Selected 11/23 features: \n",
      "['loc' 'sloc' 'multi' 'blank' 'no_of_files' 'no_of_added_files'\n",
      " 'no_of_added_python_files' 'no_of_modified_files'\n",
      " 'no_of_modified_python_files' 'no_of_deleted_files'\n",
      " 'no_of_deleted_python_files']\n"
     ]
    },
    {
     "data": {
      "application/vnd.jupyter.widget-view+json": {
       "model_id": "295c7ba1d6ab4c0bb9b0c9b20cd9064f",
       "version_major": 2,
       "version_minor": 0
      },
      "text/plain": [
       "  0%|          | 0/6 [00:00<?, ?it/s]"
      ]
     },
     "metadata": {},
     "output_type": "display_data"
    },
    {
     "name": "stdout",
     "output_type": "stream",
     "text": [
      "Classifier              Accuracy          F1                Precision         Recall\n",
      "----------------------  ----------------  ----------------  ----------------  ----------------\n",
      "DecisionTreeClassifier  0.7538 (-0.0153)  0.5589 (-0.0565)  0.6933 (0.0019)   0.4682 (-0.0862)\n",
      "RandomForestClassifier  0.7436 (-0.0094)  0.6317 (-0.0136)  0.6058 (-0.0129)  0.6600 (-0.0145)\n",
      "LogisticRegression      0.7530 (-0.0021)  0.5611 (-0.0229)  0.6877 (0.0147)   0.4738 (-0.0419)\n",
      "LogisticRegression_l1   0.7530 (-0.0024)  0.5611 (-0.0231)  0.6877 (0.0140)   0.4738 (-0.0419)\n",
      "LogisticRegression_l2   0.7530 (-0.0021)  0.5611 (-0.0229)  0.6877 (0.0147)   0.4738 (-0.0419)\n",
      "KNeighborsClassifier    0.7549 (-0.0013)  0.5687 (0.0040)   0.6872 (-0.0098)  0.4851 (0.0105)\n",
      "Average                 0.7519 (-0.0055)  0.5738 (-0.0225)  0.6749 (0.0038)   0.5058 (-0.0360)\n",
      "['loc' 'sloc' 'multi' 'blank' 'no_of_files' 'no_of_added_files'\n",
      " 'no_of_added_python_files' 'no_of_modified_files'\n",
      " 'no_of_modified_python_files' 'no_of_deleted_files'\n",
      " 'no_of_deleted_python_files']\n",
      "Detected features as string indices\n"
     ]
    },
    {
     "name": "stderr",
     "output_type": "stream",
     "text": [
      "\u001b[34m\u001b[1mwandb\u001b[0m: wandb version 0.12.10 is available!  To upgrade, please run:\n",
      "\u001b[34m\u001b[1mwandb\u001b[0m:  $ pip install wandb --upgrade\n"
     ]
    },
    {
     "data": {
      "text/html": [
       "\n",
       "                    Syncing run <strong><a href=\"https://wandb.ai/vincentbrouwers/sogeti-hackathon-feature-selection/runs/1848zq61\" target=\"_blank\">Vincent Brouwers-SelectPercentile_chi2-13:25:50</a></strong> to <a href=\"https://wandb.ai/vincentbrouwers/sogeti-hackathon-feature-selection\" target=\"_blank\">Weights & Biases</a> (<a href=\"https://docs.wandb.com/integrations/jupyter.html\" target=\"_blank\">docs</a>).<br/>\n",
       "\n",
       "                "
      ],
      "text/plain": [
       "<IPython.core.display.HTML object>"
      ]
     },
     "metadata": {},
     "output_type": "display_data"
    },
    {
     "data": {
      "text/html": [
       "Waiting for W&B process to finish, PID 2019... <strong style=\"color:green\">(success).</strong>"
      ],
      "text/plain": [
       "<IPython.core.display.HTML object>"
      ]
     },
     "metadata": {},
     "output_type": "display_data"
    },
    {
     "data": {
      "application/vnd.jupyter.widget-view+json": {
       "model_id": "e5ca87a71f6541e88032b8ad99793a18",
       "version_major": 2,
       "version_minor": 0
      },
      "text/plain": [
       "VBox(children=(Label(value=' 0.00MB of 0.00MB uploaded (0.00MB deduped)\\r'), FloatProgress(value=0.76597325408…"
      ]
     },
     "metadata": {},
     "output_type": "display_data"
    },
    {
     "data": {
      "text/html": [
       "Synced <strong style=\"color:#cdcd00\">Vincent Brouwers-SelectPercentile_chi2-13:25:50</strong>: <a href=\"https://wandb.ai/vincentbrouwers/sogeti-hackathon-feature-selection/runs/1848zq61\" target=\"_blank\">https://wandb.ai/vincentbrouwers/sogeti-hackathon-feature-selection/runs/1848zq61</a><br/>\n"
      ],
      "text/plain": [
       "<IPython.core.display.HTML object>"
      ]
     },
     "metadata": {},
     "output_type": "display_data"
    }
   ],
   "source": [
    "from sklearn.feature_selection import SelectKBest, SelectPercentile\n",
    "from sklearn.feature_selection import chi2, r_regression, mutual_info_classif\n",
    "\n",
    "# Select (k=)10 most corrolated features \n",
    "selector = SelectKBest(chi2, k=10).fit(X_train, y_train)\n",
    "test_selector(selector, \"chi2\")\n",
    "\n",
    "# Select the features that hit the 50th percentile (median score or better)\n",
    "selector = SelectPercentile(chi2, percentile=50).fit(X_train, y_train)\n",
    "test_selector(selector, \"chi2\")\n",
    "\n",
    "# # Select (k=)10 most corrolated features \n",
    "# selector = SelectKBest(r_regression, k=10).fit(X_train, y_train)\n",
    "# test_selector(selector, \"r_regression\")\n",
    "\n",
    "# # Select the features that hit the 50th percentile (median score or better)\n",
    "# selector = SelectPercentile(r_regression, percentile=50).fit(X_train, y_train)\n",
    "# test_selector(selector, \"r_regression\")\n",
    "\n",
    "# # Select (k=)10 most corrolated features \n",
    "# selector = SelectKBest(mutual_info_classif, k=10).fit(X_train, y_train)\n",
    "# test_selector(selector, \"mutual_info_classif\")\n",
    "\n",
    "# # Select the features that hit the 50th percentile (median score or better)\n",
    "# selector = SelectPercentile(mutual_info_classif, percentile=50).fit(X_train, y_train)\n",
    "# test_selector(selector, \"mutual_info_classif\")"
   ]
  },
  {
   "cell_type": "code",
   "execution_count": 14,
   "metadata": {},
   "outputs": [
    {
     "data": {
      "text/plain": [
       "SelectPercentile(percentile=50, score_func=<function chi2 at 0x7fc6100f67a0>)"
      ]
     },
     "execution_count": 14,
     "metadata": {},
     "output_type": "execute_result"
    }
   ],
   "source": [
    "selector"
   ]
  },
  {
   "cell_type": "markdown",
   "metadata": {},
   "source": [
    "#### Model-specific feature importance\n",
    "\n",
    "Some models allow us to directly see the contribution of each feature. This allows us to easily remove the fields that our model extracts the least amount of information from. We always test the effect our selection methods on multiple model types. Does te type of reference model the model affect our testing models differently?\n",
    "\n",
    "---\n",
    "\n",
    "https://scikit-learn.org/stable/modules/generated/sklearn.feature_selection.SelectFromModel.html"
   ]
  },
  {
   "cell_type": "code",
   "execution_count": 15,
   "metadata": {},
   "outputs": [
    {
     "name": "stdout",
     "output_type": "stream",
     "text": [
      "Selected 5/23 features: \n",
      "['N1' 'N2' 'complexity' 'no_of_deleted_python_files'\n",
      " 'author_previous_commits']\n"
     ]
    },
    {
     "data": {
      "application/vnd.jupyter.widget-view+json": {
       "model_id": "f498fdaf90d649a8bd71fd3cb0926f12",
       "version_major": 2,
       "version_minor": 0
      },
      "text/plain": [
       "  0%|          | 0/6 [00:00<?, ?it/s]"
      ]
     },
     "metadata": {},
     "output_type": "display_data"
    },
    {
     "name": "stdout",
     "output_type": "stream",
     "text": [
      "Classifier              Accuracy          F1                Precision         Recall\n",
      "----------------------  ----------------  ----------------  ----------------  ----------------\n",
      "DecisionTreeClassifier  0.7103 (-0.0588)  0.3472 (-0.2681)  0.6966 (0.0051)   0.2313 (-0.3231)\n",
      "RandomForestClassifier  0.7017 (-0.0513)  0.4258 (-0.2195)  0.5937 (-0.0250)  0.3320 (-0.3425)\n",
      "LogisticRegression      0.6980 (-0.0572)  0.4327 (-0.1513)  0.5782 (-0.0948)  0.3457 (-0.1700)\n",
      "LogisticRegression_l1   0.6977 (-0.0577)  0.4336 (-0.1506)  0.5770 (-0.0967)  0.3473 (-0.1684)\n",
      "LogisticRegression_l2   0.6980 (-0.0572)  0.4327 (-0.1513)  0.5782 (-0.0948)  0.3457 (-0.1700)\n",
      "KNeighborsClassifier    0.6899 (-0.0663)  0.3931 (-0.1717)  0.5650 (-0.1321)  0.3014 (-0.1732)\n",
      "Average                 0.6993 (-0.0581)  0.4109 (-0.1854)  0.5981 (-0.0730)  0.3172 (-0.2246)\n",
      "['N1' 'N2' 'complexity' 'no_of_deleted_python_files'\n",
      " 'author_previous_commits']\n",
      "Detected features as string indices\n"
     ]
    },
    {
     "name": "stderr",
     "output_type": "stream",
     "text": [
      "\u001b[34m\u001b[1mwandb\u001b[0m: wandb version 0.12.10 is available!  To upgrade, please run:\n",
      "\u001b[34m\u001b[1mwandb\u001b[0m:  $ pip install wandb --upgrade\n"
     ]
    },
    {
     "data": {
      "text/html": [
       "\n",
       "                    Syncing run <strong><a href=\"https://wandb.ai/vincentbrouwers/sogeti-hackathon-feature-selection/runs/1jckm8ld\" target=\"_blank\">Vincent Brouwers-SelectFromModel-13:26:01</a></strong> to <a href=\"https://wandb.ai/vincentbrouwers/sogeti-hackathon-feature-selection\" target=\"_blank\">Weights & Biases</a> (<a href=\"https://docs.wandb.com/integrations/jupyter.html\" target=\"_blank\">docs</a>).<br/>\n",
       "\n",
       "                "
      ],
      "text/plain": [
       "<IPython.core.display.HTML object>"
      ]
     },
     "metadata": {},
     "output_type": "display_data"
    },
    {
     "data": {
      "text/html": [
       "Waiting for W&B process to finish, PID 2082... <strong style=\"color:green\">(success).</strong>"
      ],
      "text/plain": [
       "<IPython.core.display.HTML object>"
      ]
     },
     "metadata": {},
     "output_type": "display_data"
    },
    {
     "data": {
      "application/vnd.jupyter.widget-view+json": {
       "model_id": "3e5d508277494c82a48a3f321271d824",
       "version_major": 2,
       "version_minor": 0
      },
      "text/plain": [
       "VBox(children=(Label(value=' 0.00MB of 0.00MB uploaded (0.00MB deduped)\\r'), FloatProgress(value=0.76479289940…"
      ]
     },
     "metadata": {},
     "output_type": "display_data"
    },
    {
     "data": {
      "text/html": [
       "Synced <strong style=\"color:#cdcd00\">Vincent Brouwers-SelectFromModel-13:26:01</strong>: <a href=\"https://wandb.ai/vincentbrouwers/sogeti-hackathon-feature-selection/runs/1jckm8ld\" target=\"_blank\">https://wandb.ai/vincentbrouwers/sogeti-hackathon-feature-selection/runs/1jckm8ld</a><br/>\n"
      ],
      "text/plain": [
       "<IPython.core.display.HTML object>"
      ]
     },
     "metadata": {},
     "output_type": "display_data"
    },
    {
     "data": {
      "image/png": "[encoded data removed]",
      "text/plain": [
       "<Figure size 1000x600 with 1 Axes>"
      ]
     },
     "metadata": {},
     "output_type": "display_data"
    }
   ],
   "source": [
    "from sklearn.feature_selection import SelectFromModel\n",
    "\n",
    "plt.figure(figsize=(10, 6))\n",
    "\n",
    "# clf1 = RandomForestClassifier(n_estimators=200).fit(X_train, y_train)\n",
    "# plt.barh(feature_names, clf1.feature_importances_)\n",
    "# selector = SelectFromModel(clf1, threshold=\"1.5 * mean\", prefit=True)\n",
    "\n",
    "clf2 = LogisticRegression(max_iter=1000).fit(X_train, y_train)\n",
    "plt.barh(feature_names, clf2.coef_.flatten())\n",
    "selector = SelectFromModel(clf2, threshold=\"1 * mean\", prefit=True)\n",
    "\n",
    "\n",
    "test_selector(selector)"
   ]
  },
  {
   "cell_type": "markdown",
   "metadata": {},
   "source": [
    "### Wrapper"
   ]
  },
  {
   "cell_type": "markdown",
   "metadata": {},
   "source": [
    "#### Recursive Feature Elimination (RFE)\n",
    "\n",
    "\n",
    "RFE works in a similar fashion as the previous method, namely that it uses a model's built-in feature significance values to filter out redundant features. Where RFE differs from the \"naive\" filtering aproach, is that it only removes one feature at a time, after which the entire model is retrained again. Removal of corrolated or inter-dependent features can change the distribution of significance of the remaining features, which this approach mitigates.\n",
    "\n",
    "\n",
    "---\n",
    "\n",
    "**Example:**\n",
    "\n",
    "A simple example of how the result of RFE differs from \"naive filtering\", is when two features are 100% corrolated. Each of them may be fairly meaningful on their own, though when they're both present, their contribution has to be shared between them. This thus gives them a lower feature importance. \n",
    "\n",
    "Let's say we have a model with the following feature importances:\n",
    "\n",
    "`a=15%`, `b=20%`, `c=50%`, `d=15%`, where `a`, `b` , and `c` are fully independent of eachother, but `d` is 100% corrolated to `a`. \n",
    "\n",
    "Naïvely removing the two least contributing features, would leave us with `b=35%` and `c=65%`. If we instead first eliminate `c` (`a` is equally valid), a new model might give us these importances:\n",
    "\n",
    "`a=30%`, `b=20%`, `c=50%`\n",
    "\n",
    "This time, `b` will be purged, leaving us with\n",
    "\n",
    "`a=40%`, `c=60%`\n",
    "\n",
    "---\n",
    "\n",
    "https://scikit-learn.org/stable/modules/generated/sklearn.feature_selection.RFE.html\n"
   ]
  },
  {
   "cell_type": "code",
   "execution_count": 16,
   "metadata": {},
   "outputs": [
    {
     "name": "stdout",
     "output_type": "stream",
     "text": [
      "Fitting estimator with 23 features.\n",
      "Fitting estimator with 22 features.\n",
      "Fitting estimator with 21 features.\n",
      "Fitting estimator with 20 features.\n",
      "Fitting estimator with 19 features.\n",
      "Fitting estimator with 18 features.\n",
      "Fitting estimator with 17 features.\n",
      "Fitting estimator with 16 features.\n",
      "Fitting estimator with 15 features.\n",
      "Fitting estimator with 14 features.\n",
      "Fitting estimator with 13 features.\n",
      "Fitting estimator with 12 features.\n",
      "Fitting estimator with 11 features.\n",
      "Fitting estimator with 10 features.\n",
      "Fitting estimator with 9 features.\n",
      "Fitting estimator with 8 features.\n",
      "Fitting estimator with 7 features.\n",
      "Fitting estimator with 6 features.\n",
      "Selected 5/23 features: \n",
      "['N1' 'N2' 'complexity' 'no_of_deleted_python_files'\n",
      " 'author_previous_commits']\n"
     ]
    },
    {
     "data": {
      "application/vnd.jupyter.widget-view+json": {
       "model_id": "9119b89939c3425c9cad3c611fc2fddc",
       "version_major": 2,
       "version_minor": 0
      },
      "text/plain": [
       "  0%|          | 0/6 [00:00<?, ?it/s]"
      ]
     },
     "metadata": {},
     "output_type": "display_data"
    },
    {
     "name": "stdout",
     "output_type": "stream",
     "text": [
      "Classifier              Accuracy          F1                Precision         Recall\n",
      "----------------------  ----------------  ----------------  ----------------  ----------------\n",
      "DecisionTreeClassifier  0.7101 (-0.0591)  0.3478 (-0.2676)  0.6940 (0.0025)   0.2321 (-0.3223)\n",
      "RandomForestClassifier  0.7026 (-0.0505)  0.4223 (-0.2230)  0.5982 (-0.0204)  0.3263 (-0.3481)\n",
      "LogisticRegression      0.6980 (-0.0572)  0.4327 (-0.1513)  0.5782 (-0.0948)  0.3457 (-0.1700)\n",
      "LogisticRegression_l1   0.6980 (-0.0574)  0.4338 (-0.1504)  0.5777 (-0.0959)  0.3473 (-0.1684)\n",
      "LogisticRegression_l2   0.6980 (-0.0572)  0.4327 (-0.1513)  0.5782 (-0.0948)  0.3457 (-0.1700)\n",
      "KNeighborsClassifier    0.6899 (-0.0663)  0.3931 (-0.1717)  0.5650 (-0.1321)  0.3014 (-0.1732)\n",
      "Average                 0.6994 (-0.0579)  0.4104 (-0.1859)  0.5985 (-0.0726)  0.3164 (-0.2254)\n",
      "['N1' 'N2' 'complexity' 'no_of_deleted_python_files'\n",
      " 'author_previous_commits']\n",
      "Detected features as string indices\n"
     ]
    },
    {
     "name": "stderr",
     "output_type": "stream",
     "text": [
      "\u001b[34m\u001b[1mwandb\u001b[0m: wandb version 0.12.10 is available!  To upgrade, please run:\n",
      "\u001b[34m\u001b[1mwandb\u001b[0m:  $ pip install wandb --upgrade\n"
     ]
    },
    {
     "data": {
      "text/html": [
       "\n",
       "                    Syncing run <strong><a href=\"https://wandb.ai/vincentbrouwers/sogeti-hackathon-feature-selection/runs/ixygsjpj\" target=\"_blank\">Vincent Brouwers-RFE-13:26:21</a></strong> to <a href=\"https://wandb.ai/vincentbrouwers/sogeti-hackathon-feature-selection\" target=\"_blank\">Weights & Biases</a> (<a href=\"https://docs.wandb.com/integrations/jupyter.html\" target=\"_blank\">docs</a>).<br/>\n",
       "\n",
       "                "
      ],
      "text/plain": [
       "<IPython.core.display.HTML object>"
      ]
     },
     "metadata": {},
     "output_type": "display_data"
    },
    {
     "data": {
      "text/html": [
       "Waiting for W&B process to finish, PID 2171... <strong style=\"color:green\">(success).</strong>"
      ],
      "text/plain": [
       "<IPython.core.display.HTML object>"
      ]
     },
     "metadata": {},
     "output_type": "display_data"
    },
    {
     "data": {
      "application/vnd.jupyter.widget-view+json": {
       "model_id": "1cfadfd29ad0492ab3766872496d6fc5",
       "version_major": 2,
       "version_minor": 0
      },
      "text/plain": [
       "VBox(children=(Label(value=' 0.00MB of 0.00MB uploaded (0.00MB deduped)\\r'), FloatProgress(value=0.76479289940…"
      ]
     },
     "metadata": {},
     "output_type": "display_data"
    },
    {
     "data": {
      "text/html": [
       "Synced <strong style=\"color:#cdcd00\">Vincent Brouwers-RFE-13:26:21</strong>: <a href=\"https://wandb.ai/vincentbrouwers/sogeti-hackathon-feature-selection/runs/ixygsjpj\" target=\"_blank\">https://wandb.ai/vincentbrouwers/sogeti-hackathon-feature-selection/runs/ixygsjpj</a><br/>\n"
      ],
      "text/plain": [
       "<IPython.core.display.HTML object>"
      ]
     },
     "metadata": {},
     "output_type": "display_data"
    }
   ],
   "source": [
    "from sklearn.feature_selection import RFE\n",
    "\n",
    "clf = LogisticRegression(max_iter=1000)\n",
    "selector = RFE(clf, n_features_to_select=5, step=1, verbose=1)\n",
    "selector = selector.fit(X_train, y_train)\n",
    "\n",
    "test_selector(selector)"
   ]
  },
  {
   "cell_type": "markdown",
   "metadata": {},
   "source": [
    "#### Sequential Feature Selection\n",
    "\n",
    "This Sequential Feature Selector adds (forward selection) or removes (backward selection) features until the desired amount of features is reached. At each stage, it produces candidate feature sets that include (forward) or exclude (backward) one feature compared to the previous stage. The candidate sets are scored by training new models on them and only the best scoring one is kept.\n",
    "\n",
    "Forwards and backwards do not have to yield the same feature sets, though none is necessarily better. Their performance can differ depending on the amount and size of models that need to be trained to reach the desired amount of features.\n",
    "\n",
    "---\n",
    "\n",
    "https://scikit-learn.org/stable/modules/generated/sklearn.feature_selection.SequentialFeatureSelector.html"
   ]
  },
  {
   "cell_type": "code",
   "execution_count": 17,
   "metadata": {},
   "outputs": [
    {
     "name": "stdout",
     "output_type": "stream",
     "text": [
      "Selected 5/23 features: \n",
      "['complexity' 'multi' 'blank' 'no_of_modified_python_files'\n",
      " 'no_of_deleted_python_files']\n"
     ]
    },
    {
     "data": {
      "application/vnd.jupyter.widget-view+json": {
       "model_id": "7c3b3124046b4dc6ba0d9e18f36f91dd",
       "version_major": 2,
       "version_minor": 0
      },
      "text/plain": [
       "  0%|          | 0/6 [00:00<?, ?it/s]"
      ]
     },
     "metadata": {},
     "output_type": "display_data"
    },
    {
     "name": "stdout",
     "output_type": "stream",
     "text": [
      "Classifier              Accuracy          F1                Precision         Recall\n",
      "----------------------  ----------------  ----------------  ----------------  ----------------\n",
      "DecisionTreeClassifier  0.7479 (-0.0212)  0.5444 (-0.0710)  0.6841 (-0.0073)  0.4521 (-0.1023)\n",
      "RandomForestClassifier  0.7334 (-0.0196)  0.6200 (-0.0254)  0.5904 (-0.0282)  0.6527 (-0.0218)\n",
      "LogisticRegression      0.7503 (-0.0048)  0.5646 (-0.0193)  0.6737 (0.0008)   0.4859 (-0.0298)\n",
      "LogisticRegression_l1   0.7503 (-0.0051)  0.5646 (-0.0196)  0.6737 (0.0001)   0.4859 (-0.0298)\n",
      "LogisticRegression_l2   0.7503 (-0.0048)  0.5646 (-0.0193)  0.6737 (0.0008)   0.4859 (-0.0298)\n",
      "KNeighborsClassifier    0.7477 (-0.0086)  0.5485 (-0.0162)  0.6790 (-0.0181)  0.4601 (-0.0145)\n",
      "Average                 0.7467 (-0.0107)  0.5678 (-0.0285)  0.6625 (-0.0087)  0.5038 (-0.0380)\n",
      "['complexity' 'multi' 'blank' 'no_of_modified_python_files'\n",
      " 'no_of_deleted_python_files']\n",
      "Detected features as string indices\n"
     ]
    },
    {
     "name": "stderr",
     "output_type": "stream",
     "text": [
      "\u001b[34m\u001b[1mwandb\u001b[0m: wandb version 0.12.10 is available!  To upgrade, please run:\n",
      "\u001b[34m\u001b[1mwandb\u001b[0m:  $ pip install wandb --upgrade\n"
     ]
    },
    {
     "data": {
      "text/html": [
       "\n",
       "                    Syncing run <strong><a href=\"https://wandb.ai/vincentbrouwers/sogeti-hackathon-feature-selection/runs/o6oxx0yz\" target=\"_blank\">Vincent Brouwers-SequentialFeatureSelector-13:26:34</a></strong> to <a href=\"https://wandb.ai/vincentbrouwers/sogeti-hackathon-feature-selection\" target=\"_blank\">Weights & Biases</a> (<a href=\"https://docs.wandb.com/integrations/jupyter.html\" target=\"_blank\">docs</a>).<br/>\n",
       "\n",
       "                "
      ],
      "text/plain": [
       "<IPython.core.display.HTML object>"
      ]
     },
     "metadata": {},
     "output_type": "display_data"
    },
    {
     "data": {
      "text/html": [
       "Waiting for W&B process to finish, PID 2278... <strong style=\"color:green\">(success).</strong>"
      ],
      "text/plain": [
       "<IPython.core.display.HTML object>"
      ]
     },
     "metadata": {},
     "output_type": "display_data"
    },
    {
     "data": {
      "application/vnd.jupyter.widget-view+json": {
       "model_id": "2179197e9e834d118fc6d9e916eae244",
       "version_major": 2,
       "version_minor": 0
      },
      "text/plain": [
       "VBox(children=(Label(value=' 0.00MB of 0.00MB uploaded (0.00MB deduped)\\r'), FloatProgress(value=0.76479289940…"
      ]
     },
     "metadata": {},
     "output_type": "display_data"
    },
    {
     "data": {
      "text/html": [
       "Synced <strong style=\"color:#cdcd00\">Vincent Brouwers-SequentialFeatureSelector-13:26:34</strong>: <a href=\"https://wandb.ai/vincentbrouwers/sogeti-hackathon-feature-selection/runs/o6oxx0yz\" target=\"_blank\">https://wandb.ai/vincentbrouwers/sogeti-hackathon-feature-selection/runs/o6oxx0yz</a><br/>\n"
      ],
      "text/plain": [
       "<IPython.core.display.HTML object>"
      ]
     },
     "metadata": {},
     "output_type": "display_data"
    }
   ],
   "source": [
    "from sklearn.feature_selection import SequentialFeatureSelector\n",
    "\n",
    "direction = \"forward\"\n",
    "# direction = \"backward\"\n",
    "\n",
    "clf = LogisticRegression(max_iter=1000)\n",
    "selector = SequentialFeatureSelector(clf, n_features_to_select=5, direction=direction, scoring=\"f1\", n_jobs=-1)\n",
    "\n",
    "selector = selector.fit(X_train, y_train)\n",
    "\n",
    "test_selector(selector)"
   ]
  },
  {
   "cell_type": "markdown",
   "metadata": {},
   "source": [
    "### Own selection\n",
    "\n",
    "Now try it for yourself. Is there another method of feature selection you would like to try? Do yo think combining other methods might "
   ]
  },
  {
   "cell_type": "code",
   "execution_count": 18,
   "metadata": {},
   "outputs": [
    {
     "data": {
      "application/vnd.jupyter.widget-view+json": {
       "model_id": "f9a02017adc4406ea562d6c2b5384f3a",
       "version_major": 2,
       "version_minor": 0
      },
      "text/plain": [
       "  0%|          | 0/6 [00:00<?, ?it/s]"
      ]
     },
     "metadata": {},
     "output_type": "display_data"
    },
    {
     "name": "stdout",
     "output_type": "stream",
     "text": [
      "Classifier              Accuracy         F1               Precision        Recall\n",
      "----------------------  ---------------  ---------------  ---------------  ---------------\n",
      "DecisionTreeClassifier  0.7691 (0.0000)  0.6154 (0.0000)  0.6915 (0.0000)  0.5544 (0.0000)\n",
      "RandomForestClassifier  0.7565 (0.0035)  0.6508 (0.0054)  0.6232 (0.0045)  0.6809 (0.0064)\n",
      "LogisticRegression      0.7552 (0.0000)  0.5839 (0.0000)  0.6730 (0.0000)  0.5157 (0.0000)\n",
      "LogisticRegression_l1   0.7557 (0.0003)  0.5845 (0.0003)  0.6744 (0.0007)  0.5157 (0.0000)\n",
      "LogisticRegression_l2   0.7552 (0.0000)  0.5839 (0.0000)  0.6730 (0.0000)  0.5157 (0.0000)\n",
      "KNeighborsClassifier    0.7562 (0.0000)  0.5647 (0.0000)  0.6970 (0.0000)  0.4746 (0.0000)\n",
      "Average                 0.7580 (0.0006)  0.5972 (0.0009)  0.6720 (0.0009)  0.5428 (0.0011)\n"
     ]
    }
   ],
   "source": [
    "used_features = [\n",
    "    0,\n",
    "    1,\n",
    "    2,\n",
    "    3,\n",
    "    4,\n",
    "    5,\n",
    "    6,\n",
    "    7,\n",
    "    8,\n",
    "    9,\n",
    "    10,\n",
    "    11,\n",
    "    12,\n",
    "    13,\n",
    "    14,\n",
    "    15,\n",
    "    16,\n",
    "    17,\n",
    "    18,\n",
    "    19,\n",
    "    20,\n",
    "    21,\n",
    "    22,\n",
    "]\n",
    "\n",
    "scores = test_selection(used_features, compare=baseline)\n",
    "\n",
    "# Uncomment this as soon as you want to upload your run to Weights&Biases. \n",
    "# log_scores(scores, used_features, \"Custom\")\n"
   ]
  }
 ],
 "metadata": {
  "interpreter": {
   "hash": "194a1ef71cbe383bb0e91fd20851e850791a3f40c244816884283bb052247dec"
  },
  "kernelspec": {
   "display_name": "Python 3.10.2 64-bit ('hackathon-feature-selection': conda)",
   "language": "python",
   "name": "python3"
  },
  "language_info": {
   "codemirror_mode": {
    "name": "ipython",
    "version": 3
   },
   "file_extension": ".py",
   "mimetype": "text/x-python",
   "name": "python",
   "nbconvert_exporter": "python",
   "pygments_lexer": "ipython3",
   "version": "3.10.2"
  },
  "orig_nbformat": 4
 },
 "nbformat": 4,
 "nbformat_minor": 2
}
